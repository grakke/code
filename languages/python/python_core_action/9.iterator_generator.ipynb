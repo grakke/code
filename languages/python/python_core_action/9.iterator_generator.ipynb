{
 "cells": [
  {
   "cell_type": "markdown",
   "metadata": {},
   "source": [
    "## 容器、可迭代对象和迭代器\n",
    "\n",
    "- 容器:对象的集合\n",
    "* 所有的容器都是可迭代的（iterable）\n",
    "* 可迭代对象 Iterable 调用 iter() 函数，得到一个迭代器\n",
    "  * 可以直接作用于for循环的对象\n",
    "  * 集合数据类型，如list、tuple、dict、set、str\n",
    "* 迭代器（iterator）通过 next() 函数来得到下一个元素，从而支持遍历\n",
    "  * 可以被next()函数调用并不断返回下一个数据，直到没有数据时抛出StopIteration错误\n",
    "  * 表示的是一个数据流,一个有序序列，但却不能提前知道序列的长度，只能不断通过next()函数实现按需计算下一个数据，所以Iterator的计算是惰性的，只有在需要返回下一个数据时它才会计算"
   ]
  },
  {
   "cell_type": "code",
   "execution_count": null,
   "metadata": {
    "collapsed": false,
    "pycharm": {
     "name": "#%%\n"
    }
   },
   "outputs": [],
   "source": [
    "\n",
    "# 生成器\n",
    "# list、dict、str等不是Iterator Iterable, 变成Iterator可以使用iter()函数\n",
    "\n",
    "from collections import Iterable, Iterator\n",
    "\n",
    "isinstance('abc', Iterable)  # str是否可迭代\n",
    "isinstance([1, 2, 3], Iterable)  # list是否可迭代\n",
    "isinstance(123, Iterable)  # 整数是否可迭代\n",
    "\n",
    "isinstance((x for x in range(10)), Iterator)  # True\n",
    "isinstance([], Iterator)  # False\n",
    "isinstance({}, Iterator)  # False\n",
    "isinstance('abc', Iterator)  # False\n",
    "isinstance(iter([]), Iterator)  # True\n",
    "isinstance(iter('abc'), Iterator)  # True\n",
    "\n",
    "# for循环本质上就是通过不断调用next()函数实现\n",
    "for i, value in enumerate(['A', 'B', 'C']):\n",
    "    print(i, value)\n",
    "\n",
    "for x, y in [(1, 1), (2, 4), (3, 9)]:\n",
    "    print(x, y)\n"
   ]
  },
  {
   "cell_type": "code",
   "execution_count": 1,
   "metadata": {},
   "outputs": [
    {
     "name": "stdout",
     "output_type": "stream",
     "text": [
      "1234 is iterable? False\n",
      "1234 is iterable? True\n",
      "[1, 2, 3, 4] is iterable? True\n",
      "{1, 2, 3, 4} is iterable? True\n",
      "{1: 1, 2: 2, 3: 3, 4: 4} is iterable? True\n",
      "(1, 2, 3, 4) is iterable? True\n"
     ]
    }
   ],
   "source": [
    "def is_iterable(param):\n",
    "    try:\n",
    "        iter(param)\n",
    "        return True\n",
    "    except TypeError:\n",
    "        return False\n",
    "\n",
    "\n",
    "params = [\n",
    "    1234,\n",
    "    '1234',\n",
    "    [1, 2, 3, 4],\n",
    "    set([1, 2, 3, 4]),\n",
    "    {1: 1, 2: 2, 3: 3, 4: 4},\n",
    "    (1, 2, 3, 4)\n",
    "]\n",
    "\n",
    "for param in params:\n",
    "    print('{} is iterable? {}'.format(param, is_iterable(param)))"
   ]
  },
  {
   "cell_type": "markdown",
   "metadata": {},
   "source": [
    "## 生成器 generator\n",
    "\n",
    "* 懒人版本的迭代器\n",
    "* 语法：\n",
    "  * 列表生成式的[]改成() (i for i in range(100000000))\n",
    "  * 带yield的generator function\n",
    "* 调用 next() 函数时才会生成下一个变量\n",
    "  * 保存的是算法，每次调用next(g)，就计算出g的下一个元素的值，直到计算到最后一个元素\n",
    "  * 在循环过程中不断调用yield，就会不断中断。当然要给循环设置一个条件来退出循环，不然就会产生一个无限数列出来\n",
    "  * 没有更多的元素时，抛出StopIteration的错误\n",
    "* 应用\n",
    "    - 协程的一种重要实现方式\n",
    "    - Python 3.5 引入 async await 语法糖后，生成器实现协程的方式就已经落后了\n"
   ]
  },
  {
   "cell_type": "code",
   "execution_count": null,
   "metadata": {
    "collapsed": false,
    "pycharm": {
     "name": "#%%\n"
    }
   },
   "outputs": [],
   "source": [
    "\n",
    "g = (x * x for x in range(10))\n",
    "\n",
    "# next(g)\n",
    "\n",
    "for n in g:\n",
    "    print(n)\n",
    "\n",
    "\n",
    "def fib(max):\n",
    "    n, a, b = 0, 0, 1\n",
    "    while n < max:\n",
    "        yield b\n",
    "        a, b = b, a + b\n",
    "        n = n + 1\n",
    "    return 'done'\n",
    "\n",
    "\n",
    "g = fib(6)\n",
    "while True:\n",
    "    try:\n",
    "        x = next(g)\n",
    "        print('g:', x)\n",
    "    except StopIteration as e:\n",
    "        print('Generator return value:', e.value)\n",
    "        break\n",
    "\n",
    "\n",
    "def odd():\n",
    "    print('step 1')\n",
    "    yield 1\n",
    "    print('step 2')\n",
    "    yield (3)\n",
    "    print('step 3')\n",
    "    yield (5)\n",
    "\n",
    "\n",
    "def triangles(n):\n",
    "    for i in range(1, n + 1):\n",
    "        if i == 1:\n",
    "            a = [1]\n",
    "        yield a\n",
    "        b = (i + 1) * [1]\n",
    "        for j in range(1, i):\n",
    "            b[j] = a[j - 1] + a[j]\n",
    "        a = b\n",
    "\n",
    "\n",
    "n = 0\n",
    "results = []\n",
    "for t in triangles(10):\n",
    "    print(t)\n",
    "    results.append(t)\n",
    "    n = n + 1\n",
    "    if n == 10:\n",
    "        break\n",
    "if results == [\n",
    "    [1],\n",
    "    [1, 1],\n",
    "    [1, 2, 1],\n",
    "    [1, 3, 3, 1],\n",
    "    [1, 4, 6, 4, 1],\n",
    "    [1, 5, 10, 10, 5, 1],\n",
    "    [1, 6, 15, 20, 15, 6, 1],\n",
    "    [1, 7, 21, 35, 35, 21, 7, 1],\n",
    "    [1, 8, 28, 56, 70, 56, 28, 8, 1],\n",
    "    [1, 9, 36, 84, 126, 126, 84, 36, 9, 1]\n",
    "]:\n",
    "    print('测试通过!')\n",
    "else:\n",
    "    print('测试失败!')"
   ]
  },
  {
   "cell_type": "code",
   "execution_count": 2,
   "metadata": {},
   "outputs": [],
   "source": [
    "import os\n",
    "import psutil\n",
    "\n",
    "\n",
    "def show_memory_info(hint):\n",
    "    # 显示当前 python 程序占用的内存大小\n",
    "    pid = os.getpid()\n",
    "    p = psutil.Process(pid)\n",
    "\n",
    "    info = p.memory_full_info()\n",
    "    memory = info.uss / 1024. / 1024\n",
    "    print('{} memory used: {} MB'.format(hint, memory))"
   ]
  },
  {
   "cell_type": "code",
   "execution_count": 5,
   "metadata": {},
   "outputs": [
    {
     "name": "stdout",
     "output_type": "stream",
     "text": [
      "initing iterator memory used: 63.265625 MB\n",
      "after iterator initiated memory used: 3707.609375 MB\n",
      "4999999950000000\n",
      "after sum called memory used: 3707.609375 MB\n",
      "CPU times: user 4.99 s, sys: 1.44 s, total: 6.43 s\n",
      "Wall time: 6.69 s\n",
      "---------\n",
      "initing generator memory used: 63.453125 MB\n",
      "after generator initiated memory used: 63.453125 MB\n",
      "4999999950000000\n",
      "after sum called memory used: 63.453125 MB\n",
      "CPU times: user 5.29 s, sys: 29.6 ms, total: 5.32 s\n",
      "Wall time: 5.5 s\n"
     ]
    }
   ],
   "source": [
    "def test_iterator():\n",
    "    show_memory_info('initing iterator')\n",
    "    # 迭代器声明\n",
    "    list_1 = [i for i in range(100000000)]\n",
    "    show_memory_info('after iterator initiated')\n",
    "    print(sum(list_1))\n",
    "    show_memory_info('after sum called')\n",
    "\n",
    "def test_generator():\n",
    "    show_memory_info('initing generator')\n",
    "    # 生成器声明\n",
    "    list_2 = (i for i in range(100000000))\n",
    "    show_memory_info('after generator initiated')\n",
    "    print(sum(list_2))\n",
    "    show_memory_info('after sum called')\n",
    "\n",
    "%time test_iterator()\n",
    "print('---------')\n",
    "%time test_generator()"
   ]
  },
  {
   "cell_type": "code",
   "execution_count": 6,
   "metadata": {},
   "outputs": [
    {
     "name": "stdout",
     "output_type": "stream",
     "text": [
      "next_1 = 1, next_3 = 1\n",
      "next_1 = 2, next_3 = 8\n",
      "next_1 = 3, next_3 = 27\n",
      "next_1 = 4, next_3 = 64\n",
      "next_1 = 5, next_3 = 125\n",
      "next_1 = 6, next_3 = 216\n",
      "next_1 = 7, next_3 = 343\n",
      "next_1 = 8, next_3 = 512\n",
      "1296 1296\n"
     ]
    }
   ],
   "source": [
    "# 验证 (1 + 2 + 3 + ... + n)^2 = 1^3 + 2^3 + 3^3 + ... + n^3\n",
    "def generator(k):\n",
    "    i = 1\n",
    "    while True:\n",
    "        yield i ** k\n",
    "        i += 1\n",
    "\n",
    "\n",
    "gen_1 = generator(1)\n",
    "gen_3 = generator(3)\n",
    "\n",
    "\n",
    "def get_sum(n):\n",
    "    sum_1, sum_3 = 0, 0\n",
    "    for i in range(n):\n",
    "        next_1 = next(gen_1)\n",
    "        next_3 = next(gen_3)\n",
    "        print('next_1 = {}, next_3 = {}'.format(next_1, next_3))\n",
    "        sum_1 += next_1\n",
    "        sum_3 += next_3\n",
    "    print(sum_1 * sum_1, sum_3)\n",
    "\n",
    "\n",
    "get_sum(8)"
   ]
  },
  {
   "cell_type": "code",
   "execution_count": 7,
   "metadata": {},
   "outputs": [
    {
     "name": "stdout",
     "output_type": "stream",
     "text": [
      "[2, 5, 9]\n"
     ]
    }
   ],
   "source": [
    "# 给定一个 list 和一个指定数字，求这个数字在 list 中的位置\n",
    "# 返回一个 Generator 对象，需要使用 list 转换为列表后，才能用 print 输出\n",
    "def index_generator(L, target):\n",
    "    for i, num in enumerate(L):\n",
    "        if num == target:\n",
    "            yield i\n",
    "\n",
    "print(list(index_generator([1, 6, 2, 4, 5, 2, 8, 6, 3, 2], 2)))"
   ]
  },
  {
   "cell_type": "markdown",
   "metadata": {},
   "source": [
    "### 给定两个序列，判定第一个是不是第二个的子序列\n",
    "\n",
    "- 一个列表的元素在第二个列表中都按顺序出现，但是并不必挨在一起\n"
   ]
  },
  {
   "cell_type": "code",
   "execution_count": 9,
   "metadata": {},
   "outputs": [
    {
     "name": "stdout",
     "output_type": "stream",
     "text": [
      "True\n",
      "False\n"
     ]
    }
   ],
   "source": [
    "# 常规算法是贪心算法。维护两个指针指向两个列表的最开始，然后对第二个序列一路扫过去，如果某个数字和第一个指针指的一样，那么就把第一个指针前进一步。第一个指针移出第一个序列最后一个元素的时候，返回 True，否则返回 False\n",
    "def is_subsequence(a, b):\n",
    "    b = iter(b)\n",
    "    return all(i in b for i in a)\n",
    "\n",
    "\n",
    "print(is_subsequence([1, 3, 5], [1, 2, 3, 4, 5]))\n",
    "print(is_subsequence([1, 4, 3], [1, 2, 3, 4, 5]))"
   ]
  },
  {
   "cell_type": "code",
   "execution_count": null,
   "metadata": {},
   "outputs": [],
   "source": [
    "def is_subsequence(a, b):\n",
    "    b = iter(b)\n",
    "    print(b)\n",
    "\n",
    "    gen = (i for i in a)\n",
    "    print(gen)\n",
    "\n",
    "    for i in gen:\n",
    "        print(i)\n",
    "\n",
    "    gen = ((i in b) for i in a)\n",
    "    # (i in b) 等价\n",
    "# while True:\n",
    "#     val = next(b)\n",
    "#     if val == i:\n",
    "#         yield True\n",
    "\n",
    "    print(gen)\n",
    "\n",
    "    for i in gen:\n",
    "        print(i)\n",
    "\n",
    "    return all(((i in b) for i in a))\n",
    "\n",
    "\n",
    "print(is_subsequence([1, 3, 5], [1, 2, 3, 4, 5]))"
   ]
  },
  {
   "cell_type": "code",
   "execution_count": null,
   "metadata": {},
   "outputs": [],
   "source": [
    "# next() 函数运行的时候，保存了当前的指针\n",
    "b = (i for i in range(5))\n",
    "# print(list(b))\n",
    "print(2 in b)\n",
    "print(4 in b)\n",
    "print(3 in b)"
   ]
  }
 ],
 "metadata": {
  "kernelspec": {
   "display_name": "Python_syntax",
   "language": "python",
   "name": "python_syntax"
  },
  "language_info": {
   "codemirror_mode": {
    "name": "ipython",
    "version": 3
   },
   "file_extension": ".py",
   "mimetype": "text/x-python",
   "name": "python",
   "nbconvert_exporter": "python",
   "pygments_lexer": "ipython3",
   "version": "3.9.19"
  },
  "toc": {
   "base_numbering": 1,
   "nav_menu": {},
   "number_sections": true,
   "sideBar": true,
   "skip_h1_title": false,
   "title_cell": "Table of Contents",
   "title_sidebar": "Contents",
   "toc_cell": false,
   "toc_position": {},
   "toc_section_display": true,
   "toc_window_display": false
  },
  "varInspector": {
   "cols": {
    "lenName": 16,
    "lenType": 16,
    "lenVar": 40
   },
   "kernels_config": {
    "python": {
     "delete_cmd_postfix": "",
     "delete_cmd_prefix": "del ",
     "library": "var_list.py",
     "varRefreshCmd": "print(var_dic_list())"
    },
    "r": {
     "delete_cmd_postfix": ") ",
     "delete_cmd_prefix": "rm(",
     "library": "var_list.r",
     "varRefreshCmd": "cat(var_dic_list()) "
    }
   },
   "types_to_exclude": [
    "module",
    "function",
    "builtin_function_or_method",
    "instance",
    "_Feature"
   ],
   "window_display": false
  }
 },
 "nbformat": 4,
 "nbformat_minor": 4
}
