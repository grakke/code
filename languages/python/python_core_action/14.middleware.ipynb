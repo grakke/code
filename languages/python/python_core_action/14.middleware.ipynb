{
 "cells": [
  {
   "cell_type": "markdown",
   "metadata": {},
   "source": [
    "# 中间件\n",
    "\n",
    "## 消息队列\n",
    "\n",
    "- 要运行代码，请先运行两个订阅者，然后再打开发布者"
   ]
  },
  {
   "cell_type": "code",
   "execution_count": null,
   "metadata": {},
   "outputs": [],
   "source": [
    "# 订阅者 1\n",
    "import zmq\n",
    "\n",
    "\n",
    "def run():\n",
    "    context = zmq.Context()\n",
    "    socket = context.socket(zmq.SUB)\n",
    "    socket.connect('tcp://127.0.0.1:6666')\n",
    "    socket.setsockopt_string(zmq.SUBSCRIBE, '')\n",
    "\n",
    "    print('client 1')\n",
    "    while True:\n",
    "        msg = socket.recv()\n",
    "        print(\"msg: %s\" % msg)\n",
    "\n",
    "\n",
    "# if __name__ == '__main__':\n",
    "run()"
   ]
  },
  {
   "cell_type": "code",
   "execution_count": null,
   "metadata": {},
   "outputs": [],
   "source": [
    "# 订阅者 2\n",
    "import zmq\n",
    "\n",
    "\n",
    "def run():\n",
    "    context = zmq.Context()\n",
    "    socket = context.socket(zmq.SUB)\n",
    "    socket.connect('tcp://127.0.0.1:6666')\n",
    "    socket.setsockopt_string(zmq.SUBSCRIBE, '')\n",
    "\n",
    "    print('client 2')\n",
    "    while True:\n",
    "        msg = socket.recv()\n",
    "        print(\"msg: %s\" % msg)\n",
    "\n",
    "\n",
    "# if __name__ == '__main__':\n",
    "run()"
   ]
  },
  {
   "cell_type": "code",
   "execution_count": null,
   "metadata": {},
   "outputs": [],
   "source": [
    "# 发布者\n",
    "import time\n",
    "import zmq\n",
    "\n",
    "\n",
    "def run():\n",
    "    context = zmq.Context()\n",
    "    socket = context.socket(zmq.PUB)\n",
    "    socket.bind('tcp://*:6666')\n",
    "\n",
    "    cnt = 1\n",
    "\n",
    "    while True:\n",
    "        time.sleep(1)\n",
    "        socket.send_string('server cnt {}'.format(cnt))\n",
    "        print('send {}'.format(cnt))\n",
    "        cnt += 1\n",
    "\n",
    "\n",
    "# if __name__ == '__main__':\n",
    "run()"
   ]
  },
  {
   "cell_type": "markdown",
   "metadata": {},
   "source": [
    "# MySQL"
   ]
  },
  {
   "cell_type": "code",
   "execution_count": null,
   "metadata": {},
   "outputs": [],
   "source": [
    "import MySQLdb\n",
    "\n",
    "\n",
    "def test_pymysql():\n",
    "    conn = MySQLdb.connect(\n",
    "        host='localhost',\n",
    "        port=3306,\n",
    "        user='your_username',\n",
    "        passwd='your_password',\n",
    "        db='mysql'\n",
    "    )\n",
    "\n",
    "    cur = conn.cursor()\n",
    "    cur.execute('''\n",
    "            CREATE TABLE price (\n",
    "                timestamp TIMESTAMP NOT NULL,\n",
    "                BTCUSD FLOAT(8,2),\n",
    "                PRIMARY KEY (timestamp)\n",
    "            );\n",
    "        ''')\n",
    "    cur.execute('''\n",
    "            INSERT INTO price VALUES(\n",
    "                \"2019-07-14 14:12:17\",\n",
    "                11234.56\n",
    "            );\n",
    "        ''')\n",
    "\n",
    "    conn.commit()\n",
    "    conn.close()\n",
    "\n",
    "\n",
    "test_pymysql()"
   ]
  },
  {
   "cell_type": "markdown",
   "metadata": {},
   "source": [
    "### peewee"
   ]
  },
  {
   "cell_type": "code",
   "execution_count": null,
   "metadata": {},
   "outputs": [],
   "source": [
    "import peewee\n",
    "from peewee import *\n",
    "\n",
    "db = MySQLDatabase('mysql', user='your_username', passwd='your_password')\n",
    "\n",
    "\n",
    "class Price(peewee.Model):\n",
    "    timestamp = peewee.DateTimeField(primary_key=True)\n",
    "    BTCUSD = peewee.FloatField()\n",
    "\n",
    "    class Meta:\n",
    "        database = db\n",
    "\n",
    "\n",
    "def test_peewee():\n",
    "    Price.create_table()\n",
    "    price = Price(timestamp='2019-06-07 13:17:18', BTCUSD='12345.67')\n",
    "    price.save()\n",
    "\n",
    "\n",
    "test_peewee()"
   ]
  },
  {
   "cell_type": "markdown",
   "metadata": {},
   "source": [
    "### 时间序列分析"
   ]
  },
  {
   "cell_type": "code",
   "execution_count": null,
   "metadata": {},
   "outputs": [],
   "source": [
    "import MySQLdb\n",
    "import numpy as np\n",
    "\n",
    "\n",
    "def test_pymysql():\n",
    "    conn = MySQLdb.connect(\n",
    "        host='localhost',\n",
    "        port=3306,\n",
    "        user='your_username',\n",
    "        passwd='your_password',\n",
    "        db='mysql'\n",
    "    )\n",
    "\n",
    "    cur = conn.cursor()\n",
    "    cur.execute('''\n",
    "            SELECT\n",
    "              BTCUSD\n",
    "            FROM\n",
    "              price\n",
    "            WHERE\n",
    "              timestamp > now() - interval 60 minute\n",
    "    ''')\n",
    "\n",
    "    BTCUSD = np.array(cur.fetchall())\n",
    "    print(BTCUSD.max(), BTCUSD.min())\n",
    "\n",
    "    conn.close()\n",
    "\n",
    "\n",
    "test_pymysql()"
   ]
  }
 ],
 "metadata": {
  "language_info": {
   "name": "python"
  },
  "orig_nbformat": 4
 },
 "nbformat": 4,
 "nbformat_minor": 2
}
