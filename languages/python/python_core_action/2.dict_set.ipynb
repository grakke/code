{
 "cells": [
  {
   "cell_type": "markdown",
   "metadata": {},
   "source": [
    "## 字典 && 集合\n"
   ]
  },
  {
   "cell_type": "markdown",
   "metadata": {},
   "source": [
    "### 字典 dict\n",
    "\n",
    "- 一系列由键（key）和值（value）配对组成的元素的集合\n",
    "- Python3.7+，字典被确定为有序\n",
    "- 3.6 之前是无序的，其长度大小可变，元素可以任意地删减和改变\n",
    "- 对于查找、添加和删除操作，常数时间复杂度内完成"
   ]
  },
  {
   "cell_type": "code",
   "execution_count": null,
   "metadata": {},
   "outputs": [],
   "source": [
    "# 初始化\n",
    "d1 = {'name': 'jason', 'age': 20, 'gender': 'male'}\n",
    "d2 = dict({'name': 'jason', 'age': 20, 'gender': 'male'})\n",
    "d3 = dict([('name', 'jason'), ('age', 20), ('gender', 'male')])\n",
    "d4 = dict(name='jason', age=20, gender='male')\n",
    "d1 == d2 == d3 == d4"
   ]
  },
  {
   "cell_type": "code",
   "execution_count": null,
   "metadata": {},
   "outputs": [],
   "source": [
    "# key 必须为不可变类型： list or tuple[list] 都不行\n",
    "d = {'name': 'jason', ('education'): ['Tsinghua University', 'Stanford University']}"
   ]
  },
  {
   "cell_type": "code",
   "execution_count": null,
   "metadata": {},
   "outputs": [],
   "source": [
    "# 访问\n",
    "d1['name']"
   ]
  },
  {
   "cell_type": "code",
   "execution_count": null,
   "metadata": {},
   "outputs": [],
   "source": [
    "d1.get('gender', 'female')"
   ]
  },
  {
   "cell_type": "code",
   "execution_count": null,
   "metadata": {},
   "outputs": [],
   "source": [
    "'name' in d1"
   ]
  },
  {
   "cell_type": "code",
   "execution_count": null,
   "metadata": {
    "collapsed": false,
    "pycharm": {
     "name": "#%%\n"
    }
   },
   "outputs": [],
   "source": [
    "d1 = {'name': 'jason', 'age': 20, 'gender': 'male'}\n",
    "d1.update({'name': 'henry'})"
   ]
  },
  {
   "cell_type": "code",
   "execution_count": null,
   "metadata": {},
   "outputs": [],
   "source": [
    "d1['dob'] = '1999-0201'  # 新增\n",
    "d1['age'] = 21  # 修改\n",
    "d1"
   ]
  },
  {
   "cell_type": "code",
   "execution_count": null,
   "metadata": {},
   "outputs": [],
   "source": [
    "d1.pop('gender')  # 删除\n",
    "d1"
   ]
  },
  {
   "cell_type": "code",
   "execution_count": null,
   "metadata": {},
   "outputs": [],
   "source": [
    "# 根据键或值排序\n",
    "d5 = {'b': 1, 'a': 4, 'd': 36, 'c': 99}\n",
    "sorted(d5.items(), key=lambda x: x[0])"
   ]
  },
  {
   "cell_type": "code",
   "execution_count": null,
   "metadata": {},
   "outputs": [],
   "source": [
    "sorted(d5.items(), key=lambda x: x[1])"
   ]
  },
  {
   "cell_type": "code",
   "execution_count": null,
   "metadata": {
    "collapsed": false,
    "pycharm": {
     "name": "#%%\n"
    }
   },
   "outputs": [],
   "source": [
    "# dict\n",
    "\n",
    "d = {'henry': 80, 'michael': 75, 'Tracy': 85}\n",
    "\n",
    "print('henry' in d)\n",
    "print(d.get('tomas'))\n",
    "print(d.get('tomas', -1))\n",
    "print(d['henry'])\n",
    "d['Adam'] = 67\n",
    "d.pop('michael')\n",
    "print(d)\n",
    "\n",
    "print({(3, 5, 7): 'henry'})\n",
    "\n",
    "cache = {}\n",
    "\n",
    "\n",
    "# def get_page(url):\n",
    "#     if cache.get(url):\n",
    "#         return cache[url]\n",
    "#     else:\n",
    "#         data = get_data_from_server(url)\n",
    "#         cache[url] = data\n",
    "#         return data\n"
   ]
  },
  {
   "cell_type": "markdown",
   "metadata": {},
   "source": [
    "### 集合 Set\n",
    "\n",
    "- 一系列无序的、唯一的元素组合\n",
    "- 不支持索引操作，本质上是一个哈希表\n",
    "- pop() 操作是删除集合中最后一个元素，可是集合本身是无序的，无法知道会删除哪个元素，因此这个操作得谨慎使用"
   ]
  },
  {
   "cell_type": "code",
   "execution_count": null,
   "metadata": {},
   "outputs": [],
   "source": [
    "# 初始化\n",
    "s1 = {1, 2, 3}\n",
    "s2 = set([1, 2, 3])\n",
    "print(s1 == s2)"
   ]
  },
  {
   "cell_type": "code",
   "execution_count": null,
   "metadata": {},
   "outputs": [],
   "source": [
    "s1.add(4)\n",
    "print(s1)\n",
    "s1.remove(4)\n",
    "s1"
   ]
  },
  {
   "cell_type": "code",
   "execution_count": null,
   "metadata": {
    "collapsed": false,
    "pycharm": {
     "name": "#%%\n"
    }
   },
   "outputs": [],
   "source": [
    "5 in s1"
   ]
  },
  {
   "cell_type": "code",
   "execution_count": null,
   "metadata": {
    "collapsed": false,
    "pycharm": {
     "name": "#%%\n"
    }
   },
   "outputs": [],
   "source": [
    "# set 一组key集合，但不存储value\n",
    "# key不能重复\n",
    "\n",
    "s = {1, 1, 2, 2, 3, 3}\n",
    "print(s)\n",
    "\n",
    "s.add(4)\n",
    "print(s)\n",
    "\n",
    "s.remove(2)\n",
    "print(s)"
   ]
  },
  {
   "cell_type": "code",
   "execution_count": null,
   "metadata": {
    "collapsed": false,
    "pycharm": {
     "name": "#%%\n"
    }
   },
   "outputs": [],
   "source": [
    "s1 = {2, 4, 6}\n",
    "print(s & s1)  # 交集 {2}\n",
    "print(s | s1)  # 并集\n",
    "print(s - s1)  # 差集\n",
    "s1 - s"
   ]
  },
  {
   "cell_type": "code",
   "execution_count": null,
   "metadata": {},
   "outputs": [],
   "source": [
    "s1.pop()"
   ]
  },
  {
   "cell_type": "code",
   "execution_count": null,
   "metadata": {},
   "outputs": [],
   "source": [
    "s1"
   ]
  },
  {
   "cell_type": "code",
   "execution_count": null,
   "metadata": {},
   "outputs": [],
   "source": [
    "sorted({9, 5, 7, 4, 10})"
   ]
  },
  {
   "cell_type": "markdown",
   "metadata": {},
   "source": [
    "##### 性能\n",
    "\n",
    "* 集合:元素不能重复(自动去重功能)，添加和查找 O(1) 复杂度"
   ]
  },
  {
   "cell_type": "code",
   "execution_count": null,
   "metadata": {},
   "outputs": [],
   "source": [
    "## 有多少种不同价格\n",
    "products = [\n",
    "    (143121312, 100),\n",
    "    (432314553, 30),\n",
    "    (32421912367, 150),\n",
    "    (937153201, 30),\n",
    "    (937153200, 50)\n",
    "]\n",
    "\n",
    "\n",
    "def find_unique_price_using_list(products):\n",
    "    unique_price_list = []\n",
    "    for _, price in products:  # A\n",
    "        if price not in unique_price_list:  #B\n",
    "            unique_price_list.append(price)\n",
    "    return len(unique_price_list)\n",
    "\n",
    "\n",
    "print('number of unique price is: {}'.format(find_unique_price_using_list(products)))\n",
    "\n",
    "\n",
    "def find_unique_price_using_set(products):\n",
    "    unique_price_set = set()\n",
    "    for _, price in products:\n",
    "        unique_price_set.add(price)\n",
    "    return len(unique_price_set)\n",
    "\n",
    "\n",
    "print('number of unique price is: {}'.format(find_unique_price_using_set(products)))"
   ]
  },
  {
   "cell_type": "code",
   "execution_count": null,
   "metadata": {},
   "outputs": [],
   "source": [
    "products = {143121312: 100, 432314553: 30, 32421912367: 150}\n",
    "print('The price of product 432314553 is {}'.format(products[432314553]))"
   ]
  },
  {
   "cell_type": "markdown",
   "metadata": {},
   "source": [
    "##### 运行时间"
   ]
  },
  {
   "cell_type": "code",
   "execution_count": null,
   "metadata": {},
   "outputs": [],
   "source": [
    "import time\n",
    "\n",
    "id = [x for x in range(0, 100000)]\n",
    "price = [x for x in range(200000, 300000)]\n",
    "products = list(zip(id, price))"
   ]
  },
  {
   "cell_type": "code",
   "execution_count": null,
   "metadata": {},
   "outputs": [],
   "source": [
    "# 列表版本的时间\n",
    "start_using_list = time.perf_counter()\n",
    "find_unique_price_using_list(products)\n",
    "end_using_list = time.perf_counter()\n",
    "print(\"time elapse using list: {}\".format(end_using_list - start_using_list))"
   ]
  },
  {
   "cell_type": "code",
   "execution_count": null,
   "metadata": {},
   "outputs": [],
   "source": [
    "# 集合版本的时间\n",
    "start_using_set = time.perf_counter()\n",
    "find_unique_price_using_set(products)\n",
    "end_using_set = time.perf_counter()\n",
    "print(\"time elapse using set: {}\".format(end_using_set - start_using_set))"
   ]
  },
  {
   "cell_type": "markdown",
   "metadata": {},
   "source": [
    "#### 结构\n",
    "\n",
    "* 内部结构都是一张哈希表\n",
    "    - 老版本中:对每条数据的每个字段做hash,随着哈希表的扩张，会变得越来越稀疏.\n",
    "        + 浪费存储空间\n",
    "        + 随机寻址\n",
    "    - 新版本：会把索引和哈希值、键、值单独分开\n",
    "        + 通过添加一层索引，数据改为序列化存储\n",
    "* 字典:存储了哈希值（hash）、键和值这 3 个元素\n",
    "* 集合:哈希表内没有键和值的配对，只有单一的元素"
   ]
  },
  {
   "cell_type": "markdown",
   "metadata": {},
   "source": [
    "##### 复杂度\n",
    "\n",
    "* 插入\n",
    "    - 计算键的哈希值（hash(key)），再和 mask = PyDicMinSize - 1 做与操作，计算这个元素应该插入哈希表的位置 index = hash(key) & mask\n",
    "    - 如果哈希表中此位置是空的，那么这个元素就会被插入其中\n",
    "    - 如果此位置已被占用，比较两个元素的哈希值和键是否相等\n",
    "        + 两者都相等，表明元素已经存在\n",
    "        + 值不同，更新值\n",
    "        + 哈希冲突（hash collision）:两者中有一个不相等，意思是两个元素的键不相等，但是哈希值相等。会继续寻找表中空余的位置，直到找到位置为止\n",
    "* 查找\n",
    "    - 根据哈希值，找到其应该处于的位置\n",
    "    - 比较哈希表这个位置中元素的哈希值和键，与需要查找的元素是否相等\n",
    "    - 相等，则直接返回\n",
    "    - 不等，则继续查找，直到找到空位或者抛出异常为止\n",
    "* 删除：会暂时对这个位置的元素，赋于一个特殊的值，等到重新调整哈希表的大小时，再将其删除\n",
    "* 优化：哈希冲突的发生，往往会降低字典和集合操作的速度\n",
    "    - 为了保证其高效性，字典和集合内的哈希表，通常会保证其至少留有 1/3 的剩余空间\n",
    "    - 随着元素的不停插入，当剩余空间小于 1/3 时，Python 会重新获取更大的内存空间，扩充哈希表。这种情况下，表内所有的元素位置都会被重新排放"
   ]
  }
 ],
 "metadata": {
  "kernelspec": {
   "display_name": "Python_syntax",
   "language": "python",
   "name": "python_syntax"
  },
  "language_info": {
   "codemirror_mode": {
    "name": "ipython",
    "version": 3
   },
   "file_extension": ".py",
   "mimetype": "text/x-python",
   "name": "python",
   "nbconvert_exporter": "python",
   "pygments_lexer": "ipython3",
   "version": "3.9.19"
  },
  "toc": {
   "base_numbering": 1,
   "nav_menu": {},
   "number_sections": true,
   "sideBar": true,
   "skip_h1_title": false,
   "title_cell": "Table of Contents",
   "title_sidebar": "Contents",
   "toc_cell": false,
   "toc_position": {},
   "toc_section_display": true,
   "toc_window_display": false
  },
  "varInspector": {
   "cols": {
    "lenName": 16,
    "lenType": 16,
    "lenVar": 40
   },
   "kernels_config": {
    "python": {
     "delete_cmd_postfix": "",
     "delete_cmd_prefix": "del ",
     "library": "var_list.py",
     "varRefreshCmd": "print(var_dic_list())"
    },
    "r": {
     "delete_cmd_postfix": ") ",
     "delete_cmd_prefix": "rm(",
     "library": "var_list.r",
     "varRefreshCmd": "cat(var_dic_list()) "
    }
   },
   "types_to_exclude": [
    "module",
    "function",
    "builtin_function_or_method",
    "instance",
    "_Feature"
   ],
   "window_display": false
  }
 },
 "nbformat": 4,
 "nbformat_minor": 4
}
