{
 "cells": [
  {
   "cell_type": "markdown",
   "metadata": {
    "collapsed": false
   },
   "source": [
    "## IO"
   ]
  },
  {
   "cell_type": "markdown",
   "metadata": {
    "collapsed": false,
    "pycharm": {
     "name": "#%% md\n"
    }
   },
   "source": [
    "### 文件读写\n",
    "\n",
    "- 文本文件\n",
    "- 二进制文件"
   ]
  },
  {
   "cell_type": "code",
   "execution_count": null,
   "metadata": {
    "collapsed": false,
    "pycharm": {
     "name": "#%%\n"
    }
   },
   "outputs": [],
   "source": [
    "with open('../data/content.txt', 'a', encoding='utf8') as f:\n",
    "    f.write('Hello, world! \\n')\n",
    "\n",
    "with open('../data/content.txt', 'r', encoding='utf8', errors='ignore') as f:\n",
    "    print(f.read())\n",
    "\n",
    "    for line in f.readlines():\n",
    "        print(line.strip())\n",
    "\n",
    "# with open('test.jpg', 'rb') as f:\n",
    "#     f.read()"
   ]
  },
  {
   "cell_type": "code",
   "execution_count": null,
   "metadata": {
    "collapsed": false,
    "pycharm": {
     "name": "#%%\n"
    }
   },
   "outputs": [],
   "source": [
    "import os\n",
    "\n",
    "os.path.abspath('')"
   ]
  },
  {
   "cell_type": "markdown",
   "metadata": {
    "collapsed": false
   },
   "source": [
    "### 文件操作"
   ]
  },
  {
   "cell_type": "code",
   "execution_count": null,
   "metadata": {
    "collapsed": false,
    "pycharm": {
     "name": "#%%\n"
    }
   },
   "outputs": [],
   "source": [
    "import os\n",
    "\n",
    "# 环境变量\n",
    "print(os.name, os.uname)\n",
    "print(os.environ)\n",
    "print(os.environ.get('PATH'))\n",
    "\n",
    "# 目录\n",
    "basepath = os.path.abspath('')\n",
    "realPath = os.path.join(basepath, 'testdir')\n",
    "\n",
    "if os.path.isdir(realPath) == False:\n",
    "    os.mkdir(realPath)\n",
    "\n",
    "print(os.path.split(realPath))\n",
    "print(os.path.splitext(realPath))\n",
    "\n",
    "if os.path.isdir((realPath)) == True:\n",
    "    os.rmdir(realPath)\n",
    "\n",
    "# 文件\n",
    "os.rename('tests.txt', 'tests.py')\n",
    "os.remove('tests.py')\n",
    "\n",
    "print([x for x in os.listdir('../') if os.path.isdir(x)])\n",
    "print([x for x in os.listdir('') if os.path.isfile(\n",
    "    x) and os.path.splitext(x)[1] == '.py'])"
   ]
  },
  {
   "cell_type": "markdown",
   "metadata": {
    "collapsed": false
   },
   "source": [
    "### StringIO"
   ]
  },
  {
   "cell_type": "code",
   "execution_count": null,
   "metadata": {
    "collapsed": false,
    "pycharm": {
     "name": "#%%\n"
    }
   },
   "outputs": [],
   "source": [
    "from io import StringIO\n",
    "\n",
    "f = StringIO()\n",
    "f.write('hello')\n",
    "f.write(' ')\n",
    "f.write('world!')\n",
    "f.getvalue()"
   ]
  },
  {
   "cell_type": "markdown",
   "metadata": {
    "collapsed": false
   },
   "source": [
    "### BytesIO"
   ]
  },
  {
   "cell_type": "code",
   "execution_count": null,
   "metadata": {
    "collapsed": false,
    "pycharm": {
     "name": "#%%\n"
    }
   },
   "outputs": [],
   "source": [
    "from io import BytesIO\n",
    "\n",
    "f = BytesIO()\n",
    "f.write('中文'.encode('utf-8'))\n",
    "f.getvalue()"
   ]
  },
  {
   "cell_type": "markdown",
   "metadata": {},
   "source": [
    "### 输入输出\n",
    "\n",
    "* input() 函数暂停程序运行，同时等待键盘输入；直到回车被按下，函数的参数即为提示语，输入类型永远是字符串型（str）\n",
    "* 对 int 类型没有最大限制（相比之下， C++ 的 int 最大为 2147483647，超过这个数字会产生溢出），但是对 float 类型依然有精度限制"
   ]
  },
  {
   "cell_type": "code",
   "execution_count": null,
   "metadata": {},
   "outputs": [],
   "source": [
    "name = input('your name:')\n",
    "gender = input('you are a boy?(y/n)')\n",
    "\n",
    "welcome_str = 'Welcome to the matrix {prefix} {name}.'\n",
    "welcome_dic = {\n",
    "    'prefix': 'Mr.' if gender == 'y' else 'Mrs',\n",
    "    'name': name\n",
    "}\n",
    "\n",
    "print('authorizing...')\n",
    "welcome_str.format(**welcome_dic)"
   ]
  },
  {
   "cell_type": "markdown",
   "metadata": {},
   "source": [
    "## 简单 NLP（自然语言处理）任务\n",
    "\n",
    "- 给 read 指定参数 size ，用来表示读取最大长度\n",
    "- 通过 readline() 函数，每次读取一行，常用于数据挖掘（Data Mining）中数据清洗，在写一些小的程序时非常轻便\n",
    "- with 语句 不需要显式调用 close()\n"
   ]
  },
  {
   "cell_type": "code",
   "execution_count": null,
   "metadata": {},
   "outputs": [],
   "source": [
    "import re\n",
    "\n",
    "\n",
    "def parse(text):\n",
    "    text = re.sub(r'[^\\w]', ' ', text)\n",
    "    text = text.lower()\n",
    "    word_list = text.split(' ')\n",
    "    # 去除空白单词\n",
    "    word_list = filter(None, word_list)\n",
    "\n",
    "    # 生成单词和词频的字典\n",
    "    word_cnt = {}\n",
    "    for word in word_list:\n",
    "        if word not in word_cnt:\n",
    "            word_cnt[word] = 0\n",
    "        word_cnt[word] += 1\n",
    "    sorted_word_cnt = sorted(\n",
    "        word_cnt.items(), key=lambda kv: kv[1], reverse=True)\n",
    "\n",
    "    return sorted_word_cnt\n",
    "\n",
    "\n",
    "with open('in.txt', 'r') as fin:\n",
    "    text = fin.read()\n",
    "\n",
    "word_and_freq = parse(text)\n",
    "with open('out.txt', 'w') as fout:\n",
    "    for word, freq in word_and_freq:\n",
    "        fout.write('{} {}\\n'.format(word, freq))"
   ]
  },
  {
   "cell_type": "markdown",
   "metadata": {
    "collapsed": false
   },
   "source": [
    "### 序列化"
   ]
  },
  {
   "cell_type": "code",
   "execution_count": null,
   "metadata": {
    "collapsed": false,
    "pycharm": {
     "name": "#%%\n"
    }
   },
   "outputs": [],
   "source": [
    "import pickle, json\n",
    "\n",
    "d = dict(name='Bob', age=20, score=88)\n",
    "with open('../data/content.txt', 'wb') as f:\n",
    "    pickle.dump(d, f)\n",
    "\n",
    "with open('../data/content.txt', 'rb') as f:\n",
    "    d = pickle.load(f)\n",
    "    print(d)"
   ]
  },
  {
   "cell_type": "markdown",
   "metadata": {},
   "source": [
    "#### JSON 序列化与实战"
   ]
  },
  {
   "cell_type": "code",
   "execution_count": null,
   "metadata": {},
   "outputs": [],
   "source": [
    "import json\n",
    "\n",
    "params = {\n",
    "    'symbol': '123456',\n",
    "    'type': 'limit',\n",
    "    'price': 123.4,\n",
    "    'amount': 23\n",
    "}\n",
    "\n",
    "with open('params.json', 'w') as fout:\n",
    "    params_str = json.dump(params, fout)\n",
    "\n",
    "print('after json serialization')\n",
    "print('type of params_str = {}, params_str = {}'.format(type(params_str), params))\n",
    "\n",
    "with open('params.json', 'r') as fin:\n",
    "    original_params = json.load(fin)\n",
    "\n",
    "print('after json deserialization')\n",
    "print('type of original_params = {}, original_params = {}'.format(type(original_params), original_params))"
   ]
  },
  {
   "cell_type": "markdown",
   "metadata": {
    "collapsed": false
   },
   "source": [
    "### context manager\n",
    "\n",
    "- 任何一门编程语言中文件输入输出、数据库连接断开等都是很常见的资源管理操作\n",
    "* 资源都是有限的，写程序时必须保证这些资源在使用后得到释放，不然就容易造成资源泄露，轻者使得系统处理缓慢，重则会使系统崩溃\n",
    "* 上下文管理器 能够帮助自动分配并且释放资源，最典型应用 with 语句\n",
    "* 基于类实现上下文管理器时，必须保证这个类包括方法\n",
    "    - __enter__ 返回需要被管理的资源\n",
    "    - __exit__ 通常会存在一些释放、清理资源操作,参数“exc_type, exc_val, exc_tb”表示 exception_type、exception_value 和 traceback\n",
    "    - 当执行含有上下文管理器 with 语句时，如果有异常抛出，异常信息会包含在这三个变量中，传入方法“__exit__()\n",
    "* 基于生成器实现"
   ]
  },
  {
   "cell_type": "code",
   "execution_count": null,
   "metadata": {
    "collapsed": false,
    "pycharm": {
     "name": "#%%\n"
    }
   },
   "outputs": [],
   "source": [
    "for x in range(10000000):\n",
    "    with open('test.txt', 'w') as f:\n",
    "        f.write('hello')"
   ]
  },
  {
   "cell_type": "code",
   "execution_count": null,
   "metadata": {
    "collapsed": false,
    "pycharm": {
     "name": "#%%\n"
    }
   },
   "outputs": [],
   "source": [
    "f = open('test.txt', 'w')\n",
    "try:\n",
    "    f.write('hello')\n",
    "finally:\n",
    "    f.close()"
   ]
  },
  {
   "cell_type": "code",
   "execution_count": null,
   "metadata": {
    "collapsed": false,
    "pycharm": {
     "name": "#%%\n"
    }
   },
   "outputs": [],
   "source": [
    "some_lock = threading.Lock()\n",
    "some_lock.acquire()\n",
    "try:\n",
    "    ...\n",
    "finally:\n",
    "    some_lock.release()"
   ]
  },
  {
   "cell_type": "code",
   "execution_count": null,
   "metadata": {
    "collapsed": false,
    "pycharm": {
     "name": "#%%\n"
    }
   },
   "outputs": [],
   "source": [
    "\n",
    "class FileManager:\n",
    "    def __init__(self, name, mode):\n",
    "        print('calling __init__ method')\n",
    "        self.name = name\n",
    "        self.mode = mode\n",
    "        self.file = None\n",
    "\n",
    "    def __enter__(self):\n",
    "        print('calling __enter__ method')\n",
    "        self.file = open(self.name, self.mode)\n",
    "        return self.file\n",
    "\n",
    "\n",
    "    def __exit__(self, exc_type, exc_val, exc_tb):\n",
    "        print('calling __exit__ method')\n",
    "        if exc_type:\n",
    "            print(f'exc_type: {exc_type}')\n",
    "            print(f'exc_value: {exc_value}')\n",
    "            print(f'exc_traceback: {exc_tb}')\n",
    "            print('exception handled')\n",
    "\n",
    "        if self.file:\n",
    "            self.file.close()\n",
    "\n",
    "with FileManager('test.txt', 'w') as f:\n",
    "    print('ready to write to file')\n",
    "    f.write('hello world')"
   ]
  },
  {
   "cell_type": "code",
   "execution_count": null,
   "metadata": {
    "collapsed": false,
    "pycharm": {
     "name": "#%%\n"
    }
   },
   "outputs": [],
   "source": [
    "\n",
    "from contextlib import contextmanager\n",
    "\n",
    "@contextmanager\n",
    "def file_manager(name, mode):\n",
    "    try:\n",
    "        f = open(name, mode)\n",
    "        yield f\n",
    "    finally:\n",
    "        f.close()\n",
    "\n",
    "with file_manager('test.txt', 'w') as f:\n",
    "    f.write('hello world')"
   ]
  },
  {
   "cell_type": "markdown",
   "metadata": {},
   "source": [
    "##### 思考\n",
    "\n",
    "* 制定长度，获取到下一个非字符位置，并存储\n",
    "* 有限容量网盘同步大文件\n",
    "    * 控制文件加状态：服务端传完，客户端才可以读取\n",
    "    * 检测文件是否传完"
   ]
  },
  {
   "cell_type": "code",
   "execution_count": null,
   "metadata": {},
   "outputs": [],
   "source": [
    "import re\n",
    "\n",
    "CHUNK_SIZE = 100  # 一次最多读取的字符长度\n",
    "\n",
    "\n",
    "# 这个函数每次会接收上一次得到的 last_word，然后和这次的 text 合并起来处理。\n",
    "# 合并后判断最后一个词有没有可能连续，并分离出来，然后返回。\n",
    "# 这里的代码没有 if 语句，但是仍然是正确的，可以想一想为什么。\n",
    "def parse_to_word_list(text, last_word, word_list):\n",
    "    text = re.sub(r'[^\\w ]', ' ', last_word + text)\n",
    "    text = text.lower()\n",
    "    cur_word_list = text.split(' ')\n",
    "    cur_word_list, last_word = cur_word_list[:-1], cur_word_list[-1]\n",
    "    word_list += filter(None, cur_word_list)\n",
    "\n",
    "    return last_word\n",
    "\n",
    "\n",
    "def solve():\n",
    "    with open('in.txt', 'r') as fin:\n",
    "        word_list, last_word = [], ''\n",
    "        while True:\n",
    "            text = fin.read(CHUNK_SIZE)\n",
    "            if not text:\n",
    "                break  # 读取完毕，中断循环\n",
    "            last_word = parse_to_word_list(text, last_word, word_list)\n",
    "\n",
    "        word_cnt = {}\n",
    "        for word in word_list:\n",
    "            if word not in word_cnt:\n",
    "                word_cnt[word] = 0\n",
    "            word_cnt[word] += 1\n",
    "\n",
    "        sorted_word_cnt = sorted(word_cnt.items(), key=lambda kv: kv[1], reverse=True)\n",
    "        return sorted_word_cnt\n",
    "\n",
    "\n",
    "print(solve())"
   ]
  },
  {
   "cell_type": "code",
   "execution_count": null,
   "metadata": {},
   "outputs": [],
   "source": [
    " # server.py\n",
    "# 假设 server 电脑上所有的文件都在 BASR_DIR 中，为了简化不考虑文件夹结构，网盘路径在 NET_DIR\n",
    "\n",
    "import os\n",
    "from shutil import copyfile\n",
    "import time\n",
    "\n",
    "BASE_DIR = 'server/'\n",
    "NET_DIR = 'net/'\n",
    "\n",
    "\n",
    "def main():\n",
    "    filenames = os.listdir(BASE_DIR)\n",
    "    for i, filename in enumerate(filenames):\n",
    "        print('copying {} into net drive... {}/{}'.format(filename, i + 1, len(filenames)))\n",
    "        copyfile(BASE_DIR + filename, NET_DIR + filename)\n",
    "        print('copied {} into net drive, waiting client complete... {}/{}'.format(filename, i + 1, len(filenames)))\n",
    "\n",
    "        while os.path.exists(NET_DIR + filename):\n",
    "            time.sleep(3)\n",
    "\n",
    "    print('transferred {} into client. {}/{}'.format(filename, i + 1, len(filenames)))\n",
    "\n",
    "\n",
    "if __name__ == \"__main__\":\n",
    "    main()"
   ]
  },
  {
   "cell_type": "code",
   "execution_count": null,
   "metadata": {},
   "outputs": [],
   "source": [
    "# client.py\n",
    "# 假设 client 输出文件夹 BASR_DIR ，网盘路径 NET_DIR\n",
    "\n",
    "import os\n",
    "from shutil import copyfile\n",
    "import time\n",
    "\n",
    "BASE_DIR = 'client/'\n",
    "NET_DIR = 'net/'\n",
    "\n",
    "\n",
    "def main():\n",
    "    while True:\n",
    "        filenames = os.listdir(NET_DIR)\n",
    "        for filename in filenames:\n",
    "            print('downloading {} into local disk...'.format(filename))\n",
    "            copyfile(NET_DIR + filename, BASE_DIR + filename)\n",
    "            os.remove(NET_DIR + filename)  # 我们需要删除这个文件，网盘会提我们同步这个操作，从而 server 知晓已完成\n",
    "            print('downloaded {} into local disk.'.format(filename))\n",
    "        time.sleep(3)\n",
    "\n",
    "\n",
    "if __name__ == \"__main__\":\n",
    "    main()"
   ]
  }
 ],
 "metadata": {
  "kernelspec": {
   "display_name": "Python 3",
   "language": "python",
   "name": "python3"
  },
  "language_info": {
   "codemirror_mode": {
    "name": "ipython",
    "version": 3
   },
   "file_extension": ".py",
   "mimetype": "text/x-python",
   "name": "python",
   "nbconvert_exporter": "python",
   "pygments_lexer": "ipython3",
   "version": "3.7.6"
  },
  "toc": {
   "base_numbering": 1,
   "nav_menu": {},
   "number_sections": true,
   "sideBar": true,
   "skip_h1_title": false,
   "title_cell": "Table of Contents",
   "title_sidebar": "Contents",
   "toc_cell": false,
   "toc_position": {},
   "toc_section_display": true,
   "toc_window_display": false
  },
  "varInspector": {
   "cols": {
    "lenName": 16,
    "lenType": 16,
    "lenVar": 40
   },
   "kernels_config": {
    "python": {
     "delete_cmd_postfix": "",
     "delete_cmd_prefix": "del ",
     "library": "var_list.py",
     "varRefreshCmd": "print(var_dic_list())"
    },
    "r": {
     "delete_cmd_postfix": ") ",
     "delete_cmd_prefix": "rm(",
     "library": "var_list.r",
     "varRefreshCmd": "cat(var_dic_list()) "
    }
   },
   "types_to_exclude": [
    "module",
    "function",
    "builtin_function_or_method",
    "instance",
    "_Feature"
   ],
   "window_display": false
  }
 },
 "nbformat": 4,
 "nbformat_minor": 4
}
