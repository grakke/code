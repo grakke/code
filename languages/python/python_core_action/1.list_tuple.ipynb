{
 "cells": [
  {
   "cell_type": "markdown",
   "metadata": {
    "collapsed": false
   },
   "source": [
    "# 列表、元组\n",
    "\n",
    "- 列表、元组内部实现 都是 array 形式\n",
    "  - list 可变 一个 over-allocate 的 array\n",
    "  - tuple 不可变 长度大小固定\n"
   ]
  },
  {
   "cell_type": "markdown",
   "metadata": {},
   "source": [
    "## 操作\n"
   ]
  },
  {
   "cell_type": "code",
   "execution_count": null,
   "metadata": {},
   "outputs": [],
   "source": [
    "# 初始化\n",
    "l = [1, 2, 'hello', 'Arsenal', 'Zenger']\n",
    "l"
   ]
  },
  {
   "cell_type": "code",
   "execution_count": null,
   "metadata": {},
   "outputs": [],
   "source": [
    "# 修改\n",
    "l[2] = 40\n",
    "l[2]"
   ]
  },
  {
   "cell_type": "markdown",
   "metadata": {},
   "source": [
    "### 切片 slice\n"
   ]
  },
  {
   "cell_type": "code",
   "execution_count": null,
   "metadata": {},
   "outputs": [],
   "source": [
    "l[-1]"
   ]
  },
  {
   "cell_type": "code",
   "execution_count": null,
   "metadata": {},
   "outputs": [],
   "source": [
    "l[1:3]"
   ]
  },
  {
   "cell_type": "code",
   "execution_count": null,
   "metadata": {},
   "outputs": [],
   "source": [
    "l[1:]"
   ]
  },
  {
   "cell_type": "code",
   "execution_count": null,
   "metadata": {},
   "outputs": [],
   "source": [
    "l[:2]"
   ]
  },
  {
   "cell_type": "code",
   "execution_count": null,
   "metadata": {},
   "outputs": [],
   "source": [
    "l[:-2]"
   ]
  },
  {
   "cell_type": "code",
   "execution_count": null,
   "metadata": {},
   "outputs": [],
   "source": [
    "# 增加\n",
    "l.append(1)\n",
    "l"
   ]
  },
  {
   "cell_type": "code",
   "execution_count": null,
   "metadata": {},
   "outputs": [],
   "source": [
    "l.insert(2, 'New World!')\n",
    "l"
   ]
  },
  {
   "cell_type": "code",
   "execution_count": null,
   "metadata": {},
   "outputs": [],
   "source": [
    "# list 嵌套\n",
    "l2 = [[1, 2, 3], [4, 5, 6]]\n",
    "l2"
   ]
  },
  {
   "cell_type": "code",
   "execution_count": null,
   "metadata": {},
   "outputs": [],
   "source": [
    "l.pop()"
   ]
  },
  {
   "cell_type": "code",
   "execution_count": null,
   "metadata": {},
   "outputs": [],
   "source": [
    "# 修改：list 嵌套元组\n",
    "l3 = [[1, 2, 3, 4], (4, 5, 6)]\n",
    "l3[1] = [7, 8, 9]\n",
    "l3"
   ]
  },
  {
   "cell_type": "markdown",
   "metadata": {},
   "source": [
    "### 方法\n"
   ]
  },
  {
   "cell_type": "code",
   "execution_count": null,
   "metadata": {},
   "outputs": [],
   "source": [
    "l.count(1)"
   ]
  },
  {
   "cell_type": "code",
   "execution_count": null,
   "metadata": {},
   "outputs": [],
   "source": [
    "# 第一次出现 位置\n",
    "l.index(2)"
   ]
  },
  {
   "cell_type": "code",
   "execution_count": null,
   "metadata": {},
   "outputs": [],
   "source": [
    "# 倒转\n",
    "l.reverse()\n",
    "l"
   ]
  },
  {
   "cell_type": "code",
   "execution_count": null,
   "metadata": {},
   "outputs": [],
   "source": [
    "# 返回地址，生成新list\n",
    "list(reversed(l))"
   ]
  },
  {
   "cell_type": "code",
   "execution_count": null,
   "metadata": {},
   "outputs": [],
   "source": [
    "# 排序：不支持与字符混排\n",
    "l4 = [1, 6, 8, 9, 45, 0, 34]\n",
    "l4.sort()\n",
    "l4"
   ]
  },
  {
   "cell_type": "code",
   "execution_count": null,
   "metadata": {},
   "outputs": [],
   "source": [
    "# 生成新list\n",
    "l4.reverse()\n",
    "sorted(l4)"
   ]
  },
  {
   "cell_type": "code",
   "execution_count": null,
   "metadata": {},
   "outputs": [],
   "source": [
    "L = [5, 6, 7]\n",
    "print(list(enumerate(L)))"
   ]
  },
  {
   "cell_type": "code",
   "execution_count": null,
   "metadata": {
    "collapsed": false,
    "pycharm": {
     "name": "#%%\n"
    }
   },
   "outputs": [],
   "source": [
    "l = [1, 2, 3, 4, 5, 6, 7, 8, 9, 8, 9, 8]\n",
    "del l[1:8:2]\n",
    "print(l)\n",
    "print(l.count(8))"
   ]
  },
  {
   "cell_type": "code",
   "execution_count": null,
   "metadata": {
    "collapsed": false,
    "pycharm": {
     "name": "#%%\n"
    }
   },
   "outputs": [],
   "source": [
    "# 有序集合，可以随时添加、删除其中元素\n",
    "multily = ['python', 'java', ['asp', 'php'], 'scheme']  # 4\n",
    "print(len(multily))\n",
    "\n",
    "classmates = ['henry', 'lily', 123]\n",
    "print(classmates[len(classmates) - 1])\n",
    "\n",
    "classmates.append('code')\n",
    "print(classmates)\n",
    "\n",
    "classmates.insert(2, 'PHP')\n",
    "print(classmates)\n",
    "\n",
    "squares = [1, 4, 9, 16, 25]\n",
    "print(squares[0] + squares[-1])\n",
    "print(squares[-3:])\n",
    "\n",
    "# 可变:允许修改元素\n",
    "squares[3] = 44\n",
    "print(squares[:])\n",
    "\n",
    "squares[4:6] = ['A', 'B']  # 切片赋值\n",
    "print(squares[:])\n",
    "\n",
    "print(squares + [25, 49, 64, 81, 100])\n",
    "print([['a', 'b', 'c'], squares])\n",
    "\n",
    "squares.extend(['d', 'e', 'f'])\n",
    "print(squares[:])\n",
    "\n",
    "print(squares.index('A'))\n",
    "print(squares.count('A'))\n",
    "\n",
    "nums = [25, 49, 100, 64, 81, ]\n",
    "nums.sort()\n",
    "print(nums)\n",
    "nums.reverse()\n",
    "print(nums)\n",
    "a = nums.copy()\n",
    "a.pop()\n",
    "print(a)  # [100, 81, 64, 49]\n",
    "print(nums)  # [100, 81, 64, 49, 25]\n",
    "\n",
    "print(squares.pop())\n",
    "print(squares.pop(4))\n",
    "print(squares[:])\n",
    "\n",
    "# 清空\n",
    "squares[0:2] = []\n",
    "print(squares[:])\n",
    "squares.clear()\n",
    "# del squares[:]\n",
    "print(squares[:])\n",
    "\n",
    "# slice 切片：取一个list或tuple的部分元素\n",
    "L = list(range(100))\n",
    "print(L[:10:2])\n",
    "print(L[0:2], L[:2], L[1:], L[-2:])\n",
    "print(L[::4])\n",
    "print((0, 1, 2, 3, 4, 5)[:3])"
   ]
  },
  {
   "cell_type": "code",
   "execution_count": null,
   "metadata": {
    "collapsed": false,
    "pycharm": {
     "name": "#%%\n"
    }
   },
   "outputs": [],
   "source": [
    "# 列表生成式 List Comprehensions\n",
    "print(list(range(0, 10, 3)))\n",
    "\n",
    "print([i ** 2 for i in range(5)])\n",
    "print([x * x for x in range(1, 11) if x % 2 == 0])\n",
    "print([m + n for m in 'ABC' for n in 'XYZ'])\n",
    "d = {'x': 'A', 'y': 'B', 'z': 'C'}\n",
    "[k + '=' + v for k, v in d.items()]\n",
    "\n",
    "L = ['Hello', 'World', 'IBM', 'Apple']\n",
    "[s.lower() for s in L]"
   ]
  },
  {
   "cell_type": "markdown",
   "metadata": {},
   "source": [
    "## Tuple 元组\n",
    "\n",
    "- 长度大小固定，元素不可变，存储空间固定\n",
    "- 对于一些静态变量，比如元组，如果不被使用并且占用空间不大时，Python 会暂时缓存这部分内存。下次再创建同样大小的元组时，就可以不用再向操作系统发出请求，去寻找内存，而是可以直接分配之前缓存的内存空间，大大加快程序的运行速度\n",
    "- 静态（immutable）：长度固定，无法增加 删除或修改\n",
    "- 修改：重新开辟一块内存，创建新的元组\n"
   ]
  },
  {
   "cell_type": "code",
   "execution_count": null,
   "metadata": {
    "scrolled": true
   },
   "outputs": [],
   "source": [
    "# 初始化\n",
    "tup1 = (1,)\n",
    "print(tup1)\n",
    "tup = ('json', 22, 'Beijing', 'London')\n",
    "tup"
   ]
  },
  {
   "cell_type": "code",
   "execution_count": null,
   "metadata": {
    "collapsed": false,
    "pycharm": {
     "name": "#%%\n"
    }
   },
   "outputs": [],
   "source": [
    "print(list(range(8)))\n",
    "print(list(range(2, 8)))\n",
    "list(range(1, 8, 2))"
   ]
  },
  {
   "cell_type": "code",
   "execution_count": null,
   "metadata": {},
   "outputs": [],
   "source": [
    "tup[-1]"
   ]
  },
  {
   "cell_type": "code",
   "execution_count": null,
   "metadata": {},
   "outputs": [],
   "source": [
    "tup[:-1]"
   ]
  },
  {
   "cell_type": "code",
   "execution_count": null,
   "metadata": {},
   "outputs": [],
   "source": [
    "tup[1:3]"
   ]
  },
  {
   "cell_type": "code",
   "execution_count": null,
   "metadata": {},
   "outputs": [],
   "source": [
    "# 新增\n",
    "new_tup = tup + (5,)\n",
    "tup"
   ]
  },
  {
   "cell_type": "code",
   "execution_count": null,
   "metadata": {},
   "outputs": [],
   "source": [
    "new_tup"
   ]
  },
  {
   "cell_type": "code",
   "execution_count": null,
   "metadata": {},
   "outputs": [],
   "source": [
    "# 嵌套\n",
    "tup2 = (('aa', 'ab', 'ac'), ('ba', 'bb', 'bc'))\n",
    "tup2"
   ]
  },
  {
   "cell_type": "code",
   "execution_count": null,
   "metadata": {},
   "outputs": [],
   "source": [
    "# 修改\n",
    "tup3 = ([1, 2, 3, 4], (5, 6, 7), (5, 6, 7))\n",
    "tup3[0][2] = 6\n",
    "tup3"
   ]
  },
  {
   "cell_type": "code",
   "execution_count": null,
   "metadata": {},
   "outputs": [],
   "source": [
    "# 方法\n",
    "tup3.count((5, 6, 7))"
   ]
  },
  {
   "cell_type": "code",
   "execution_count": null,
   "metadata": {},
   "outputs": [],
   "source": [
    "tup3.index((5, 6, 7))"
   ]
  },
  {
   "cell_type": "code",
   "execution_count": null,
   "metadata": {},
   "outputs": [],
   "source": [
    "tuple(reversed(tup3))"
   ]
  },
  {
   "cell_type": "code",
   "execution_count": null,
   "metadata": {},
   "outputs": [],
   "source": [
    "# 排序，不支持混排\n",
    "sorted(tup2)"
   ]
  },
  {
   "cell_type": "code",
   "execution_count": null,
   "metadata": {},
   "outputs": [],
   "source": [
    "# 类型转换\n",
    "list(tup3)"
   ]
  },
  {
   "cell_type": "code",
   "execution_count": null,
   "metadata": {},
   "outputs": [],
   "source": [
    "tuple(l3)"
   ]
  },
  {
   "cell_type": "code",
   "execution_count": null,
   "metadata": {},
   "outputs": [],
   "source": [
    "l = [1, 2, 3]\n",
    "l.__sizeof__()"
   ]
  },
  {
   "cell_type": "code",
   "execution_count": null,
   "metadata": {},
   "outputs": [],
   "source": [
    "l = []\n",
    "l.__sizeof__()  # 空列表的存储空间为40字节"
   ]
  },
  {
   "cell_type": "code",
   "execution_count": null,
   "metadata": {},
   "outputs": [],
   "source": [
    "l.append(1)\n",
    "l.__sizeof__()  # 加入了元素1之后，列表为其分配了可以存储4个元素的空间 (72 - 40)/8 = 4"
   ]
  },
  {
   "cell_type": "code",
   "execution_count": null,
   "metadata": {},
   "outputs": [],
   "source": [
    "l.append(2)\n",
    "l.__sizeof__()"
   ]
  },
  {
   "cell_type": "code",
   "execution_count": null,
   "metadata": {},
   "outputs": [],
   "source": [
    "l.append((3, 4, 5))\n",
    "l.__sizeof__()"
   ]
  },
  {
   "cell_type": "code",
   "execution_count": null,
   "metadata": {},
   "outputs": [],
   "source": [
    "tup = (1, 2, 3)\n",
    "tup.__sizeof__()"
   ]
  },
  {
   "cell_type": "code",
   "execution_count": null,
   "metadata": {
    "collapsed": false,
    "pycharm": {
     "name": "#%%\n"
    }
   },
   "outputs": [],
   "source": [
    "# 一旦初始化就不能修改, 代码更安全\n",
    "\n",
    "classmates = ('henry', 'lily', 123)\n",
    "print(classmates[1])\n",
    "\n",
    "classmates = (123,)\n",
    "print(classmates)\n",
    "\n",
    "classmates = ('henry', 'lily', ['A', 'B'])\n",
    "classmates[2][0] = 'X'\n",
    "classmates[2][1] = 'Y'\n",
    "classmates"
   ]
  },
  {
   "cell_type": "markdown",
   "metadata": {},
   "source": [
    "## 对比\n",
    "\n",
    "- 元组要比列表更加轻量级一些，元组的性能速度要略优于列表\n",
    "- 初始化：元组的初始化速度　优于列表\n",
    "- 索引操作:两者的速度差别非常小\n"
   ]
  },
  {
   "cell_type": "code",
   "execution_count": null,
   "metadata": {},
   "outputs": [],
   "source": [
    "python3 -m timeit 'x=(1,2,3,4,5,6)'\n",
    "python3 -m timeit 'x=[1,2,3,4,5,6]'\n",
    "\n",
    "python3 -m timeit -s 'x=[1,2,3,4,5,6]' 'y=x[3]'\n",
    "python3 -m timeit -s 'x=(1,2,3,4,5,6)' 'y=x[3]'"
   ]
  },
  {
   "cell_type": "markdown",
   "metadata": {},
   "source": [
    "### 场景\n",
    "\n",
    "-   元组：存储的数据和数量不变\n",
    "-   列表：存储的数据或数量是可变\n"
   ]
  },
  {
   "cell_type": "markdown",
   "metadata": {
    "pycharm": {
     "name": "#%% md\n"
    }
   },
   "source": [
    "## List 列表\n",
    "\n",
    "-   动态:需要存储指针指向对应的元素（对于 int 型，8 字节）\n",
    "-   可变:需要额外存储已经分配的长度大小（8 字节）\n",
    "-   为了减小每次增加/删减操作时空间分配的开销，每次分配空间时都会额外多分配一些，这样的机制（over-allocating）保证了其操作的高效性：增加 / 删除的时间复杂度均为 O(1)\n",
    "\n",
    "*   动态（mutable）长度不固定，可以增加删除或修改\n",
    "*   初始化\n",
    "    -   list() 一个 function call，会创建 stack，并且进行一系列参数检查的操作\n",
    "    -   [] 内置 C 函数，可以直接被调用\n",
    "*   动态（mutable）:长度不固定，可以增加删除或修改\n"
   ]
  },
  {
   "cell_type": "code",
   "execution_count": null,
   "metadata": {
    "collapsed": false,
    "pycharm": {
     "name": "#%%\n"
    }
   },
   "outputs": [],
   "source": [
    "l = [1, 2, 'hello', 'Arsenal', 'Chelsea']\n",
    "l"
   ]
  },
  {
   "cell_type": "code",
   "execution_count": null,
   "metadata": {
    "collapsed": false,
    "pycharm": {
     "name": "#%%\n"
    }
   },
   "outputs": [],
   "source": [
    "l[2] = 40\n",
    "l[2]\n",
    "l[-1]\n",
    "l[1:3]\n",
    "l[1:]\n",
    "l[:2]\n",
    "l[:-2]"
   ]
  },
  {
   "cell_type": "code",
   "execution_count": null,
   "metadata": {
    "collapsed": false,
    "pycharm": {
     "name": "#%%\n"
    }
   },
   "outputs": [],
   "source": [
    "l.append(1)\n",
    "l"
   ]
  },
  {
   "cell_type": "code",
   "execution_count": null,
   "metadata": {
    "collapsed": false,
    "pycharm": {
     "name": "#%%\n"
    }
   },
   "outputs": [],
   "source": [
    "l2 = [[1, 2, 3], [4, 5, 6]]\n",
    "l2"
   ]
  },
  {
   "cell_type": "code",
   "execution_count": null,
   "metadata": {
    "collapsed": false,
    "pycharm": {
     "name": "#%%\n"
    }
   },
   "outputs": [],
   "source": [
    "l3 = [[1, 2, 3, 4], (4, 5, 6)]\n",
    "l3[1] = [7, 8, 9]\n",
    "l3"
   ]
  },
  {
   "cell_type": "code",
   "execution_count": null,
   "metadata": {
    "collapsed": false,
    "pycharm": {
     "name": "#%%\n"
    }
   },
   "outputs": [],
   "source": [
    "l.count(5)\n",
    "l.index(5)\n",
    "l.reverse()\n",
    "l\n",
    "# 不支持混排\n",
    "l4 = [1, 6, 8, 9, 45, 0, 34]\n",
    "l4.sort()\n",
    "l4"
   ]
  },
  {
   "cell_type": "markdown",
   "metadata": {
    "collapsed": false
   },
   "source": [
    "## Tuple 元组\n"
   ]
  },
  {
   "cell_type": "code",
   "execution_count": null,
   "metadata": {
    "collapsed": false,
    "pycharm": {
     "name": "#%%\n"
    }
   },
   "outputs": [],
   "source": [
    "tup = ('json', 22, 'Beijing', 'London')\n",
    "tup\n",
    "tup[2]\n",
    "tup[-1]\n",
    "tup[1:3]"
   ]
  },
  {
   "cell_type": "code",
   "execution_count": null,
   "metadata": {
    "collapsed": false,
    "pycharm": {
     "name": "#%%\n"
    }
   },
   "outputs": [],
   "source": [
    "new_tup = tup + (5,)\n",
    "tup\n",
    "new_tup"
   ]
  },
  {
   "cell_type": "code",
   "execution_count": null,
   "metadata": {
    "collapsed": false,
    "pycharm": {
     "name": "#%%\n"
    }
   },
   "outputs": [],
   "source": [
    "tup2 = (('aa', 'ab', 'ac'), ('ba', 'bb', 'bc'))\n",
    "tup2"
   ]
  },
  {
   "cell_type": "code",
   "execution_count": null,
   "metadata": {
    "collapsed": false,
    "pycharm": {
     "name": "#%%\n"
    }
   },
   "outputs": [],
   "source": [
    "tup3 = ([1, 2, 3, 4], (5, 6, 7))\n",
    "tup3"
   ]
  },
  {
   "cell_type": "code",
   "execution_count": null,
   "metadata": {
    "collapsed": false,
    "pycharm": {
     "name": "#%%\n"
    }
   },
   "outputs": [],
   "source": [
    "tup3[0][2] = 6\n",
    "tup3"
   ]
  },
  {
   "cell_type": "code",
   "execution_count": null,
   "metadata": {
    "collapsed": false,
    "pycharm": {
     "name": "#%%\n"
    }
   },
   "outputs": [],
   "source": [
    "# 转换\n",
    "list(tup3)\n",
    "tuple(l3)"
   ]
  },
  {
   "cell_type": "markdown",
   "metadata": {
    "collapsed": false
   },
   "source": [
    "## generator\n"
   ]
  },
  {
   "cell_type": "code",
   "execution_count": null,
   "metadata": {
    "collapsed": false,
    "pycharm": {
     "name": "#%%\n"
    }
   },
   "outputs": [],
   "source": [
    "g = (x * x for x in range(10))\n",
    "print(next(g))\n",
    "print(next(g))\n",
    "next(g)"
   ]
  },
  {
   "cell_type": "code",
   "execution_count": null,
   "metadata": {
    "collapsed": false,
    "pycharm": {
     "name": "#%%\n"
    }
   },
   "outputs": [],
   "source": [
    "g = (x * x for x in range(5))\n",
    "for n in g:\n",
    "    print(n)"
   ]
  },
  {
   "cell_type": "code",
   "execution_count": null,
   "metadata": {},
   "outputs": [],
   "source": [
    "type(g)"
   ]
  },
  {
   "cell_type": "code",
   "execution_count": null,
   "metadata": {
    "collapsed": false,
    "pycharm": {
     "name": "#%%\n"
    }
   },
   "outputs": [],
   "source": [
    "# 在每次调用next()的时候执行，遇到yield语句返回，再次执行时从上次返回的yield语句处继续执行\n",
    "def fib(max):\n",
    "    n, a, b = 0, 0, 1\n",
    "    while n < max:\n",
    "        yield b\n",
    "        a, b = b, a + b\n",
    "        n = n + 1\n",
    "    return 'done'\n",
    "\n",
    "\n",
    "g = fib(5)\n",
    "while True:\n",
    "    try:\n",
    "        x = next(g)\n",
    "        print('g:', x)\n",
    "    except StopIteration as e:\n",
    "        print('Generator return value:', e.value)\n",
    "        break"
   ]
  },
  {
   "cell_type": "code",
   "execution_count": null,
   "metadata": {
    "collapsed": false,
    "pycharm": {
     "name": "#%%\n"
    }
   },
   "outputs": [],
   "source": [
    "def triangles():\n",
    "    l = [1]\n",
    "\n",
    "    while True:\n",
    "        yield l\n",
    "        l = [1] + [l[i] + l[i + 1]\n",
    "                   for i in range(len(l) - 1) if len(l) > 1] + [1]\n",
    "\n",
    "\n",
    "l = triangles()"
   ]
  },
  {
   "cell_type": "code",
   "execution_count": null,
   "metadata": {
    "collapsed": false,
    "pycharm": {
     "name": "#%%\n"
    }
   },
   "outputs": [],
   "source": [
    "from collections.abc import Iterable, Iterator\n",
    "\n",
    "print(isinstance([], Iterable))\n",
    "print(isinstance('abc', Iterable))\n",
    "print(isinstance([], Iterable))\n",
    "print(isinstance(iter([]), Iterator))\n",
    "isinstance(iter('abc'), Iterator)"
   ]
  }
 ],
 "metadata": {
  "kernelspec": {
   "display_name": "Python_syntax",
   "language": "python",
   "name": "python_syntax"
  },
  "toc": {
   "base_numbering": 1,
   "nav_menu": {},
   "number_sections": true,
   "sideBar": true,
   "skip_h1_title": false,
   "title_cell": "Table of Contents",
   "title_sidebar": "Contents",
   "toc_cell": false,
   "toc_position": {},
   "toc_section_display": true,
   "toc_window_display": false
  },
  "varInspector": {
   "cols": {
    "lenName": 16,
    "lenType": 16,
    "lenVar": 40
   },
   "kernels_config": {
    "python": {
     "delete_cmd_postfix": "",
     "delete_cmd_prefix": "del ",
     "library": "var_list.py",
     "varRefreshCmd": "print(var_dic_list())"
    },
    "r": {
     "delete_cmd_postfix": ") ",
     "delete_cmd_prefix": "rm(",
     "library": "var_list.r",
     "varRefreshCmd": "cat(var_dic_list()) "
    }
   },
   "types_to_exclude": [
    "module",
    "function",
    "builtin_function_or_method",
    "instance",
    "_Feature"
   ],
   "window_display": false
  }
 },
 "nbformat": 4,
 "nbformat_minor": 4
}
