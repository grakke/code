{
 "cells": [
  {
   "cell_type": "code",
   "execution_count": null,
   "metadata": {},
   "outputs": [],
   "source": [
    "\n",
    "import keyword\n",
    "print(keyword.kwlist)"
   ]
  },
  {
   "cell_type": "markdown",
   "metadata": {
    "collapsed": false
   },
   "source": [
    "## 常量：不能变的变量(定义上的，没有语法保证)\n"
   ]
  },
  {
   "cell_type": "code",
   "execution_count": null,
   "metadata": {
    "collapsed": false,
    "pycharm": {
     "name": "#%%\n"
    }
   },
   "outputs": [],
   "source": [
    "PI = 3.1415926\n",
    "print(PI)\n",
    "PI = 80\n",
    "PI"
   ]
  },
  {
   "cell_type": "markdown",
   "metadata": {
    "collapsed": false,
    "pycharm": {
     "name": "#%% md\n"
    }
   },
   "source": [
    "## 变量\n"
   ]
  },
  {
   "cell_type": "markdown",
   "metadata": {},
   "source": [
    "### 值类型\n",
    "\n",
    "-   不可变的 immutable 返回操作后的值，本身不变，减少了由于修改数据导致的错误\n",
    "    -   改变字符串只能通过创建新字符串来完成\n",
    "-   可变对象：操作自己本身\n"
   ]
  },
  {
   "cell_type": "code",
   "execution_count": null,
   "metadata": {},
   "outputs": [],
   "source": [
    "# 变量的定义\n",
    "name = \"zhangsan\"\n",
    "age = 20\n",
    "weight = 80\n",
    "print(name)\n",
    "print(age)\n",
    "print(weight)\n",
    "\n",
    "# 变量赋值\n",
    "weight = weight + 10\n",
    "print(weight)"
   ]
  },
  {
   "cell_type": "code",
   "execution_count": null,
   "metadata": {
    "collapsed": false,
    "pycharm": {
     "name": "#%%\n"
    }
   },
   "outputs": [],
   "source": [
    "# 赋值\n",
    "# 浅复制：值赋值，内存地址的别名\n",
    "a = -100\n",
    "b = 200\n",
    "print(abs(a))\n",
    "print(a * b)\n",
    "print(2 + _)  # 交互模式中，最近一个表达式的值赋给变量 _"
   ]
  },
  {
   "cell_type": "code",
   "execution_count": null,
   "metadata": {},
   "outputs": [],
   "source": [
    "a = 'ABC'\n",
    "b = a\n",
    "a = 'XYZ'  # 指向新的变量地址\n",
    "print(b)\n",
    "\n",
    "\n",
    "c = 0.5\n",
    "print(c.as_integer_ratio())\n",
    "\n",
    "d = 0.35\n",
    "d.as_integer_ratio()"
   ]
  },
  {
   "cell_type": "markdown",
   "metadata": {
    "collapsed": false,
    "pycharm": {
     "name": "#%% md\n"
    }
   },
   "source": [
    "### 切片操作\n",
    "\n",
    "-   集合类型都可以使用\n",
    "-   索引默认值 `str[:]`\n",
    "    -   省略第一个索引 默认为零\n",
    "    -   省略第二个索引 默认为切片的字符串的大小\n"
   ]
  },
  {
   "cell_type": "code",
   "execution_count": null,
   "metadata": {
    "collapsed": false,
    "pycharm": {
     "name": "#%%\n"
    }
   },
   "outputs": [],
   "source": [
    "s3 = \"\"\"hello\"\"\"\n",
    "s3 = 'H' + s3[1:]\n",
    "s3"
   ]
  },
  {
   "cell_type": "code",
   "execution_count": null,
   "metadata": {},
   "outputs": [],
   "source": [
    "s1 = 'hello'\n",
    "print(s1[0])\n",
    "s1[1:3]"
   ]
  },
  {
   "cell_type": "code",
   "execution_count": null,
   "metadata": {},
   "outputs": [],
   "source": [
    "# 索引值 为字符前面的位置 0(-6) p 1 y 2 t 3 h 4 o 5(-1) n 6\n",
    "word = 'Python'\n",
    "print(word[0] + word[5] + word[-2])\n",
    "print(word[:2] + word[2:])\n",
    "print(word[-2:])"
   ]
  },
  {
   "cell_type": "markdown",
   "metadata": {
    "collapsed": false
   },
   "source": [
    "### 字符串 String\n",
    "\n",
    "-   三引号 用于多行字符串情境，比如函数注释\n",
    "-   赋值给字符串索引的位置会导致错误\n"
   ]
  },
  {
   "cell_type": "code",
   "execution_count": null,
   "metadata": {
    "collapsed": false,
    "pycharm": {
     "name": "#%%\n"
    }
   },
   "outputs": [],
   "source": [
    "# 初始化\n",
    "s1 = 'hello'\n",
    "s2 = \"hello\"\n",
    "s3 = \"\"\"hello\"\"\"\n",
    "print(s1 == s2 == s3)"
   ]
  },
  {
   "cell_type": "code",
   "execution_count": null,
   "metadata": {
    "collapsed": false,
    "pycharm": {
     "name": "#%%\n"
    }
   },
   "outputs": [],
   "source": [
    "print('spam eggs')\n",
    "print('doesn\\'t' + \" doesn't\")  # 特殊字符会用反斜杠转义 当作特殊字符\n",
    "print('\"Yes,\" he said.' + \"\\\"Yes,\\\" he said.\")\n",
    "print('\"Isn\\'t,\" she said.')  # \"Isn't,\" she said.\n",
    "print(r'C:\\some\\name')  # 可以使用r 保持原始字符串\n",
    "\n",
    "a = 'abc'\n",
    "b = a.replace('a', 'A')\n",
    "print(a, b)  # a 没有改变"
   ]
  },
  {
   "cell_type": "code",
   "execution_count": null,
   "metadata": {},
   "outputs": [],
   "source": [
    "list(filter(None, ['', None, 0, \" \", 5]))"
   ]
  },
  {
   "cell_type": "markdown",
   "metadata": {
    "collapsed": false,
    "pycharm": {
     "name": "#%% md\n"
    }
   },
   "source": [
    "#### 编码\n",
    "\n",
    "-   内存中以 Unicode 字符\n",
    "-   网络传输、保存硬盘、读取以字节为单位的 bytes 表示\n",
    "-   UTF-8 编码 把 Unicode 编码转化为“可变长编码”\n",
    "    -   把一个 Unicode 字符根据不同的数字大小编码成 1-6 个字节\n",
    "    -   常用的英文字母被编码成 1 个字节，汉字通常是 3 个字节，只有很生僻的字符才会被编码成 4-6 个字节\n",
    "    -   纯英文 str 可以用 ASCII 编码为 bytes，内容是一样的，含有中文的 str 可以用 UTF-8 编码为 bytes，无法用 ASCII 编码\n"
   ]
  },
  {
   "cell_type": "code",
   "execution_count": null,
   "metadata": {
    "collapsed": false,
    "pycharm": {
     "name": "#%%\n"
    }
   },
   "outputs": [],
   "source": [
    "print(u'中文')  # 中文\n",
    "print(len(u'中文'))\n",
    "print(u'中文'.encode('utf-8'))  # b'\\xe4\\xb8\\xad\\xe6\\x96\\x87'\n",
    "print(len(u'中文'.encode('utf-8')))\n",
    "print(r'\\\\\\t\\\\')  # r''表示''内部的字符串默认不转义\n",
    "\n",
    "# str，在内存中以Unicode表示，一个字符对应若干个字节。如果要在网络上传输，或者保存到磁盘上，就需要把str变为以字节为单位的bytes\n",
    "# 'ABC'和b'ABC'，前者是str，后者虽然内容显示得和前者一样，但bytes的每个字符都只占用一个字节\n",
    "print('abc'.encode('utf-8'))  # b'abc'\n",
    "print(b'ABC'.decode('ascii'))  # 'ABC'\n",
    "print(b'\\xe4\\xb8\\xad\\xe6\\x96\\x87'.decode('utf-8'))  # '中文'\n",
    "\n",
    "# 多行: 加上 \\ 来避免行尾换行符被自动包含到字符串中\n",
    "print(\"\"\"\\\n",
    "Usage: thingy [OPTIONS]\n",
    "     -h                        Display this usage message\n",
    "     -H hostname               Hostname to connect to\n",
    "\"\"\")\n",
    "\n",
    "print(3 * 'un' + 'ium')\n",
    "print('Py' 'thon')  # 只用于两个字符串文本，不能用于字符串表达式"
   ]
  },
  {
   "cell_type": "code",
   "execution_count": null,
   "metadata": {
    "collapsed": false,
    "pycharm": {
     "name": "#%%\n"
    }
   },
   "outputs": [],
   "source": [
    "def calculate_similarity(name, age):\n",
    "    \"\"\"\n",
    "    Calculate similarity between two items\n",
    "    Args:\n",
    "        item1: 1st item\n",
    "        item2: 2nd item\n",
    "    Returns:\n",
    "      similarity score between item1 and item2\n",
    "    \"\"\""
   ]
  },
  {
   "cell_type": "code",
   "execution_count": null,
   "metadata": {
    "collapsed": false,
    "pycharm": {
     "name": "#%%\n"
    }
   },
   "outputs": [],
   "source": [
    "# 不可变（immutable） 每次想要改变字符串，需要 O(n) 时间复杂度\n",
    "print(s2.replace('h', 'H'))\n",
    "s2\n",
    "str_new = 'hello'\n",
    "new_str = str_new.replace('l', 'u', 2)\n",
    "print(new_str)\n",
    "str_new"
   ]
  },
  {
   "cell_type": "code",
   "execution_count": null,
   "metadata": {
    "collapsed": false,
    "pycharm": {
     "name": "#%%\n"
    }
   },
   "outputs": [],
   "source": [
    "# 转义符\n",
    "s = \"a\\nb\\tc\"\n",
    "print(s)\n",
    "s = 'a\\nb\\tc'\n",
    "s"
   ]
  },
  {
   "cell_type": "code",
   "execution_count": null,
   "metadata": {
    "collapsed": false,
    "pycharm": {
     "name": "#%%\n"
    }
   },
   "outputs": [],
   "source": [
    "for char in s1:\n",
    "    print(char)"
   ]
  },
  {
   "cell_type": "code",
   "execution_count": null,
   "metadata": {
    "collapsed": false,
    "pycharm": {
     "name": "#%%\n"
    }
   },
   "outputs": [],
   "source": [
    "# Python2.5 开始，每次处理字符串的拼接操作时（str1 += str2），首先会检测 str1 还有没有其他引用\n",
    "# 如果没有就会尝试原地扩充字符串 buffer 大小，而不是重新分配一块内存来创建新字符串并拷贝\n",
    "# 时间复杂度为 O(n)\n",
    "s = ''\n",
    "for n in range(0, 10):\n",
    "    print(str(n))\n",
    "s"
   ]
  },
  {
   "cell_type": "code",
   "execution_count": null,
   "metadata": {
    "collapsed": false,
    "pycharm": {
     "name": "#%%\n"
    }
   },
   "outputs": [],
   "source": [
    "# 列表 append 操作\n",
    "# O(1) 复杂度\n",
    "# join 速度其实很快，列表append和join开销要比字符串+=小一些\n",
    "l = []\n",
    "for n in range(0, 100):\n",
    "    l.append(str(n))\n",
    "l = ' '.join(l)\n",
    "l"
   ]
  },
  {
   "cell_type": "code",
   "execution_count": null,
   "metadata": {
    "collapsed": false,
    "pycharm": {
     "name": "#%%\n"
    }
   },
   "outputs": [],
   "source": [
    "# 分割函数:string.split(separator)，表示把字符串按照 separator 分割成子字符串，并返回一个分割后子字符串组合的列表\n",
    "# string.strip(str)，表示去掉首尾的 str 字符串\n",
    "# string.lstrip(str)，表示只去掉开头的 str 字符串\n",
    "# string.rstrip(str)，表示只去掉尾部的 str 字符串\n",
    "\n",
    "def query_data(namespace, table):\n",
    "    \"\"\"\n",
    "    given namespace and table, query database to get corresponding\n",
    "    data\n",
    "    \"\"\"\n",
    "\n",
    "\n",
    "path = 'hive://ads/training_table'\n",
    "namespace = path.split('//')[1].split('/')[0]  # 返回'ads'\n",
    "table = path.split('//')[1].split('/')[1]  # 返回 'training_table'\n",
    "data = query_data(namespace, table)\n",
    "print(namespace, table, data)"
   ]
  },
  {
   "cell_type": "markdown",
   "metadata": {},
   "source": [
    "#### 方法\n"
   ]
  },
  {
   "cell_type": "code",
   "execution_count": null,
   "metadata": {},
   "outputs": [],
   "source": [
    "print(len(word))\n",
    "# 获取字符的整数表示\n",
    "print(ord('A'))\n",
    "# 把编码转换为对应的字符\n",
    "print(chr(65))"
   ]
  },
  {
   "cell_type": "code",
   "execution_count": null,
   "metadata": {},
   "outputs": [],
   "source": [
    "str = \"hello\"\n",
    "print(str[1])\n",
    "# len获取变量长度\n",
    "print(len(str))\n",
    "\n",
    "# print(str[6])#下标越界\n",
    "\n",
    "print(str[-1])\n",
    "print(str[-2])\n",
    "\n",
    "# 切片\n",
    "line = \"zhangsan,20\"\n",
    "print(line[0:8])\n",
    "print(line[9:])\n",
    "# 步长\n",
    "print(str[0::2])"
   ]
  },
  {
   "cell_type": "markdown",
   "metadata": {},
   "source": [
    "#### 格式化输出\n"
   ]
  },
  {
   "cell_type": "code",
   "execution_count": null,
   "metadata": {
    "collapsed": false,
    "pycharm": {
     "name": "#%%\n"
    }
   },
   "outputs": [],
   "source": [
    "# 格式化\n",
    "# %s 表示字符串型，%d 表示整型\n",
    "id = 35\n",
    "name = 'hello'\n",
    "\n",
    "print('no data available for person with id: %s, name: %s' % (id, name))\n",
    "print('no data available for person with id: {}, name: {}'.format(id, name))"
   ]
  },
  {
   "cell_type": "code",
   "execution_count": null,
   "metadata": {},
   "outputs": [],
   "source": [
    "print('%.2f' % 3.1415926)\n",
    "print('Hi, %s, you have $%d.' % ('Michael', 1000000))\n",
    "print('%x' % 15)  # f\n",
    "print('Hello, {0}, 成绩提升 {1:.1f}%'.format('小明', 17.125))\n",
    "print('Today:%2d-%02d' % (3, 1))\n",
    "print('Growth rate:%d%%' % 7)"
   ]
  },
  {
   "cell_type": "code",
   "execution_count": null,
   "metadata": {},
   "outputs": [],
   "source": [
    "# input输入\n",
    "name = input(\"请输入用户名：\")\n",
    "pwd = input(\"请输入密码：\")\n",
    "print(type(name))\n",
    "print(name)\n",
    "print(pwd)"
   ]
  },
  {
   "cell_type": "code",
   "execution_count": null,
   "metadata": {},
   "outputs": [],
   "source": [
    "# print输出\n",
    "# 1.直接输出内容\n",
    "print(\"hello python\")\n",
    "print(123)"
   ]
  },
  {
   "cell_type": "code",
   "execution_count": null,
   "metadata": {},
   "outputs": [],
   "source": [
    "# 输出变量\n",
    "\n",
    "name = \"zhangsan\"\n",
    "age = 20\n",
    "print(name)\n",
    "print(age)\n",
    "print(name, age)"
   ]
  },
  {
   "cell_type": "code",
   "execution_count": null,
   "metadata": {},
   "outputs": [],
   "source": [
    "# 格式化输出\n",
    "name = \"zhangsan\"\n",
    "age = 20\n",
    "height = 180.5\n",
    "# print(\"姓名：%s的年龄是：%d,身高：%.2f\"%(name,age,height))\n",
    "print(\"姓名：%s\" % name)\n",
    "\n",
    "p = 99.99\n",
    "print(\"你战胜了全国%.2f%%的用户\" % p)"
   ]
  },
  {
   "cell_type": "code",
   "execution_count": null,
   "metadata": {},
   "outputs": [],
   "source": [
    "# 无换行输出\n",
    "print(\"hello\", end=\"\")\n",
    "print(\"python\")"
   ]
  },
  {
   "cell_type": "code",
   "execution_count": null,
   "metadata": {},
   "outputs": [],
   "source": [
    "# format格式化输出\n",
    "name = \"zhangsan\"\n",
    "age = 20\n",
    "height = 180.5\n",
    "print(\"姓名：{}的年龄是：{}，身高：{}\".format(name, age, height))"
   ]
  },
  {
   "cell_type": "markdown",
   "metadata": {},
   "source": [
    "### int\n"
   ]
  },
  {
   "cell_type": "markdown",
   "metadata": {},
   "source": [
    "#### 运算符\n"
   ]
  },
  {
   "cell_type": "code",
   "execution_count": null,
   "metadata": {},
   "outputs": [],
   "source": [
    "# 运算操作符\n",
    "print(2 + 2)\n",
    "print(50 - 5 * 6)\n",
    "print((50 - 5 * 6) / 4)\n",
    "print(8 / 5)  # 1.6\n",
    "print(17 / 3)  # 5.6666666667\n",
    "print(17 // 3)  # 5\n",
    "print(17 % 3)  # 2\n",
    "print(5 ** 2)  # 25\n",
    "print(3 * 3.75 / 1.5)\n",
    "\n",
    "print(abs(-20))\n",
    "print(max(2, 3, 1, -5))\n",
    "\n",
    "rs = 10 % 2\n",
    "print(rs)\n",
    "# //取整运算符\n",
    "rs = 10 // 3\n",
    "print(rs)\n",
    "\n",
    "rs = 2 ** 2\n",
    "print(rs)"
   ]
  },
  {
   "cell_type": "markdown",
   "metadata": {
    "collapsed": false,
    "pycharm": {
     "name": "#%% md\n"
    }
   },
   "source": [
    "### 布尔型\n"
   ]
  },
  {
   "cell_type": "code",
   "execution_count": null,
   "metadata": {
    "collapsed": false,
    "pycharm": {
     "name": "#%%\n"
    }
   },
   "outputs": [],
   "source": [
    "print(True and True)\n",
    "print(True or False)\n",
    "print(not True)\n",
    "0 == False"
   ]
  },
  {
   "cell_type": "markdown",
   "metadata": {
    "collapsed": false,
    "pycharm": {
     "name": "#%% md\n"
    }
   },
   "source": [
    "### 空型\n"
   ]
  },
  {
   "cell_type": "code",
   "execution_count": null,
   "metadata": {},
   "outputs": [],
   "source": [
    "print(None)\n",
    "type(None)"
   ]
  },
  {
   "cell_type": "markdown",
   "metadata": {
    "collapsed": false
   },
   "source": [
    "### enum\n"
   ]
  },
  {
   "cell_type": "code",
   "execution_count": null,
   "metadata": {
    "collapsed": false,
    "pycharm": {
     "name": "#%%\n"
    }
   },
   "outputs": [],
   "source": [
    "from enum import Enum\n",
    "\n",
    "Month = Enum('Month', ('Jan', 'Feb', 'Mar', 'Apr', 'May', 'Jun', 'Jul', 'Aug', 'Sep', 'Oct', 'Nov', 'Dec'))\n",
    "\n",
    "for name, member in Month.__members__.items():\n",
    "    print(name, '=>', member, ',', member.value)"
   ]
  },
  {
   "cell_type": "markdown",
   "metadata": {},
   "source": [
    "### list"
   ]
  },
  {
   "cell_type": "code",
   "execution_count": null,
   "metadata": {},
   "outputs": [],
   "source": [
    "info_list = [\"zhangsan\", 20, 180.5, 80, True]\n",
    "\n",
    "print(info_list[0])\n",
    "\n",
    "for item in info_list:\n",
    "    print(item)\n",
    "\n",
    "info_list[3] = 70\n",
    "print(info_list)\n",
    "\n",
    "# 添加 append\n",
    "info_list.append(\"china\")\n",
    "print(info_list)\n",
    "\n",
    "# insert\n",
    "info_list.insert(0, \"beijing\")\n",
    "print(info_list)\n",
    "\n",
    "\n",
    "# 删除 del\n",
    "del info_list[4]\n",
    "print(info_list)\n",
    "\n",
    "# remove\n",
    "info_list.remove(70)\n",
    "print(info_list)\n",
    "\n",
    "# pop\n",
    "info_list.pop()\n",
    "info_list.pop(0)\n",
    "print(info_list)"
   ]
  },
  {
   "cell_type": "markdown",
   "metadata": {},
   "source": [
    "### dict"
   ]
  },
  {
   "cell_type": "code",
   "execution_count": null,
   "metadata": {},
   "outputs": [],
   "source": [
    "# 定义字典key不能重复\n",
    "user_info_dict = {\"name\": \"悟空\", \"age\": 100, \"job\": \"取经\"}\n",
    "\n",
    "# 通过key获取value\n",
    "print(user_info_dict[\"job\"])\n",
    "\n",
    "# 通过key修改对应的value值\n",
    "user_info_dict[\"job\"] = \"取经|偷桃\"\n",
    "print(user_info_dict[\"job\"])\n",
    "\n",
    "# 如果key不存在则报错\n",
    "print(user_info_dict[\"tel\"])\n",
    "\n",
    "# get(key,default)如果key不存在则返回默认值default\n",
    "print(user_info_dict.get(\"tel\", \"10086\"))\n",
    "\n",
    "# keys返回字典中所有的key\n",
    "for key in user_info_dict.keys():\n",
    "    print(key)\n",
    "\n",
    "# values返回字典中所有的value\n",
    "for value in user_info_dict.values():\n",
    "    print(value)\n",
    "\n",
    "# items返回字典中键值对组成的元组\n",
    "for item in user_info_dict.items():\n",
    "    print(item)\n",
    "\n",
    "# 使用两个临时变量key，value接收元组中的键和值\n",
    "for key, value in user_info_dict.items():\n",
    "    print(key, \":\", value)"
   ]
  },
  {
   "cell_type": "markdown",
   "metadata": {},
   "source": [
    "## 数据类型转换\n"
   ]
  },
  {
   "cell_type": "code",
   "execution_count": null,
   "metadata": {},
   "outputs": [],
   "source": [
    "print(int('123'))\n",
    "print(int(12.34))\n",
    "print(float('12.34'))\n",
    "print(bool(''))  # False\n",
    "print(int('123'), int(12.34), str(123), bool(''))"
   ]
  },
  {
   "cell_type": "code",
   "execution_count": null,
   "metadata": {},
   "outputs": [],
   "source": [
    "\n",
    "num1 = input(\"请输入第一个数字：\")\n",
    "num2 = input(\"请输入第二个数字：\")\n",
    "print(type(num1))\n",
    "print(type(num2))\n",
    "sum = int(num1) + int(num2)\n",
    "print(\"sum:\", sum)"
   ]
  }
 ],
 "metadata": {
  "kernelspec": {
   "display_name": "Python_syntax",
   "language": "python",
   "name": "python_syntax"
  },
  "language_info": {
   "codemirror_mode": {
    "name": "ipython",
    "version": 3
   },
   "file_extension": ".py",
   "mimetype": "text/x-python",
   "name": "python",
   "nbconvert_exporter": "python",
   "pygments_lexer": "ipython3",
   "version": "3.9.19"
  }
 },
 "nbformat": 4,
 "nbformat_minor": 0
}
