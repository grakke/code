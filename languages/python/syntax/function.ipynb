{
 "cells": [
  {
   "cell_type": "markdown",
   "metadata": {},
   "source": [
    "# Function\n",
    "\n",
    "## 基础\n",
    "\n",
    "-   嵌套函数\n",
    "-   变量作用域\n"
   ]
  },
  {
   "cell_type": "code",
   "execution_count": null,
   "metadata": {},
   "outputs": [],
   "source": [
    "def f1():\n",
    "    print('hello')\n",
    "\n",
    "    def f2():\n",
    "        print('world')\n",
    "\n",
    "    f2()\n",
    "\n",
    "\n",
    "f1()"
   ]
  },
  {
   "cell_type": "code",
   "execution_count": null,
   "metadata": {},
   "outputs": [],
   "source": [
    "MIN_VALUE = 1\n",
    "MAX_VALUE = 10\n",
    "\n",
    "\n",
    "def validation_check(value):\n",
    "    global MIN_VALUE\n",
    "    MIN_VALUE += 1\n",
    "\n",
    "\n",
    "validation_check(5)\n",
    "MIN_VALUE"
   ]
  },
  {
   "cell_type": "markdown",
   "metadata": {
    "collapsed": false
   },
   "source": [
    "## 参数\n",
    "\n",
    "-   默认参数\n",
    "-   可以参数\n",
    "-   关键字参数\n"
   ]
  },
  {
   "cell_type": "code",
   "execution_count": null,
   "metadata": {
    "collapsed": false,
    "pycharm": {
     "name": "#%%\n"
    }
   },
   "outputs": [],
   "source": [
    "# 默认参数 必须指向不变对象\n",
    "def power(x, n=2):\n",
    "    s = 1\n",
    "    while n > 0:\n",
    "        n = n - 1\n",
    "        s = s * x\n",
    "    return s\n",
    "\n",
    "\n",
    "power(2, 4)"
   ]
  },
  {
   "cell_type": "code",
   "execution_count": null,
   "metadata": {
    "collapsed": false,
    "pycharm": {
     "name": "#%%\n"
    }
   },
   "outputs": [],
   "source": [
    "def parrot(voltage, state='a stiff', action='voom', type='Norwegian Blue'):\n",
    "    print(\"-- This parrot wouldn't\", action, end=' ')\n",
    "    print(\"if you put\", voltage, \"volts through it.\")\n",
    "    print(\"-- Lovely plumage, the\", type)\n",
    "    print(\"-- It's\", state, \"!\")\n",
    "\n",
    "\n",
    "parrot(1000)  # 1 positional argument\n",
    "parrot(voltage=1000)  # 1 keyword argument\n",
    "parrot(voltage=1000000, action='VOOOOOM')  # 2 keyword arguments\n",
    "parrot(action='VOOOOOM', voltage=1000000)  # 2 keyword arguments\n",
    "parrot('a million', 'bereft of life', 'jump')  # 3 positional arguments\n",
    "parrot('a thousand', state='pushing up the daisies')  # 1 positional, 1 keyword"
   ]
  },
  {
   "cell_type": "code",
   "execution_count": null,
   "metadata": {
    "collapsed": false,
    "pycharm": {
     "name": "#%%\n"
    }
   },
   "outputs": [],
   "source": [
    "# 全局变量 不能在函数中直接赋值\n",
    "# 函数中变量赋值都是将值存储在局部符号表\n",
    "\n",
    "def fibonacci(n):\n",
    "    result = []\n",
    "    a, b = 0, 1\n",
    "    while a < n:\n",
    "        result.append(a)\n",
    "        a, b = b, a + b\n",
    "    return result\n",
    "\n",
    "\n",
    "fibonacci(100)"
   ]
  },
  {
   "cell_type": "code",
   "execution_count": null,
   "metadata": {
    "collapsed": false,
    "pycharm": {
     "name": "#%%\n"
    }
   },
   "outputs": [],
   "source": [
    "# 可变参数\n",
    "# 形参前面加 * 号\n",
    "# 调用\n",
    "#   组装实参为一个tuple\n",
    "#   实参是 list或tuple 调用前面加一个*号，把list或tuple元素变成可变参数传进去\n",
    "\n",
    "def calc(*numbers):\n",
    "    sum = 0\n",
    "    for n in numbers:\n",
    "        sum = sum + n * n\n",
    "    return sum\n",
    "\n",
    "\n",
    "print(calc(*[1, 2, 3]))\n",
    "calc(1, 2, 3)"
   ]
  },
  {
   "cell_type": "code",
   "execution_count": null,
   "metadata": {
    "collapsed": false,
    "pycharm": {
     "name": "#%%\n"
    }
   },
   "outputs": [],
   "source": [
    "# 关键字参数\n",
    "# 将实参数封装成一个dict\n",
    "# kw获得的dict是extra的一份拷贝，对kw的改动不会影响到函数外的extra\n",
    "def person(name, age, **kw):\n",
    "    if 'city' in kw:\n",
    "        pass\n",
    "    if 'job' in kw:\n",
    "        pass\n",
    "    print('name:', name, 'age:', age, 'other:', kw)\n",
    "\n",
    "\n",
    "person('Jack', 24, city='Beijing', job='Engineer')\n",
    "person('Jack', 24, **{'city': 'Beijing', 'job': 'Worker'})"
   ]
  },
  {
   "cell_type": "code",
   "execution_count": null,
   "metadata": {
    "collapsed": false,
    "pycharm": {
     "name": "#%%\n"
    }
   },
   "outputs": [],
   "source": [
    "# 限制关键字参数\n",
    "# 需要特殊分隔符*，* 后面参数被视为命名关键字参数\n",
    "# 如果函数定义中已经有可变参数，后面跟着的命名关键字参数就不再需要一个特殊分隔符*了\n",
    "def person(name, age, *, city='Beijing', job):\n",
    "    print(name, age, city, job)\n",
    "\n",
    "\n",
    "person('Jack', 24, city='Beijing', job='Engineer')"
   ]
  },
  {
   "cell_type": "code",
   "execution_count": null,
   "metadata": {
    "collapsed": false,
    "pycharm": {
     "name": "#%%\n"
    }
   },
   "outputs": [],
   "source": [
    "def f1(a, b, c=0, *args, **kw):\n",
    "    print('a =', a, 'b =', b, 'c =', c, 'args =', args, 'kw =', kw)\n",
    "\n",
    "\n",
    "def f2(a, b, c=0, *, d, **kw):\n",
    "    print('a =', a, 'b =', b, 'c =', c, 'd =', d, 'kw =', kw)\n",
    "\n",
    "\n",
    "f1(1, 2)  # a = 1 b = 2 c = 0 args = () kw = {}\n",
    "f1(1, 2, c=3)  # a = 1 b = 2 c = 3 args = () kw = {}\n",
    "f1(1, 2, 3, 'a', 'b')  # a = 1 b = 2 c = 3 args = ('a', 'b') kw = {}\n",
    "f1(1, 2, 3, 'a', 'b', x=99)  # a = 1 b = 2 c = 3 args = ('a', 'b') kw = {'x': 99 }\n",
    "f2(1, 2, d=99, ext=None)  # a = 1 b = 2 c = 0 d = 99 kw = {'ext': None}\n",
    "args = (1, 2, 3, 4)\n",
    "kw = {'d': 99, 'x': '#'}\n",
    "f1(*args, **kw)  # a = 1 b = 2 c = 3 args = (4,) kw = {'d': 99, 'x': '#'}\n",
    "args = (1, 2, 3)\n",
    "kw = {'d': 88, 'x': '#'}\n",
    "f2(*args, **kw)  # a = 1 b = 2 c = 3 d = 88 kw = {'x': '#'}"
   ]
  },
  {
   "cell_type": "code",
   "execution_count": null,
   "metadata": {
    "collapsed": false,
    "pycharm": {
     "name": "#%%\n"
    }
   },
   "outputs": [],
   "source": [
    "def cheeseshop(kind, *arguments, **keywords):\n",
    "    print(\"-- Do you have any\", kind, \"?\")\n",
    "    for arg in arguments:\n",
    "        print(arg)\n",
    "    print(\"-\" * 40)\n",
    "    keys = sorted(keywords.keys())\n",
    "    for kw in keys:\n",
    "        print(kw, \":\", keywords[kw])\n",
    "\n",
    "\n",
    "cheeseshop(\"Limburger\", \"It's very runny, sir.\",\n",
    "           \"It's really very, VERY runny, sir.\",\n",
    "           shopkeeper=\"Michael Palin\",\n",
    "           client=\"John Cleese\",\n",
    "           sketch=\"Cheese Shop Sketch\")"
   ]
  },
  {
   "cell_type": "code",
   "execution_count": null,
   "metadata": {},
   "outputs": [],
   "source": [
    "def factorial(input):\n",
    "    # validation check\n",
    "    if not isinstance(input, int):\n",
    "        raise Exception('input must be an integer.')\n",
    "    if input < 0:\n",
    "        raise Exception('input must be greater or equal to 0')\n",
    "\n",
    "    def inner_factorial(input):\n",
    "        if input <= 1:\n",
    "            return 1\n",
    "        return input * inner_factorial(input - 1)\n",
    "    return inner_factorial(input)\n",
    "\n",
    "\n",
    "print(factorial(5))"
   ]
  },
  {
   "cell_type": "code",
   "execution_count": null,
   "metadata": {},
   "outputs": [],
   "source": [
    "def outer():\n",
    "    x = \"local\"\n",
    "\n",
    "    def inner():\n",
    "        nonlocal x  # nonlocal关键字表示这里的x就是外部函数outer定义的变量x\n",
    "        x = 'nonlocal'\n",
    "        print(\"inner:\", x)\n",
    "    inner()\n",
    "    print(\"outer:\", x)\n",
    "\n",
    "\n",
    "outer()"
   ]
  },
  {
   "cell_type": "markdown",
   "metadata": {},
   "source": [
    "### 传参\n",
    "\n",
    "-   值传递:拷贝参数的值，然后传递给函数里的新变量\n",
    "-   引用传递:把参数的引用传给新的变量，原变量和新变量就会指向同一块内存地址\n",
    "-   Python 参数传递是赋值传递 （pass by assignment）或者叫作对象引用传递（pass by object reference）,不是指向一个具体内存地址，而是指向一个具体对象\n",
    "-   改变变量和重新赋值区别\n",
    "-   通过一个函数来改变某个变量的值\n",
    "    -   直接将可变数据类型（比如列表，字典，集合）当作参数传入，直接在其上修改\n",
    "    -   创建一个新变量，来保存修改后的值，然后将其返回给原变量\n",
    "-   不定数量参数传递给一个函数,只有变量前面 \\*(星号)才是必须的\n",
    "    -   `*args` 发送一个非键值对可变数量参数列表给一个函数\n",
    "    -   `**kwargs` 将不定长度键值对作为参数传递给一个函数,用于处理带名字参数\n"
   ]
  },
  {
   "cell_type": "code",
   "execution_count": null,
   "metadata": {},
   "outputs": [],
   "source": [
    "def my_func1(b):\n",
    "    b = 2\n",
    "\n",
    "\n",
    "a = 1\n",
    "my_func1(a)\n",
    "a"
   ]
  },
  {
   "cell_type": "code",
   "execution_count": null,
   "metadata": {},
   "outputs": [],
   "source": [
    "def my_func2(b):\n",
    "    b = 2\n",
    "    return b\n",
    "\n",
    "\n",
    "a = 1\n",
    "a = my_func2(a)\n",
    "a"
   ]
  },
  {
   "cell_type": "code",
   "execution_count": null,
   "metadata": {},
   "outputs": [],
   "source": [
    "def my_func3(l2):\n",
    "    l2.append(4)\n",
    "\n",
    "\n",
    "l1 = [1, 2, 3]\n",
    "my_func3(l1)\n",
    "l1"
   ]
  },
  {
   "cell_type": "code",
   "execution_count": null,
   "metadata": {},
   "outputs": [],
   "source": [
    "def my_func4(l2):\n",
    "    l2 = l2 + [4]\n",
    "    return l2\n",
    "\n",
    "\n",
    "l1 = [1, 2, 3]\n",
    "l1 = my_func4(l1)\n",
    "l1"
   ]
  },
  {
   "cell_type": "code",
   "execution_count": null,
   "metadata": {},
   "outputs": [],
   "source": [
    "def test_var_args(f_arg, *argv):\n",
    "    print(\"first normal arg:\", f_arg)\n",
    "    for arg in argv:\n",
    "        print(\"another arg through *argv:\", arg)\n",
    "\n",
    "\n",
    "test_var_args('yasoob', 'python', 'eggs', 'test')"
   ]
  },
  {
   "cell_type": "code",
   "execution_count": null,
   "metadata": {},
   "outputs": [],
   "source": [
    "def greet_me(**kwargs):\n",
    "    for key, value in kwargs.items():\n",
    "        print(\"{0} == {1}\".format(key, value))\n",
    "\n",
    "\n",
    "greet_me(name=\"henry\", age=34)"
   ]
  },
  {
   "cell_type": "code",
   "execution_count": null,
   "metadata": {},
   "outputs": [],
   "source": [
    "def test_args_kwargs(arg1, arg2, arg3):\n",
    "    print(\"arg1:\", arg1)\n",
    "    print(\"arg2:\", arg2)\n",
    "    print(\"arg3:\", arg3)\n",
    "\n",
    "\n",
    "args = (\"two\", 3, 5)\n",
    "kwargs = {\"arg3\": 3, \"arg2\": \"two\", \"arg1\": 5}\n",
    "\n",
    "test_args_kwargs(10, 9, 22)\n",
    "test_args_kwargs(*args)\n",
    "test_args_kwargs(**kwargs)"
   ]
  },
  {
   "cell_type": "code",
   "execution_count": null,
   "metadata": {},
   "outputs": [],
   "source": [
    "l = list(map(lambda x: x ** 2, range(5)))\n",
    "l"
   ]
  },
  {
   "cell_type": "code",
   "execution_count": null,
   "metadata": {},
   "outputs": [],
   "source": [
    "from functools import reduce\n",
    "\n",
    "list(reduce(lambda x, y: x + y, range(10)))"
   ]
  },
  {
   "cell_type": "code",
   "execution_count": null,
   "metadata": {},
   "outputs": [],
   "source": [
    "list(filter(lambda x: x % 2 == 0, range(5)))"
   ]
  },
  {
   "cell_type": "markdown",
   "metadata": {
    "collapsed": false
   },
   "source": [
    "## 返回值\n"
   ]
  },
  {
   "cell_type": "code",
   "execution_count": null,
   "metadata": {
    "pycharm": {
     "name": "#%%\n"
    }
   },
   "outputs": [],
   "source": [
    "import math\n",
    "\n",
    "\n",
    "# 返回多个值 一个tuple\n",
    "def move(x, y, step, angle=0):\n",
    "    nx = x + step * math.cos(angle)\n",
    "    ny = y - step * math.sin(angle)\n",
    "    return nx, ny\n",
    "\n",
    "\n",
    "x, y = move(100, 100, 60, math.pi / 6)\n",
    "print(x, y)"
   ]
  },
  {
   "cell_type": "markdown",
   "metadata": {},
   "source": [
    "### 函数作为结果值返回\n"
   ]
  },
  {
   "cell_type": "code",
   "execution_count": null,
   "metadata": {},
   "outputs": [],
   "source": [
    "# 内部函数sum可以引用外部函数lazy_sum的参数和局部变量，当lazy_sum返回函数sum时，相关参数和变量都保存在返回的函数中\n",
    "# 调用lazy_sum()时，每次调用都会返回一个新的函数，即使传入相同的参数\n",
    "def lazy_sum(*args):\n",
    "    def sum():\n",
    "        ax = 0\n",
    "        for n in args:\n",
    "            ax = ax + n\n",
    "        return ax\n",
    "\n",
    "    return sum\n",
    "\n",
    "\n",
    "f = lazy_sum(1, 3, 5, 7, 9)\n",
    "f1 = lazy_sum(1, 3, 5, 7, 9)\n",
    "print(f())\n",
    "f == f1"
   ]
  },
  {
   "cell_type": "markdown",
   "metadata": {},
   "source": [
    "## 闭包 closure\n",
    "\n",
    "-   外部函数返回的是一个函数\n",
    "-   外部函数 nth_power() 的参数 exponent，仍然会被内部函数 exponent_of() 记住\n",
    "-   特点\n",
    "    -   让程序变得更简洁易读，将公用参数提取封装一种公用状态\n",
    "    -   将那些额外工作的代码放在外部函数，就可以减少多次调用导致的不必要的开销，提高程序的运行效率\n",
    "\n",
    "*   返回函数不要引用任何循环变量，或者后续会发生变化的变量\n",
    "*   方法 再创建一个函数，用该函数的参数绑定循环变量当前值，无论该循环变量后续如何更改，已绑定到函数参数的值不变\n"
   ]
  },
  {
   "cell_type": "code",
   "execution_count": null,
   "metadata": {},
   "outputs": [],
   "source": [
    "def nth_power(exponent):\n",
    "    def exponent_of(base):\n",
    "        return base ** exponent\n",
    "\n",
    "    return exponent_of  # 返回值是exponent_of函数\n",
    "\n",
    "\n",
    "square = nth_power(2)  # 计算一个数的平方\n",
    "cube = nth_power(3)  # 计算一个数的立方\n",
    "square\n",
    "cube\n",
    "\n",
    "print(square(2))  # 计算2的平方\n",
    "print(cube(2))  # 计算2的立方"
   ]
  },
  {
   "cell_type": "code",
   "execution_count": null,
   "metadata": {},
   "outputs": [],
   "source": [
    "def count():\n",
    "    def f(j):\n",
    "        def g():\n",
    "            return j * j\n",
    "\n",
    "        return g\n",
    "\n",
    "    fs = []\n",
    "    for i in range(1, 4):\n",
    "        fs.append(f(i))\n",
    "    return fs\n",
    "\n",
    "\n",
    "f1, f2, f3 = count()\n",
    "f1(), f2(), f3()"
   ]
  },
  {
   "cell_type": "markdown",
   "metadata": {},
   "source": [
    "## 匿名函数 lamba\n",
    "\n",
    "-   关键字是 lambda，之后是一系列的参数，然后用冒号隔开，最后则是由这些参数组成的表达式\n",
    "-   需要一个函数，但非常简短，只需要一行就能完成；同时在程序中只被调用一次而已\n",
    "-   与函数不同\n",
    "    -   lambda 是一个表达式（expression），并不是一个语句（statement）,lambda 可以用在一些常规函数 def 不能用的地方，比如，lambda 可以用在列表内部，而常规函数却不能\n",
    "        -   表达式:用一系列“公式”去表达一个东西\n",
    "        -   语句:一定是完成了某些功能\n",
    "    -   lambda 的主体是只有一行的简单表达式，并不能扩展成一个多行的代码块.lambda 专注于简单的任务，而常规函数则负责更复杂的多行逻辑\n",
    "-   在和高阶函数、列表生成式搭配使用\n",
    "-   要传入的参数是一个可迭代的对象，lambda 内部会调用可迭代对象的 **next** 方法取值当作参数传入 lambda 函数冒号前面的值，然后把表达式计算的结果进行返回。\n"
   ]
  },
  {
   "cell_type": "code",
   "execution_count": null,
   "metadata": {
    "pycharm": {
     "is_executing": true
    }
   },
   "outputs": [],
   "source": [
    "def square(x): return x ** 2\n",
    "\n",
    "\n",
    "square(3)"
   ]
  },
  {
   "cell_type": "code",
   "execution_count": null,
   "metadata": {
    "collapsed": false,
    "pycharm": {
     "name": "#%%\n"
    }
   },
   "outputs": [],
   "source": [
    "# lambda 匿名函数\n",
    "#   冒号前面表示函数参数\n",
    "#   限制 只能有一个表达式，不用写 return\n",
    "def make_incrementor(n):\n",
    "    return lambda x: x + n\n",
    "\n",
    "\n",
    "f = make_incrementor(42)\n",
    "print(f(0))\n",
    "f(1)"
   ]
  },
  {
   "cell_type": "code",
   "execution_count": null,
   "metadata": {
    "pycharm": {
     "is_executing": true
    }
   },
   "outputs": [],
   "source": [
    "l = [(1, 20), (3, 0), (9, 10), (2, -1)]\n",
    "l.sort(key=lambda x: x[1])\n",
    "l"
   ]
  },
  {
   "cell_type": "code",
   "execution_count": null,
   "metadata": {},
   "outputs": [],
   "source": [
    "# 冒号前面 x 表示函数参数,只能有一个表达式\n",
    "# 可以把匿名函数赋值给一个变量，利用变量来调用该函数\n",
    "def f(x): return x * x\n",
    "\n",
    "\n",
    "print(f(5))\n",
    "\n",
    "\n",
    "def build(x, y):\n",
    "    return lambda: x * x + y * y\n",
    "\n",
    "\n",
    "build(3, 4)()"
   ]
  },
  {
   "cell_type": "code",
   "execution_count": null,
   "metadata": {},
   "outputs": [],
   "source": [
    "def func(x, y): return x * x + y * y\n",
    "\n",
    "\n",
    "func(3, 4)"
   ]
  },
  {
   "cell_type": "markdown",
   "metadata": {},
   "source": [
    "## 函数式编程 Functional Programming\n",
    "\n",
    "-   代码中每一块都是不可变的（immutable），都由纯函数（pure function）的形式组成\n",
    "-   一个函数就可以接收另一个函数作为参数\n",
    "-   纯函数:函数本身相互独立、互不影响，对于相同的输入，总会有相同的输出，没有任何副作用\n",
    "-   优点:其纯函数和不可变的特性使程序更加健壮，易于调试（debug）和测试\n",
    "-   缺点:限制多，难写\n",
    "-   map():对 iterable 中的每个元素，都运用 function 这个函数，最后返回一个新的可遍历的集合. 函数直接由 C 语言写的，运行时不需要通过 Python 解释器间接调用，并且内部做了诸多优化，所以运行速度最快\n",
    "-   filter() 函数表示对 iterable 中的每个元素，都使用 function 判断，并返回 True 或者 False，最后将返回 True 的元素组成一个新的可遍历的集合\n",
    "-   reduce(function, iterable):对一个集合做一些累积操作,function 同样是一个函数对象，规定它有两个参数，表示对 iterable 中的每个元素以及上一次调用后的结果，运用 function 进行计算，所以最后返回的是一个单独的数值\n"
   ]
  },
  {
   "cell_type": "code",
   "execution_count": null,
   "metadata": {},
   "outputs": [],
   "source": [
    "# 传入函数\n",
    "def add(x, y, f):\n",
    "    return f(x) + f(y)\n",
    "\n",
    "\n",
    "print(add(5, -6, abs))"
   ]
  },
  {
   "cell_type": "code",
   "execution_count": null,
   "metadata": {
    "pycharm": {
     "is_executing": true
    }
   },
   "outputs": [],
   "source": [
    "l = [1, 2, 3, 4, 5]\n",
    "squared = map(lambda x: x ** 2, l)\n",
    "list(squared)"
   ]
  },
  {
   "cell_type": "code",
   "execution_count": null,
   "metadata": {},
   "outputs": [],
   "source": [
    "new_list = filter(lambda x: x % 2 == 0, l)  # [2, 4]\n",
    "list(new_list)"
   ]
  },
  {
   "cell_type": "code",
   "execution_count": null,
   "metadata": {},
   "outputs": [],
   "source": [
    "from functools import reduce\n",
    "\n",
    "product = reduce(lambda x, y: x * y, l)\n",
    "product"
   ]
  },
  {
   "cell_type": "code",
   "execution_count": null,
   "metadata": {},
   "outputs": [],
   "source": [
    "d = {'mike': 10, 'lucy': 2, 'ben': 30}\n",
    "sorted(d.items(), key=lambda x: x[1], reverse=True)"
   ]
  },
  {
   "cell_type": "markdown",
   "metadata": {},
   "source": [
    "#### map(func, collection)\n",
    "\n",
    "-   返回类型 map object\n"
   ]
  },
  {
   "cell_type": "code",
   "execution_count": null,
   "metadata": {},
   "outputs": [],
   "source": [
    "# 传入函数依次作用到序列每个元素，并把结果作为新的Iterator返回\n",
    "def upper_first_word(str):\n",
    "    return str[:1].upper() + str[1:].lower()\n",
    "\n",
    "\n",
    "print(list(map(upper_first_word, ['adam', 'LISA', 'barT'])))\n",
    "numbers = [1, 2, 3, 4, 5, 6, 7, 8, 9]\n",
    "print(list(map(str, numbers)))\n",
    "\n",
    "print(numbers)"
   ]
  },
  {
   "cell_type": "markdown",
   "metadata": {},
   "source": [
    "#### reduce\n"
   ]
  },
  {
   "cell_type": "code",
   "execution_count": null,
   "metadata": {},
   "outputs": [],
   "source": [
    "# 第一次按照形参传入 把结果和序列下一个元素继续迭代方法\n",
    "from functools import reduce\n",
    "\n",
    "\n",
    "def add(x, y):\n",
    "    return x + y\n",
    "\n",
    "\n",
    "print(reduce(add, [1, 3, 5, 7, 9]))"
   ]
  },
  {
   "cell_type": "code",
   "execution_count": null,
   "metadata": {},
   "outputs": [],
   "source": [
    "from functools import reduce\n",
    "# 字符串作为字符数组做迭代\n",
    "\n",
    "\n",
    "def str2int(str):\n",
    "    # char->int\n",
    "    def char2num(char):\n",
    "        return {'0': 0, '1': 1, '2': 2, '3': 3, '4': 4, '5': 5, '6': 6, '7': 7, '8': 8, '9': 9}[char]\n",
    "\n",
    "    return reduce(lambda x, y: x * 10 + y, map(char2num, str))\n",
    "\n",
    "\n",
    "str2int('45666')"
   ]
  },
  {
   "cell_type": "markdown",
   "metadata": {},
   "source": [
    "#### `filter(func, list)`\n",
    "\n",
    "-   用 func 过滤 list 中每一个元素，True 保留，否则遗弃\n",
    "-   传入函数依次作用于每个元素，根据返回值是 True 还是 False 决定保留还是丢弃该元素\n"
   ]
  },
  {
   "cell_type": "code",
   "execution_count": null,
   "metadata": {},
   "outputs": [],
   "source": [
    "def not_empty(s):\n",
    "    return s and s.strip()\n",
    "\n",
    "\n",
    "print(list(filter(not_empty, ['A', '', 'B', None, 'C', '  '])))\n",
    "\n",
    "\n",
    "# 求素数\n",
    "def _odd_iter():\n",
    "    n = 1\n",
    "    while True:\n",
    "        n = n + 2\n",
    "        yield n\n",
    "\n",
    "\n",
    "def _not_divisible(n):\n",
    "    return lambda x: x % n > 0\n",
    "\n",
    "\n",
    "def primes():\n",
    "    yield 2\n",
    "    it = _odd_iter()\n",
    "    while True:\n",
    "        n = next(it)\n",
    "        yield n\n",
    "        it = filter(_not_divisible(n), it)\n",
    "\n",
    "\n",
    "for n in primes():\n",
    "    if n < 50:\n",
    "        print(n)\n",
    "    else:\n",
    "        break"
   ]
  },
  {
   "cell_type": "code",
   "execution_count": null,
   "metadata": {},
   "outputs": [],
   "source": [
    "def is_palindrome(s):\n",
    "    return str(s)[:] == str(s)[-1::-1]\n",
    "\n",
    "\n",
    "output = filter(is_palindrome, range(1, 100))\n",
    "print('1~1000:', list(output))\n",
    "if list(filter(is_palindrome, range(1, 100))) == [1, 2, 3, 4, 5, 6, 7, 8, 9, 11, 22, 33, 44, 55, 66, 77, 88, 99]:\n",
    "    print('测试成功!')\n",
    "else:\n",
    "    print('测试失败!')"
   ]
  },
  {
   "cell_type": "code",
   "execution_count": null,
   "metadata": {},
   "outputs": [],
   "source": [
    "print(sorted([36, 5, -12, 9, -21], key=abs))\n",
    "\n",
    "print(sorted(['bob', 'about', 'Zoo', 'Credit'], key=str.lower, reverse=True))\n",
    "\n",
    "L = [('Bob', 75), ('Adam', 92), ('Bart', 66), ('Lisa', 88)]\n",
    "\n",
    "\n",
    "def by_name(t):\n",
    "    return t[0]\n",
    "\n",
    "\n",
    "sorted(L, key=by_name)"
   ]
  },
  {
   "cell_type": "markdown",
   "metadata": {
    "collapsed": false
   },
   "source": [
    "## 递归\n"
   ]
  },
  {
   "cell_type": "code",
   "execution_count": null,
   "metadata": {
    "collapsed": false,
    "pycharm": {
     "name": "#%%\n"
    }
   },
   "outputs": [],
   "source": [
    "# 递归： 定义简单，逻辑清晰\n",
    "# 防止栈溢出：函数调用通过栈（stack）实现，每当进入一个函数调用栈加一层栈帧，每当函数返回栈减一层栈帧\n",
    "# 由于栈大小不是无限的，递归调用的次数过多，会导致栈溢出\n",
    "def fact(n):\n",
    "    if n == 1:\n",
    "        return 1\n",
    "    return n * fact(n - 1)\n",
    "\n",
    "\n",
    "fact(10)"
   ]
  },
  {
   "cell_type": "code",
   "execution_count": null,
   "metadata": {
    "collapsed": false,
    "pycharm": {
     "name": "#%%\n"
    }
   },
   "outputs": [],
   "source": [
    "def factorial(input):\n",
    "    # validation check\n",
    "    if not isinstance(input, int):\n",
    "        raise Exception('input must be an integer.')\n",
    "    if input < 0:\n",
    "        raise Exception('input must be greater or equal to 0')\n",
    "\n",
    "    def inner_factorial(input):\n",
    "        if input <= 1:\n",
    "            return 1\n",
    "        return input * inner_factorial(input - 1)\n",
    "\n",
    "    return inner_factorial(input)\n",
    "\n",
    "\n",
    "factorial(10)"
   ]
  },
  {
   "cell_type": "code",
   "execution_count": null,
   "metadata": {
    "collapsed": false,
    "pycharm": {
     "name": "#%%\n"
    }
   },
   "outputs": [],
   "source": [
    "# 尾递归优化：在函数返回的时候，调用自身本身，并且，return语句不能包含表达式\n",
    "# 编译器或者解释器就可以把尾递归做优化，使递归本身无论调用多少次，都只占用一个栈帧，不会出现栈溢出的情况\n",
    "def factRe(n):\n",
    "    return fact_iter(n, 1)\n",
    "\n",
    "\n",
    "def fact_iter(num, product):\n",
    "    if num == 1:\n",
    "        return product\n",
    "    return fact_iter(num - 1, num * product)\n",
    "\n",
    "\n",
    "factRe(10)"
   ]
  },
  {
   "cell_type": "markdown",
   "metadata": {},
   "source": [
    "## 装饰器\n",
    "\n",
    "-   修改原函数一些功能，使得原函数不需要修改\n"
   ]
  },
  {
   "cell_type": "code",
   "execution_count": null,
   "metadata": {},
   "outputs": [],
   "source": [
    "# 方法名与参数分离\n",
    "def func(message):\n",
    "    def get_message(message):\n",
    "        print('Got a message: {}'.format(message))\n",
    "\n",
    "    return get_message(message)\n",
    "\n",
    "\n",
    "func('hello world')"
   ]
  },
  {
   "cell_type": "code",
   "execution_count": null,
   "metadata": {},
   "outputs": [],
   "source": [
    "# 调用封装\n",
    "def func_closure():\n",
    "    def get_message(message):\n",
    "        print('Got a message: {}'.format(message))\n",
    "\n",
    "    return get_message\n",
    "\n",
    "\n",
    "send_message = func_closure()\n",
    "send_message('hello world')"
   ]
  },
  {
   "cell_type": "code",
   "execution_count": null,
   "metadata": {},
   "outputs": [],
   "source": [
    "def my_decorator(func):\n",
    "    def wrapper(*args, **kwargs):\n",
    "        print('wrapper of decorator')\n",
    "        func(*args, **kwargs)\n",
    "    return wrapper\n",
    "\n",
    "def greet(message):\n",
    "    print(message)\n",
    "\n",
    "\n",
    "greet = my_decorator(greet)\n",
    "greet('Hello World!')"
   ]
  },
  {
   "cell_type": "code",
   "execution_count": null,
   "metadata": {},
   "outputs": [],
   "source": [
    "@my_decorator\n",
    "def greet(message):\n",
    "    print(message)\n",
    "\n",
    "\n",
    "greet('Hello World!')"
   ]
  },
  {
   "cell_type": "code",
   "execution_count": null,
   "metadata": {},
   "outputs": [],
   "source": [
    "def repeat(num):\n",
    "    def my_decorator(func):\n",
    "        def wrapper(*args, **kwargs):\n",
    "            for i in range(num):\n",
    "                print('wrapper of decorator')\n",
    "                func(*args, **kwargs)\n",
    "        return wrapper\n",
    "    return my_decorator\n",
    "\n",
    "\n",
    "@repeat(4)\n",
    "def greet(message):\n",
    "    print(message)\n",
    "\n",
    "\n",
    "greet('hello world')"
   ]
  },
  {
   "cell_type": "code",
   "execution_count": null,
   "metadata": {},
   "outputs": [],
   "source": [
    "print(greet.__name__, help(greet))"
   ]
  },
  {
   "cell_type": "code",
   "execution_count": null,
   "metadata": {},
   "outputs": [],
   "source": [
    "# 保留原函数的元信息\n",
    "import functools\n",
    "\n",
    "\n",
    "def my_decorator(func):\n",
    "    @functools.wraps(func)\n",
    "    def wrapper(*args, **kwargs):\n",
    "        print('wrapper of decorator')\n",
    "        func(*args, **kwargs)\n",
    "\n",
    "    return wrapper\n",
    "\n",
    "\n",
    "@my_decorator\n",
    "def greet(message):\n",
    "    print(message)\n",
    "\n",
    "\n",
    "greet.__name__"
   ]
  },
  {
   "cell_type": "markdown",
   "metadata": {},
   "source": [
    "### 类装饰器"
   ]
  },
  {
   "cell_type": "markdown",
   "metadata": {},
   "source": [
    "#### sorted\n",
    "\n",
    "-   内置 sorted()函数可以对 list 进行排序\n",
    "-   key 指定函数将作用于 list 每一个元素上，根据 key 函数结果进行排序,按照原来值返回\n"
   ]
  },
  {
   "cell_type": "code",
   "execution_count": null,
   "metadata": {},
   "outputs": [],
   "source": [
    "# 类装饰器 依赖于函数__call__()\n",
    "class Count:\n",
    "    def __init__(self, func):\n",
    "        self.func = func\n",
    "        self.num_calls = 0\n",
    "\n",
    "    def __call__(self, *args, **kwargs):\n",
    "        self.num_calls += 1\n",
    "        print('num of calls is: {}'.format(self.num_calls))\n",
    "        return self.func(*args, **kwargs)\n",
    "\n",
    "\n",
    "@Count\n",
    "def example():\n",
    "    print(\"hello world\")\n",
    "\n",
    "\n",
    "example()\n",
    "example()\n",
    "example()"
   ]
  },
  {
   "cell_type": "code",
   "execution_count": null,
   "metadata": {},
   "outputs": [],
   "source": [
    "# 嵌套\n",
    "import functools\n",
    "\n",
    "\n",
    "def my_decorator1(func):\n",
    "    @functools.wraps(func)\n",
    "    def wrapper(*args, **kwargs):\n",
    "        print('execute decorator1')\n",
    "        func(*args, **kwargs)\n",
    "\n",
    "    return wrapper\n",
    "\n",
    "\n",
    "def my_decorator2(func):\n",
    "    @functools.wraps(func)\n",
    "    def wrapper(*args, **kwargs):\n",
    "        print('execute decorator2')\n",
    "        func(*args, **kwargs)\n",
    "\n",
    "    return wrapper\n",
    "\n",
    "\n",
    "@my_decorator1\n",
    "@my_decorator2\n",
    "def greet(message):\n",
    "    print(message)\n",
    "\n",
    "\n",
    "greet('hello world')"
   ]
  },
  {
   "cell_type": "markdown",
   "metadata": {},
   "source": [
    "### 场景\n",
    "\n",
    "-   有点像 AOP 应用场景 把一些常用的业务逻辑分离，提高程序可重用性，降低耦合度，提高开发效率\n",
    "-   重复逻辑与业务逻辑剥离\n",
    "-   使用纵向业务逻辑扩展\n",
    "-   横向业务扩展：还是要分层\n"
   ]
  },
  {
   "cell_type": "code",
   "execution_count": null,
   "metadata": {},
   "outputs": [],
   "source": [
    "# 身份认证:一级级验证\n",
    "import functools\n",
    "\n",
    "\n",
    "def authenticate(func):\n",
    "    @functools.wraps(func)\n",
    "    def wrapper(*args, **kwargs):\n",
    "        request = args[0]\n",
    "        if check_user_logged_in(request):  # 如果用户处于登录状态\n",
    "            return func(*args, **kwargs)  # 执行函数post_comment()\n",
    "        else:\n",
    "            raise Exception('Authentication failed')\n",
    "\n",
    "    return wrapper\n",
    "\n",
    "\n",
    "@authenticate\n",
    "def post_comment(request, ...)\n",
    "\n",
    "\n",
    "...\n"
   ]
  },
  {
   "cell_type": "code",
   "execution_count": null,
   "metadata": {},
   "outputs": [],
   "source": [
    "# 日志记录\n",
    "import time\n",
    "import functools\n",
    "\n",
    "\n",
    "def log_execution_time(func):\n",
    "    @functools.wraps(func)\n",
    "    def wrapper(*args, **kwargs):\n",
    "        start = time.perf_counter()\n",
    "        res = func(*args, **kwargs)\n",
    "        end = time.perf_counter()\n",
    "        print('{} took {} ms'.format(func.__name__, (end - start) * 1000))\n",
    "        return res\n",
    "\n",
    "    return wrapper\n",
    "\n",
    "\n",
    "@log_execution_time\n",
    "def calculate_similarity(items):\n",
    "    ..."
   ]
  },
  {
   "cell_type": "code",
   "execution_count": null,
   "metadata": {},
   "outputs": [],
   "source": [
    "# 校验\n",
    "import functools\n",
    "\n",
    "\n",
    "def validation_check(input):\n",
    "    @functools.wraps(func)\n",
    "    def wrapper(*args, **kwargs):\n",
    "        ...  # 检查输入是否合法\n",
    "\n",
    "# @validation_check\n",
    "# def neural_network_training(param1, param2, ...):\n",
    "#     ..."
   ]
  },
  {
   "cell_type": "code",
   "execution_count": null,
   "metadata": {},
   "outputs": [],
   "source": [
    "# 缓存\n",
    "@lru_cache\n",
    "# def check(param1, param2, ...) # 检查用户设备类型，版本号等等\n",
    "#     ...\n"
   ]
  },
  {
   "cell_type": "markdown",
   "metadata": {},
   "source": [
    "### 偏函数\n",
    "\n",
    "-   int()函数提供额外 base 参数，默认值 10。如果传入 base 参数，可以做 N 进制的转换\n",
    "-   functools.partial 帮助创建一个偏函数\n",
    "-   函数参数个数太多需要简化时，使用 functools.partial 可以创建一个新函数，固定住原函数部分参数，从而在调用时更简单\n"
   ]
  },
  {
   "cell_type": "code",
   "execution_count": null,
   "metadata": {},
   "outputs": [],
   "source": [
    "import functools\n",
    "\n",
    "int2 = functools.partial(int, base=2)\n",
    "int2('1000000')"
   ]
  },
  {
   "cell_type": "code",
   "execution_count": null,
   "metadata": {},
   "outputs": [],
   "source": [
    "def my_abs(x):\n",
    "    if not isinstance(x, (int, float)):\n",
    "        raise TypeError('bad operand type')\n",
    "    if x >= 0:\n",
    "        return x\n",
    "    else:\n",
    "        return -x\n",
    "\n",
    "\n",
    "my_abs(-101)"
   ]
  },
  {
   "cell_type": "code",
   "execution_count": null,
   "metadata": {},
   "outputs": [],
   "source": [
    "# 空函数\n",
    "# 用来作为占位符，比如还没想好怎么写函数的代码，可以先放一个pass 让代码能运行起来\n",
    "def nop():\n",
    "    pass\n",
    "\n",
    "\n",
    "nop()"
   ]
  },
  {
   "cell_type": "code",
   "execution_count": null,
   "metadata": {},
   "outputs": [],
   "source": [
    "def find_largest_element(l):\n",
    "    if not isinstance(l, list):\n",
    "        print('input is not type of list')\n",
    "        return\n",
    "    if len(l) == 0:\n",
    "        print('empty input')\n",
    "        return\n",
    "    largest_element = l[0]\n",
    "    for item in l:\n",
    "        if item > largest_element:\n",
    "            largest_element = item\n",
    "    print('largest element is: {}'.format(largest_element))\n",
    "\n",
    "\n",
    "find_largest_element([8, 1, -3, 2, 0])"
   ]
  }
 ],
 "metadata": {
  "kernelspec": {
   "display_name": "Python_syntax",
   "language": "python",
   "name": "python_syntax"
  },
  "language_info": {
   "codemirror_mode": {
    "name": "ipython",
    "version": 3
   },
   "file_extension": ".py",
   "mimetype": "text/x-python",
   "name": "python",
   "nbconvert_exporter": "python",
   "pygments_lexer": "ipython3",
   "version": "3.9.19"
  },
  "toc": {
   "base_numbering": 1,
   "nav_menu": {},
   "number_sections": true,
   "sideBar": true,
   "skip_h1_title": false,
   "title_cell": "Table of Contents",
   "title_sidebar": "Contents",
   "toc_cell": false,
   "toc_position": {},
   "toc_section_display": true,
   "toc_window_display": false
  },
  "varInspector": {
   "cols": {
    "lenName": 16,
    "lenType": 16,
    "lenVar": 40
   },
   "kernels_config": {
    "python": {
     "delete_cmd_postfix": "",
     "delete_cmd_prefix": "del ",
     "library": "var_list.py",
     "varRefreshCmd": "print(var_dic_list())"
    },
    "r": {
     "delete_cmd_postfix": ") ",
     "delete_cmd_prefix": "rm(",
     "library": "var_list.r",
     "varRefreshCmd": "cat(var_dic_list()) "
    }
   },
   "types_to_exclude": [
    "module",
    "function",
    "builtin_function_or_method",
    "instance",
    "_Feature"
   ],
   "window_display": false
  }
 },
 "nbformat": 4,
 "nbformat_minor": 4
}
