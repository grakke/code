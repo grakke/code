{
 "cells": [
  {
   "cell_type": "markdown",
   "metadata": {
    "pycharm": {
     "name": "#%% md\n"
    }
   },
   "source": [
    "#### 单元测试\n",
    "\n",
    "- 用虚假实现来替换掉被测试函数的一些依赖项，把更多精力放在需要被测试的功能上\n",
    "* mock 通过一个虚假对象来代替被测试函数或模块需要的对象,单元测试需要测的是某个节点的逻辑功能，mock 掉相关的依赖项是非常重要的\n",
    "* side_effect 属性可以根据不同输入返回不同数值，而不只是一个 return_value\n",
    "* patch 可以应用 Python 的 decoration 模式或是 context manager 概念，快速自然地 mock 所需的函数\n",
    "* 通过 code review\n",
    "    - Test Coverage 基本等同于提高代码的正确性。用 [coverage tool](https://coverage.readthedocs.io/en/v4.5.x/)  来衡量 Test Coverage，并且显示每个模块为被 coverage 的语句\n",
    "    - 模块化"
   ]
  },
  {
   "cell_type": "code",
   "execution_count": null,
   "metadata": {},
   "outputs": [],
   "source": [
    "\n",
    "from unittest.mock import patch\n",
    "\n",
    "@patch('sort')\n",
    "def test_sort(self, mock_sort):\n",
    "    ...\n",
    "    ..."
   ]
  },
  {
   "cell_type": "code",
   "execution_count": null,
   "metadata": {},
   "outputs": [],
   "source": [
    "\n",
    "with patch.object(A, '__init__', lambda x: None):\n",
    "      …"
   ]
  }
 ],
 "metadata": {
  "kernelspec": {
   "display_name": "Python 3",
   "language": "python",
   "name": "python3"
  },
  "language_info": {
   "codemirror_mode": {
    "name": "ipython",
    "version": 3
   },
   "file_extension": ".py",
   "mimetype": "text/x-python",
   "name": "python",
   "nbconvert_exporter": "python",
   "pygments_lexer": "ipython3",
   "version": "3.7.7"
  },
  "toc": {
   "base_numbering": 1,
   "nav_menu": {},
   "number_sections": true,
   "sideBar": true,
   "skip_h1_title": false,
   "title_cell": "Table of Contents",
   "title_sidebar": "Contents",
   "toc_cell": false,
   "toc_position": {},
   "toc_section_display": true,
   "toc_window_display": false
  },
  "varInspector": {
   "cols": {
    "lenName": 16,
    "lenType": 16,
    "lenVar": 40
   },
   "kernels_config": {
    "python": {
     "delete_cmd_postfix": "",
     "delete_cmd_prefix": "del ",
     "library": "var_list.py",
     "varRefreshCmd": "print(var_dic_list())"
    },
    "r": {
     "delete_cmd_postfix": ") ",
     "delete_cmd_prefix": "rm(",
     "library": "var_list.r",
     "varRefreshCmd": "cat(var_dic_list()) "
    }
   },
   "types_to_exclude": [
    "module",
    "function",
    "builtin_function_or_method",
    "instance",
    "_Feature"
   ],
   "window_display": false
  }
 },
 "nbformat": 4,
 "nbformat_minor": 4
}