{
 "cells": [
  {
   "cell_type": "markdown",
   "metadata": {},
   "source": [
    "#### [pdb](https://docs.python.org/3/library/pdb.html#module-pdb)\n",
    "\n",
    "* IDE 断点调试器中可以执行的一切操作，比如打印，语法是\"p <expression>\"：\n",
    "* “n”:表示继续执行代码到下一行\n",
    "* ”l“:列举出当前代码行上下的 11 行源代码，方便开发者熟悉当前断点周围的代码状态\n",
    "* s:step into  的意思，即进入相对应的代码内部\n",
    "* ”r“，表示 step out，即继续执行，直到当前的函数完成返回\n",
    "* ”b [ ([filename:]lineno | function) [, condition] ]“可以用来设置断点\n",
    "* ”c“则表示一直执行程序，直到遇到下一个断点"
   ]
  },
  {
   "cell_type": "code",
   "execution_count": 1,
   "metadata": {},
   "outputs": [
    {
     "name": "stdout",
     "output_type": "stream",
     "text": [
      "--Return--\n",
      "> <ipython-input-1-973c49dc757d>(4)<module>()->None\n",
      "-> pdb.set_trace()\n",
      "(Pdb) s\n",
      "> /home/henry/anaconda3/lib/python3.7/site-packages/IPython/core/interactiveshell.py(3334)run_code()\n",
      "-> sys.excepthook = old_excepthook\n",
      "(Pdb) n\n",
      "> /home/henry/anaconda3/lib/python3.7/site-packages/IPython/core/interactiveshell.py(3350)run_code()\n",
      "-> outflag = False\n",
      "(Pdb) a\n",
      "self = <ipykernel.zmqshell.ZMQInteractiveShell object at 0x7fe784d96b10>\n",
      "code_obj = <code object <module> at 0x7fe780164ae0, file \"<ipython-input-1-973c49dc757d>\", line 4>\n",
      "result = <ExecutionResult object at 7fe7800eea10, execution_count=1 error_before_exec=None error_in_exec=None info=<ExecutionInfo object at 7fe7800eeb10, raw_cell=\"a = 1\n",
      "b = 2\n",
      "import pdb\n",
      "pdb.set_trace()\n",
      "c = 3\n",
      "print..\" store_history=True silent=False shell_futures=True> result=None>\n",
      "async_ = False\n",
      "(Pdb) p a\n",
      "*** NameError: name 'a' is not defined\n",
      "(Pdb) p b\n",
      "*** NameError: name 'b' is not defined\n",
      "(Pdb) r\n",
      "Internal StopIteration: False\n",
      "> /home/henry/anaconda3/lib/python3.7/site-packages/IPython/core/interactiveshell.py(3254)run_ast_nodes()\n",
      "-> if (await self.run_code(code, result,  async_=asy)):\n",
      "(Pdb) n\n",
      "> /home/henry/anaconda3/lib/python3.7/site-packages/IPython/core/interactiveshell.py(3246)run_ast_nodes()\n",
      "-> for node,mode in to_run:\n",
      "(Pdb) n\n",
      "> /home/henry/anaconda3/lib/python3.7/site-packages/IPython/core/interactiveshell.py(3247)run_ast_nodes()\n",
      "-> if mode == 'exec':\n",
      "(Pdb) n\n",
      "> /home/henry/anaconda3/lib/python3.7/site-packages/IPython/core/interactiveshell.py(3248)run_ast_nodes()\n",
      "-> mod = Module([node], [])\n",
      "(Pdb) n\n",
      "> /home/henry/anaconda3/lib/python3.7/site-packages/IPython/core/interactiveshell.py(3251)run_ast_nodes()\n",
      "-> with compiler.extra_flags(getattr(ast, 'PyCF_ALLOW_TOP_LEVEL_AWAIT', 0x0) if self.autoawait else 0x0):\n",
      "(Pdb) n\n",
      "> /home/henry/anaconda3/lib/python3.7/site-packages/IPython/core/interactiveshell.py(3252)run_ast_nodes()\n",
      "-> code = compiler(mod, cell_name, mode)\n",
      "(Pdb) n\n",
      "> /home/henry/anaconda3/lib/python3.7/site-packages/IPython/core/interactiveshell.py(3253)run_ast_nodes()\n",
      "-> asy = compare(code)\n",
      "(Pdb) n\n",
      "> /home/henry/anaconda3/lib/python3.7/site-packages/IPython/core/interactiveshell.py(3254)run_ast_nodes()\n",
      "-> if (await self.run_code(code, result,  async_=asy)):\n",
      "(Pdb) n\n",
      "> /home/henry/anaconda3/lib/python3.7/site-packages/IPython/core/interactiveshell.py(3246)run_ast_nodes()\n",
      "-> for node,mode in to_run:\n",
      "(Pdb) n\n",
      "> /home/henry/anaconda3/lib/python3.7/site-packages/IPython/core/interactiveshell.py(3247)run_ast_nodes()\n",
      "-> if mode == 'exec':\n",
      "(Pdb) n\n",
      "> /home/henry/anaconda3/lib/python3.7/site-packages/IPython/core/interactiveshell.py(3249)run_ast_nodes()\n",
      "-> elif mode == 'single':\n",
      "(Pdb) n\n",
      "> /home/henry/anaconda3/lib/python3.7/site-packages/IPython/core/interactiveshell.py(3250)run_ast_nodes()\n",
      "-> mod = ast.Interactive([node])\n",
      "(Pdb) d\n",
      "*** Newest frame\n",
      "(Pdb) h\n",
      "\n",
      "Documented commands (type help <topic>):\n",
      "========================================\n",
      "EOF    c          d        h         list      q        rv       undisplay\n",
      "a      cl         debug    help      ll        quit     s        unt      \n",
      "alias  clear      disable  ignore    longlist  r        source   until    \n",
      "args   commands   display  interact  n         restart  step     up       \n",
      "b      condition  down     j         next      return   tbreak   w        \n",
      "break  cont       enable   jump      p         retval   u        whatis   \n",
      "bt     continue   exit     l         pp        run      unalias  where    \n",
      "\n",
      "Miscellaneous help topics:\n",
      "==========================\n",
      "exec  pdb\n",
      "\n",
      "(Pdb) exit\n"
     ]
    },
    {
     "ename": "BdbQuit",
     "evalue": "",
     "output_type": "error",
     "traceback": [
      "\u001b[0;31m---------------------------------------------------------------------------\u001b[0m",
      "\u001b[0;31mBdbQuit\u001b[0m                                   Traceback (most recent call last)",
      "\u001b[0;32m~/anaconda3/lib/python3.7/site-packages/IPython/core/interactiveshell.py\u001b[0m in \u001b[0;36mrun_ast_nodes\u001b[0;34m(self, nodelist, cell_name, interactivity, compiler, result)\u001b[0m\n\u001b[1;32m   3248\u001b[0m                         \u001b[0mmod\u001b[0m \u001b[0;34m=\u001b[0m \u001b[0mModule\u001b[0m\u001b[0;34m(\u001b[0m\u001b[0;34m[\u001b[0m\u001b[0mnode\u001b[0m\u001b[0;34m]\u001b[0m\u001b[0;34m,\u001b[0m \u001b[0;34m[\u001b[0m\u001b[0;34m]\u001b[0m\u001b[0;34m)\u001b[0m\u001b[0;34m\u001b[0m\u001b[0;34m\u001b[0m\u001b[0m\n\u001b[1;32m   3249\u001b[0m                     \u001b[0;32melif\u001b[0m \u001b[0mmode\u001b[0m \u001b[0;34m==\u001b[0m \u001b[0;34m'single'\u001b[0m\u001b[0;34m:\u001b[0m\u001b[0;34m\u001b[0m\u001b[0;34m\u001b[0m\u001b[0m\n\u001b[0;32m-> 3250\u001b[0;31m                         \u001b[0mmod\u001b[0m \u001b[0;34m=\u001b[0m \u001b[0mast\u001b[0m\u001b[0;34m.\u001b[0m\u001b[0mInteractive\u001b[0m\u001b[0;34m(\u001b[0m\u001b[0;34m[\u001b[0m\u001b[0mnode\u001b[0m\u001b[0;34m]\u001b[0m\u001b[0;34m)\u001b[0m\u001b[0;34m\u001b[0m\u001b[0;34m\u001b[0m\u001b[0m\n\u001b[0m\u001b[1;32m   3251\u001b[0m                     \u001b[0;32mwith\u001b[0m \u001b[0mcompiler\u001b[0m\u001b[0;34m.\u001b[0m\u001b[0mextra_flags\u001b[0m\u001b[0;34m(\u001b[0m\u001b[0mgetattr\u001b[0m\u001b[0;34m(\u001b[0m\u001b[0mast\u001b[0m\u001b[0;34m,\u001b[0m \u001b[0;34m'PyCF_ALLOW_TOP_LEVEL_AWAIT'\u001b[0m\u001b[0;34m,\u001b[0m \u001b[0;36m0x0\u001b[0m\u001b[0;34m)\u001b[0m \u001b[0;32mif\u001b[0m \u001b[0mself\u001b[0m\u001b[0;34m.\u001b[0m\u001b[0mautoawait\u001b[0m \u001b[0;32melse\u001b[0m \u001b[0;36m0x0\u001b[0m\u001b[0;34m)\u001b[0m\u001b[0;34m:\u001b[0m\u001b[0;34m\u001b[0m\u001b[0;34m\u001b[0m\u001b[0m\n\u001b[1;32m   3252\u001b[0m                         \u001b[0mcode\u001b[0m \u001b[0;34m=\u001b[0m \u001b[0mcompiler\u001b[0m\u001b[0;34m(\u001b[0m\u001b[0mmod\u001b[0m\u001b[0;34m,\u001b[0m \u001b[0mcell_name\u001b[0m\u001b[0;34m,\u001b[0m \u001b[0mmode\u001b[0m\u001b[0;34m)\u001b[0m\u001b[0;34m\u001b[0m\u001b[0;34m\u001b[0m\u001b[0m\n",
      "\u001b[0;32m~/anaconda3/lib/python3.7/bdb.py\u001b[0m in \u001b[0;36mtrace_dispatch\u001b[0;34m(self, frame, event, arg)\u001b[0m\n\u001b[1;32m     86\u001b[0m             \u001b[0;32mreturn\u001b[0m \u001b[0;31m# None\u001b[0m\u001b[0;34m\u001b[0m\u001b[0;34m\u001b[0m\u001b[0m\n\u001b[1;32m     87\u001b[0m         \u001b[0;32mif\u001b[0m \u001b[0mevent\u001b[0m \u001b[0;34m==\u001b[0m \u001b[0;34m'line'\u001b[0m\u001b[0;34m:\u001b[0m\u001b[0;34m\u001b[0m\u001b[0;34m\u001b[0m\u001b[0m\n\u001b[0;32m---> 88\u001b[0;31m             \u001b[0;32mreturn\u001b[0m \u001b[0mself\u001b[0m\u001b[0;34m.\u001b[0m\u001b[0mdispatch_line\u001b[0m\u001b[0;34m(\u001b[0m\u001b[0mframe\u001b[0m\u001b[0;34m)\u001b[0m\u001b[0;34m\u001b[0m\u001b[0;34m\u001b[0m\u001b[0m\n\u001b[0m\u001b[1;32m     89\u001b[0m         \u001b[0;32mif\u001b[0m \u001b[0mevent\u001b[0m \u001b[0;34m==\u001b[0m \u001b[0;34m'call'\u001b[0m\u001b[0;34m:\u001b[0m\u001b[0;34m\u001b[0m\u001b[0;34m\u001b[0m\u001b[0m\n\u001b[1;32m     90\u001b[0m             \u001b[0;32mreturn\u001b[0m \u001b[0mself\u001b[0m\u001b[0;34m.\u001b[0m\u001b[0mdispatch_call\u001b[0m\u001b[0;34m(\u001b[0m\u001b[0mframe\u001b[0m\u001b[0;34m,\u001b[0m \u001b[0marg\u001b[0m\u001b[0;34m)\u001b[0m\u001b[0;34m\u001b[0m\u001b[0;34m\u001b[0m\u001b[0m\n",
      "\u001b[0;32m~/anaconda3/lib/python3.7/bdb.py\u001b[0m in \u001b[0;36mdispatch_line\u001b[0;34m(self, frame)\u001b[0m\n\u001b[1;32m    111\u001b[0m         \u001b[0;32mif\u001b[0m \u001b[0mself\u001b[0m\u001b[0;34m.\u001b[0m\u001b[0mstop_here\u001b[0m\u001b[0;34m(\u001b[0m\u001b[0mframe\u001b[0m\u001b[0;34m)\u001b[0m \u001b[0;32mor\u001b[0m \u001b[0mself\u001b[0m\u001b[0;34m.\u001b[0m\u001b[0mbreak_here\u001b[0m\u001b[0;34m(\u001b[0m\u001b[0mframe\u001b[0m\u001b[0;34m)\u001b[0m\u001b[0;34m:\u001b[0m\u001b[0;34m\u001b[0m\u001b[0;34m\u001b[0m\u001b[0m\n\u001b[1;32m    112\u001b[0m             \u001b[0mself\u001b[0m\u001b[0;34m.\u001b[0m\u001b[0muser_line\u001b[0m\u001b[0;34m(\u001b[0m\u001b[0mframe\u001b[0m\u001b[0;34m)\u001b[0m\u001b[0;34m\u001b[0m\u001b[0;34m\u001b[0m\u001b[0m\n\u001b[0;32m--> 113\u001b[0;31m             \u001b[0;32mif\u001b[0m \u001b[0mself\u001b[0m\u001b[0;34m.\u001b[0m\u001b[0mquitting\u001b[0m\u001b[0;34m:\u001b[0m \u001b[0;32mraise\u001b[0m \u001b[0mBdbQuit\u001b[0m\u001b[0;34m\u001b[0m\u001b[0;34m\u001b[0m\u001b[0m\n\u001b[0m\u001b[1;32m    114\u001b[0m         \u001b[0;32mreturn\u001b[0m \u001b[0mself\u001b[0m\u001b[0;34m.\u001b[0m\u001b[0mtrace_dispatch\u001b[0m\u001b[0;34m\u001b[0m\u001b[0;34m\u001b[0m\u001b[0m\n\u001b[1;32m    115\u001b[0m \u001b[0;34m\u001b[0m\u001b[0m\n",
      "\u001b[0;31mBdbQuit\u001b[0m: "
     ]
    }
   ],
   "source": [
    "a = 1\n",
    "b = 2\n",
    "import pdb\n",
    "pdb.set_trace()\n",
    "c = 3\n",
    "print(a + b + c)"
   ]
  },
  {
   "cell_type": "markdown",
   "metadata": {},
   "source": [
    "#### [cProfile](https://docs.python.org/3.7/library/profile.html)\n",
    "\n",
    "* profile，是指对代码的每个部分进行动态的分析，比如准确计算出每个模块消耗的时间等\n",
    "* 输出\n",
    "    - ncalls，是指相应代码 / 函数被调用的次数\n",
    "    - tottime，是指对应代码 / 函数总共执行所需要的时间（注意，并不包括它调用的其他代码 / 函数的执行时间）\n",
    "    - tottime percall，就是上述两者相除的结果，也就是tottime / ncalls；\n",
    "    - cumtime，则是指对应代码 / 函数总共执行所需要的时间，这里包括了它调用的其他代码 / 函数的执行时间\n",
    "    - cumtime percall，则是 cumtime 和 ncalls 相除的平均结果\n",
    "* `python3 -m cProfile xxx.py`"
   ]
  }
 ],
 "metadata": {
  "kernelspec": {
   "display_name": "Python 3",
   "language": "python",
   "name": "python3"
  },
  "language_info": {
   "codemirror_mode": {
    "name": "ipython",
    "version": 3
   },
   "file_extension": ".py",
   "mimetype": "text/x-python",
   "name": "python",
   "nbconvert_exporter": "python",
   "pygments_lexer": "ipython3",
   "version": "3.7.7"
  },
  "toc": {
   "base_numbering": 1,
   "nav_menu": {},
   "number_sections": true,
   "sideBar": true,
   "skip_h1_title": false,
   "title_cell": "Table of Contents",
   "title_sidebar": "Contents",
   "toc_cell": false,
   "toc_position": {},
   "toc_section_display": true,
   "toc_window_display": false
  },
  "varInspector": {
   "cols": {
    "lenName": 16,
    "lenType": 16,
    "lenVar": 40
   },
   "kernels_config": {
    "python": {
     "delete_cmd_postfix": "",
     "delete_cmd_prefix": "del ",
     "library": "var_list.py",
     "varRefreshCmd": "print(var_dic_list())"
    },
    "r": {
     "delete_cmd_postfix": ") ",
     "delete_cmd_prefix": "rm(",
     "library": "var_list.r",
     "varRefreshCmd": "cat(var_dic_list()) "
    }
   },
   "types_to_exclude": [
    "module",
    "function",
    "builtin_function_or_method",
    "instance",
    "_Feature"
   ],
   "window_display": false
  }
 },
 "nbformat": 4,
 "nbformat_minor": 4
}
