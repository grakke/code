{
 "cells": [
  {
   "cell_type": "markdown",
   "metadata": {},
   "source": [
    "## 控制语句"
   ]
  },
  {
   "cell_type": "markdown",
   "metadata": {
    "collapsed": false,
    "pycharm": {
     "name": "#%%\n"
    }
   },
   "source": [
    "## 条件判断 如果判断是True，执行该判断对应语句，忽略剩下 elif和else\n"
   ]
  },
  {
   "cell_type": "code",
   "execution_count": null,
   "metadata": {},
   "outputs": [],
   "source": [
    "\n",
    "age = int(input('age:'))  # 的数据类型是str\n",
    "if age <= 6:\n",
    "    print('your age is', age)\n",
    "    print('kid')\n",
    "elif age >= 18:\n",
    "    print('adult')\n",
    "else:\n",
    "    print('teenager')\n"
   ]
  },
  {
   "cell_type": "code",
   "execution_count": null,
   "metadata": {},
   "outputs": [],
   "source": [
    "def age_period(age):\n",
    "    if age < 0 or age > 100:\n",
    "        return 'error input'\n",
    "    elif 0 <= age <= 18:\n",
    "        return 'boyhood'\n",
    "    elif 18 < age <= 30:\n",
    "        return 'teenger'\n",
    "    elif 30 < age <= 55:\n",
    "        return 'midage'\n",
    "    else:\n",
    "        return 'old man'\n",
    "\n",
    "\n",
    "age_period(20)"
   ]
  },
  {
   "cell_type": "code",
   "execution_count": null,
   "metadata": {},
   "outputs": [],
   "source": [
    "## 循环语句\n"
   ]
  },
  {
   "cell_type": "code",
   "execution_count": null,
   "metadata": {},
   "outputs": [],
   "source": [
    "# 循环字典\n",
    "d = {'name': 'jason', 'dob': '2000-01-01', 'gender': 'male'}\n",
    "\n",
    "for k in d:\n",
    "    print(k)\n",
    "\n",
    "for v in d.values():\n",
    "    print(v)\n",
    "\n",
    "for k, v in d.items():\n",
    "    print('key:{}, value:{}'.format(k, v))"
   ]
  },
  {
   "cell_type": "code",
   "execution_count": null,
   "metadata": {
    "collapsed": false,
    "pycharm": {
     "name": "#%%\n"
    }
   },
   "outputs": [],
   "source": [
    "## 循环 可迭代的 适合作为期望从某些东西中获得连续项直到结束的函数或结构的一个目标（参数）\n",
    "sum1 = 0\n",
    "for x in range(10):\n",
    "    sum1 = sum1 + x\n",
    "print(sum1)\n",
    "\n",
    "words = ['cat', 'window', 'defenestrate']\n",
    "for w in words[:]:\n",
    "    if len(w) > 6:\n",
    "        words.insert(0, w)\n",
    "print(words)\n",
    "\n",
    "a = ['Mary', 'had', 'a', 'little', 'lamb']\n",
    "for i in range(len(a)):\n",
    "    print(i, a[i])\n",
    "\n",
    "n = 0\n",
    "while n < 100:\n",
    "    n = n + 1\n",
    "    if n % 2 == 0:\n",
    "        continue\n",
    "    if n > 10:  # 当n = 11时，条件满足，执行break语句\n",
    "        break  # break语句会结束当前循环\n",
    "    print(n)"
   ]
  },
  {
   "cell_type": "code",
   "execution_count": null,
   "metadata": {},
   "outputs": [],
   "source": [
    "l = [1, 2, 3, 4, 5, 6, 7, 8]\n",
    "\n",
    "for index in range(0, len(l) - 1):\n",
    "    print(l[index])\n",
    "\n",
    "for index, item in enumerate(l):\n",
    "    print('index:{} item:{}'.format(index, item))"
   ]
  },
  {
   "cell_type": "code",
   "execution_count": null,
   "metadata": {},
   "outputs": [],
   "source": [
    "list(enumerate(l))"
   ]
  },
  {
   "cell_type": "code",
   "execution_count": null,
   "metadata": {},
   "outputs": [],
   "source": [
    "l = [1, 2, 3, 4]\n",
    "index = 0\n",
    "while index < len(l):\n",
    "    print(l[index])\n",
    "    index += 1"
   ]
  },
  {
   "cell_type": "code",
   "execution_count": null,
   "metadata": {},
   "outputs": [],
   "source": [
    "from random import randint\n",
    "\n",
    "\n",
    "def play():\n",
    "    random_int = randint(0, 100)\n",
    "\n",
    "    while True:\n",
    "        user_guess = int(input(\"Guess what number we guess (0-100)?\"))\n",
    "\n",
    "        if user_guess == random_int:\n",
    "            print(f\"Your found the number {random_int}. Congrats!\")\n",
    "            break\n",
    "        if user_guess < random_int:\n",
    "            print(\"Your number is less than the number we guessed\")\n",
    "            continue\n",
    "        if user_guess > random_int:\n",
    "            print(\"Your number is greater than the number we guessed\")\n",
    "            continue\n",
    "\n",
    "\n",
    "if __name__ == '__main__':\n",
    "    play()"
   ]
  },
  {
   "cell_type": "markdown",
   "metadata": {},
   "source": [
    "###  复合使用\n",
    "\n",
    "* `expression1 if condition else expression2 for item in iterable`\n",
    "* `expression for item in iterable if condition`"
   ]
  },
  {
   "cell_type": "code",
   "execution_count": null,
   "metadata": {},
   "outputs": [],
   "source": [
    "x = [4, 6, 8, 9, -12, 45, -46]\n",
    "y = [value * 2 + 5 if value > 0 else -value * 2 + 5 for value in x]\n",
    "y"
   ]
  },
  {
   "cell_type": "code",
   "execution_count": null,
   "metadata": {},
   "outputs": [],
   "source": [
    "text = ' Today,  is, Sunday'\n",
    "text_list = [s.strip() for s in text.split(',') if len(s.strip()) > 3]\n",
    "print(text_list)"
   ]
  },
  {
   "cell_type": "markdown",
   "metadata": {},
   "source": [
    "##### 练习 "
   ]
  },
  {
   "cell_type": "code",
   "execution_count": null,
   "metadata": {
    "collapsed": false,
    "pycharm": {
     "name": "#%%\n"
    }
   },
   "outputs": [],
   "source": [
    "from collections.abc import Iterable\n",
    "isinstance('abc', Iterable)"
   ]
  },
  {
   "cell_type": "code",
   "execution_count": null,
   "metadata": {},
   "outputs": [],
   "source": [
    "attributes = ['name', 'dob', 'gender']\n",
    "values = [['jason', '2000-01-01', 'male'], ['mike', '1999-01-01', 'male'], ['nancy', '2001-02-01', 'female']]\n",
    "\n",
    "[dict(zip(attributes, v)) for v in values]"
   ]
  },
  {
   "cell_type": "code",
   "execution_count": null,
   "metadata": {},
   "outputs": [],
   "source": [
    "l = []\n",
    "for value in values:\n",
    "    #     d = {}\n",
    "    #     for i in range(len(attributes)):\n",
    "    #         d[attributes[i]] = value[i]\n",
    "    #     l.append(d)\n",
    "    l.append(dict(zip(attributes, value)))\n",
    "l"
   ]
  },
  {
   "cell_type": "code",
   "execution_count": null,
   "metadata": {},
   "outputs": [],
   "source": [
    "print([{attributes[i]: value[i] for i in range(len(attributes))} for value in values])"
   ]
  },
  {
   "cell_type": "code",
   "execution_count": null,
   "metadata": {},
   "outputs": [],
   "source": [
    "# 将可迭代的对象作为参数，将对象中对应的元素打包成一个个元组，然后返回由这些元组组成的列表\n",
    "dict(zip([1, 2, 3], ['a', 'b', 'c']))"
   ]
  },
  {
   "cell_type": "code",
   "execution_count": null,
   "metadata": {
    "collapsed": false,
    "pycharm": {
     "name": "#%%\n"
    }
   },
   "outputs": [],
   "source": [
    "# 无限循环\n",
    "import threading\n",
    "import multiprocessing\n",
    "\n",
    "\n",
    "def loop():\n",
    "    x = 0\n",
    "    while True:\n",
    "        x = x ^ 1\n",
    "\n",
    "\n",
    "for i in range(multiprocessing.cpu_count()):\n",
    "    t = threading.Thread(target=loop)\n",
    "    t.start()"
   ]
  }
 ],
 "metadata": {
  "kernelspec": {
   "display_name": "Python_syntax",
   "language": "python",
   "name": "python_syntax"
  },
  "language_info": {
   "codemirror_mode": {
    "name": "ipython",
    "version": 3
   },
   "file_extension": ".py",
   "mimetype": "text/x-python",
   "name": "python",
   "nbconvert_exporter": "python",
   "pygments_lexer": "ipython3",
   "version": "3.9.19"
  },
  "toc": {
   "base_numbering": 1,
   "nav_menu": {},
   "number_sections": true,
   "sideBar": true,
   "skip_h1_title": false,
   "title_cell": "Table of Contents",
   "title_sidebar": "Contents",
   "toc_cell": false,
   "toc_position": {},
   "toc_section_display": true,
   "toc_window_display": false
  },
  "varInspector": {
   "cols": {
    "lenName": 16,
    "lenType": 16,
    "lenVar": 40
   },
   "kernels_config": {
    "python": {
     "delete_cmd_postfix": "",
     "delete_cmd_prefix": "del ",
     "library": "var_list.py",
     "varRefreshCmd": "print(var_dic_list())"
    },
    "r": {
     "delete_cmd_postfix": ") ",
     "delete_cmd_prefix": "rm(",
     "library": "var_list.r",
     "varRefreshCmd": "cat(var_dic_list()) "
    }
   },
   "types_to_exclude": [
    "module",
    "function",
    "builtin_function_or_method",
    "instance",
    "_Feature"
   ],
   "window_display": false
  }
 },
 "nbformat": 4,
 "nbformat_minor": 4
}
