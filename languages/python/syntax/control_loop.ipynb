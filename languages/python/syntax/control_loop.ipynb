{
 "cells": [
  {
   "cell_type": "markdown",
   "metadata": {},
   "source": [
    "# 控制语句\n"
   ]
  },
  {
   "cell_type": "markdown",
   "metadata": {
    "collapsed": false,
    "pycharm": {
     "name": "#%%\n"
    }
   },
   "source": [
    "## 条件判断\n",
    "\n",
    "-   如果判断是 True，执行该判断对应语句，忽略剩下 elif 和 else\n"
   ]
  },
  {
   "cell_type": "code",
   "execution_count": null,
   "metadata": {},
   "outputs": [],
   "source": [
    "age = int(input('age:'))  # 的数据类型是str\n",
    "if age <= 6:\n",
    "    print('your age is', age)\n",
    "    print('kid')\n",
    "elif age >= 18:\n",
    "    print('adult')\n",
    "else:\n",
    "    print('teenager')"
   ]
  },
  {
   "cell_type": "code",
   "execution_count": null,
   "metadata": {},
   "outputs": [],
   "source": [
    "def age_period(age):\n",
    "    if age < 0 or age > 100:\n",
    "        return 'error input'\n",
    "    elif 0 <= age <= 18:\n",
    "        return 'boyhood'\n",
    "    elif 18 < age <= 30:\n",
    "        return 'teenager'\n",
    "    elif 30 < age <= 55:\n",
    "        return 'midage'\n",
    "    else:\n",
    "        return 'old man'\n",
    "\n",
    "\n",
    "age_period(20)"
   ]
  },
  {
   "cell_type": "code",
   "execution_count": null,
   "metadata": {},
   "outputs": [],
   "source": [
    "age = input(\"请输入年龄：\")\n",
    "age_int = int(age)\n",
    "if age_int > 0 and age_int < 18:\n",
    "    print(\"温馨提示：\")\n",
    "    print(\"不向未成年人销售烟酒！\")\n",
    "elif age_int >= 18 and age_int <= 100:\n",
    "    print(\"年龄合法，请付款！\")\n",
    "elif age_int <= 0 or age_int > 100:\n",
    "    print(\"非法年龄！\")\n",
    "\n",
    "\n",
    "print(\"欢迎下次光临！\")"
   ]
  },
  {
   "cell_type": "markdown",
   "metadata": {},
   "source": [
    "## 循环语句\n"
   ]
  },
  {
   "cell_type": "code",
   "execution_count": null,
   "metadata": {},
   "outputs": [],
   "source": [
    "# 循环字典\n",
    "d = {'name': 'jason', 'dob': '2000-01-01', 'gender': 'male'}\n",
    "\n",
    "for k in d:\n",
    "    print(k)\n",
    "\n",
    "for v in d.values():\n",
    "    print(v)\n",
    "\n",
    "for k, v in d.items():\n",
    "    print('key:{}, value:{}'.format(k, v))"
   ]
  },
  {
   "cell_type": "code",
   "execution_count": null,
   "metadata": {
    "collapsed": false,
    "pycharm": {
     "name": "#%%\n"
    }
   },
   "outputs": [],
   "source": [
    "# 循环 可迭代的 适合作为期望从某些东西中获得连续项直到结束的函数或结构的一个目标（参数）\n",
    "sum1 = 0\n",
    "for x in range(10):\n",
    "    sum1 = sum1 + x\n",
    "print(sum1)\n",
    "\n",
    "words = ['cat', 'window', 'defenestrate']\n",
    "for w in words[:]:\n",
    "    if len(w) > 6:\n",
    "        words.insert(0, w)\n",
    "print(words)\n",
    "\n",
    "a = ['Mary', 'had', 'a', 'little', 'lamb']\n",
    "for i in range(len(a)):\n",
    "    print(i, a[i])\n",
    "\n",
    "n = 0\n",
    "while n < 100:\n",
    "    n = n + 1\n",
    "    if n % 2 == 0:\n",
    "        continue\n",
    "    if n > 10:  # 当n = 11时，条件满足，执行break语句\n",
    "        break  # break语句会结束当前循环\n",
    "    print(n)"
   ]
  },
  {
   "cell_type": "code",
   "execution_count": null,
   "metadata": {},
   "outputs": [],
   "source": [
    "l = [1, 2, 3, 4, 5, 6, 7, 8]\n",
    "\n",
    "for index in range(0, len(l) - 1):\n",
    "    print(l[index])\n",
    "\n",
    "for index, item in enumerate(l):\n",
    "    print('index:{} item:{}'.format(index, item))"
   ]
  },
  {
   "cell_type": "code",
   "execution_count": null,
   "metadata": {},
   "outputs": [],
   "source": [
    "list(enumerate(l))"
   ]
  },
  {
   "cell_type": "code",
   "execution_count": null,
   "metadata": {},
   "outputs": [],
   "source": [
    "l = [1, 2, 3, 4]\n",
    "index = 0\n",
    "while index < len(l):\n",
    "    print(l[index])\n",
    "    index += 1"
   ]
  },
  {
   "cell_type": "code",
   "execution_count": null,
   "metadata": {},
   "outputs": [],
   "source": [
    "from random import randint\n",
    "\n",
    "\n",
    "def play():\n",
    "    random_int = randint(0, 100)\n",
    "\n",
    "    while True:\n",
    "        user_guess = int(input(\"Guess what number we guess (0-100)?\"))\n",
    "\n",
    "        if user_guess == random_int:\n",
    "            print(f\"Your found the number {random_int}. Congrats!\")\n",
    "            break\n",
    "        if user_guess < random_int:\n",
    "            print(\"Your number is less than the number we guessed\")\n",
    "            continue\n",
    "        if user_guess > random_int:\n",
    "            print(\"Your number is greater than the number we guessed\")\n",
    "            continue\n",
    "\n",
    "\n",
    "if __name__ == '__main__':\n",
    "    play()"
   ]
  },
  {
   "cell_type": "code",
   "execution_count": null,
   "metadata": {},
   "outputs": [],
   "source": [
    "# 1.打印1到100的数字\n",
    "num = 1\n",
    "while num <= 100:\n",
    "    print(num)\n",
    "    # num = num + 1\n",
    "    num += 1"
   ]
  },
  {
   "cell_type": "code",
   "execution_count": null,
   "metadata": {},
   "outputs": [],
   "source": [
    "\n",
    "# 2.打印正三角形\n",
    "'''\n",
    "每行打印*的个数：2 * 行号 -1\n",
    "每行左侧打印的空格数：总行数-行号\n",
    "'''\n",
    "i = 1  # 控制行号\n",
    "n = 7  # 控制打印的总行数\n",
    "# 外层循环控制打印的总行数\n",
    "while i <= n:\n",
    "    print(\" \" * (n - i), end=\"\")\n",
    "    j = 1\n",
    "    # 内层循环控制每行打印的*号个数\n",
    "    while j <= 2 * i - 1:\n",
    "        print(\"*\", end=\"\")\n",
    "        j += 1\n",
    "    print(\"\")  # 打印一个换行\n",
    "    i += 1"
   ]
  },
  {
   "cell_type": "code",
   "execution_count": null,
   "metadata": {},
   "outputs": [],
   "source": [
    "\n",
    "# 1）使用break跳出整个while循环\n",
    "# 打印1-20的偶数，当遇到10的整数倍数字结束循环\n",
    "i = 1\n",
    "while i <= 20:\n",
    "    if i % 2 == 0:\n",
    "        if i % 10 == 0:\n",
    "            break\n",
    "        print(i)\n",
    "\n",
    "    i += 1"
   ]
  },
  {
   "cell_type": "code",
   "execution_count": null,
   "metadata": {},
   "outputs": [],
   "source": [
    "\n",
    "# 2)使用continue跳出当次循环\n",
    "# 打印1-10的奇数\n",
    "i = 1\n",
    "while i <= 10:\n",
    "    if i % 2 == 0:\n",
    "        i += 1\n",
    "        continue\n",
    "    print(i)\n",
    "    i += 1\n",
    "\n",
    "print(\"程序结束\")"
   ]
  },
  {
   "cell_type": "markdown",
   "metadata": {},
   "source": [
    "### for 循环的使用\n"
   ]
  },
  {
   "cell_type": "code",
   "execution_count": null,
   "metadata": {},
   "outputs": [],
   "source": [
    "# 打印0到9十个数字\n",
    "# range(start,end,步长)，默认步长是1 [0,10) 0,1,2,3,4...9\n",
    "for i in range(0, 10):\n",
    "    print(i)"
   ]
  },
  {
   "cell_type": "code",
   "execution_count": null,
   "metadata": {},
   "outputs": [],
   "source": [
    "# 打印0到10所有的偶数\n",
    "for i in range(0, 11, 2):\n",
    "    print(i)"
   ]
  },
  {
   "cell_type": "code",
   "execution_count": null,
   "metadata": {},
   "outputs": [],
   "source": [
    "\n",
    "# 使用break跳出整个循环\n",
    "# 打印1到20的偶数，当遇到10的整数倍偶数时，结束整个循环\n",
    "for i in range(1, 21):\n",
    "    if i % 2 == 0:\n",
    "        if i % 10 == 0:\n",
    "            break\n",
    "        print(i)\n",
    "print(\">>>>>>>>>>>\")"
   ]
  },
  {
   "cell_type": "code",
   "execution_count": null,
   "metadata": {},
   "outputs": [],
   "source": [
    "# continue结束当前循环\n",
    "# 打印1到10的奇数\n",
    "for i in range(1, 11):\n",
    "    if i % 2 == 0:\n",
    "        continue\n",
    "    print(i)"
   ]
  },
  {
   "cell_type": "markdown",
   "metadata": {},
   "source": [
    "## 复合使用\n",
    "\n",
    "-   `expression1 if condition else expression2 for item in iterable`\n",
    "-   `expression for item in iterable if condition`\n"
   ]
  },
  {
   "cell_type": "code",
   "execution_count": null,
   "metadata": {},
   "outputs": [],
   "source": [
    "x = [4, 6, 8, 9, -12, 45, -46]\n",
    "y = [value * 2 + 5 if value > 0 else -value * 2 + 5 for value in x]\n",
    "y"
   ]
  },
  {
   "cell_type": "code",
   "execution_count": null,
   "metadata": {},
   "outputs": [],
   "source": [
    "text = ' Today,  is, Sunday'\n",
    "text_list = [s.strip() for s in text.split(',') if len(s.strip()) > 3]\n",
    "print(text_list)"
   ]
  },
  {
   "cell_type": "markdown",
   "metadata": {},
   "source": [
    "## 练习\n"
   ]
  },
  {
   "cell_type": "code",
   "execution_count": null,
   "metadata": {
    "collapsed": false,
    "pycharm": {
     "name": "#%%\n"
    }
   },
   "outputs": [],
   "source": [
    "from collections.abc import Iterable\n",
    "isinstance('abc', Iterable)"
   ]
  },
  {
   "cell_type": "code",
   "execution_count": null,
   "metadata": {},
   "outputs": [],
   "source": [
    "attributes = ['name', 'dob', 'gender']\n",
    "values = [['jason', '2000-01-01', 'male'], ['mike', '1999-01-01', 'male'], ['nancy', '2001-02-01', 'female']]\n",
    "\n",
    "[dict(zip(attributes, v)) for v in values]"
   ]
  },
  {
   "cell_type": "code",
   "execution_count": null,
   "metadata": {},
   "outputs": [],
   "source": [
    "l = []\n",
    "for value in values:\n",
    "    #     d = {}\n",
    "    #     for i in range(len(attributes)):\n",
    "    #         d[attributes[i]] = value[i]\n",
    "    #     l.append(d)\n",
    "    l.append(dict(zip(attributes, value)))\n",
    "l"
   ]
  },
  {
   "cell_type": "code",
   "execution_count": null,
   "metadata": {},
   "outputs": [],
   "source": [
    "print([{attributes[i]: value[i] for i in range(len(attributes))} for value in values])"
   ]
  },
  {
   "cell_type": "code",
   "execution_count": null,
   "metadata": {},
   "outputs": [],
   "source": [
    "# 将可迭代的对象作为参数，将对象中对应的元素打包成一个个元组，然后返回由这些元组组成的列表\n",
    "dict(zip([1, 2, 3], ['a', 'b', 'c']))"
   ]
  },
  {
   "cell_type": "code",
   "execution_count": null,
   "metadata": {
    "collapsed": false,
    "pycharm": {
     "name": "#%%\n"
    }
   },
   "outputs": [],
   "source": [
    "# 无限循环\n",
    "import threading\n",
    "import multiprocessing\n",
    "\n",
    "\n",
    "def loop():\n",
    "    x = 0\n",
    "    while True:\n",
    "        x = x ^ 1\n",
    "\n",
    "\n",
    "for i in range(multiprocessing.cpu_count()):\n",
    "    t = threading.Thread(target=loop)\n",
    "    t.start()"
   ]
  },
  {
   "cell_type": "code",
   "execution_count": null,
   "metadata": {},
   "outputs": [],
   "source": [
    "'''\n",
    "1.商品信息数据结构：{商品编号：{商品名称键值对，商品价格键值对}}\n",
    "   例：\n",
    "       goods_dict = {\n",
    "       \"001\":{\"name\": \"爱马仕腰带\", \"price\": 1999},\n",
    "       \"002\":{\"name\": \"劳力士男表\", \"price\": 19999},\n",
    "       \"003\":{\"name\": \"巴宝莉眼镜\", \"price\": 4999},\n",
    "       \"004\":{\"name\": \"路虎发现四\", \"price\": 99999},\n",
    "       ......\n",
    "       }\n",
    "2.功能要求：\n",
    "    1）启动程序后，打印商品列表信息（商品编号、商品名称、商品价格）。\n",
    "    2）用户输入想要购买的商品编号，检查输入的商品编号是否正确，如果正确则继续输入购买数量，如果错误，则提示“输入商品编号错误”，重新输入商品编号。如果用户输入的是“q”则程序直接退出。\n",
    "    3）输入正确商品编号和数量之后，将商品加入到购物车，用户可以选择继续购买商品，也可以结束购物。\n",
    "    4）结束购物之后，对购物车中的商品进行结算，用户根据结算金额付款，并对用户输入的付款金额进行检验，检验通过则购物结束。\n",
    "'''\n",
    "\n",
    "\n",
    "def get_total(total, goods_dict):\n",
    "    no_input = input('Please Input Goods No:')\n",
    "    if goods_dict[no_input]:\n",
    "        count_input = input('Please Input Goods Count:')\n",
    "\n",
    "        no_input = goods_dict[no_input]['price']\n",
    "        count_input = int(count_input)\n",
    "        total += no_input * count_input\n",
    "        return total\n",
    "    else:\n",
    "        print('Please Input Correct Good No')\n",
    "        return\n",
    "\n",
    "while True:\n",
    "    goods_dict = {\n",
    "       \"001\":{\"name\": \"爱马仕腰带\", \"price\": 1999},\n",
    "       \"002\":{\"name\": \"劳力士男表\", \"price\": 19999},\n",
    "       \"003\":{\"name\": \"巴宝莉眼镜\", \"price\": 4999},\n",
    "       \"004\":{\"name\": \"路虎发现四\", \"price\": 99999}\n",
    "       }\n",
    "    print('         ', end='')\n",
    "    print('Goods List')\n",
    "    print('--------------------------------------------')\n",
    "    print('Goods_No', end='')\n",
    "    print('      ', end='')\n",
    "    print('Goods_Name', end='')\n",
    "    print('       ', end='')\n",
    "    print('Goods Price')\n",
    "    for key,value in goods_dict.items():\n",
    "        print(key, end='')\n",
    "        print('           ', end='')\n",
    "        for v in value.values():\n",
    "             print(v, end='')\n",
    "             print('       ', end='')\n",
    "        print('')\n",
    "\n",
    "    total = 0\n",
    "    total = get_total(total, goods_dict)\n",
    "    action = input('Is continue to go shaopping?(y/q):')\n",
    "    if action != 'y' and action != 'q':\n",
    "        print('illeagle action')\n",
    "        continue\n",
    "    while action == 'y':\n",
    "        total = get_total(total, goods_dict)\n",
    "        action = input('Is continue to go shaopping?(y/q):')\n",
    "        if action != 'y' and action != 'q':\n",
    "            print('illeagle action')\n",
    "        if action == 'y':\n",
    "            continue\n",
    "        if action == 'q':\n",
    "            print(total)\n",
    "            break\n",
    "        break\n",
    "    break"
   ]
  }
 ],
 "metadata": {
  "kernelspec": {
   "display_name": "Python_syntax",
   "language": "python",
   "name": "python_syntax"
  },
  "language_info": {
   "codemirror_mode": {
    "name": "ipython",
    "version": 3
   },
   "file_extension": ".py",
   "mimetype": "text/x-python",
   "name": "python",
   "nbconvert_exporter": "python",
   "pygments_lexer": "ipython3",
   "version": "3.9.19"
  },
  "toc": {
   "base_numbering": 1,
   "nav_menu": {},
   "number_sections": true,
   "sideBar": true,
   "skip_h1_title": false,
   "title_cell": "Table of Contents",
   "title_sidebar": "Contents",
   "toc_cell": false,
   "toc_position": {},
   "toc_section_display": true,
   "toc_window_display": false
  },
  "varInspector": {
   "cols": {
    "lenName": 16,
    "lenType": 16,
    "lenVar": 40
   },
   "kernels_config": {
    "python": {
     "delete_cmd_postfix": "",
     "delete_cmd_prefix": "del ",
     "library": "var_list.py",
     "varRefreshCmd": "print(var_dic_list())"
    },
    "r": {
     "delete_cmd_postfix": ") ",
     "delete_cmd_prefix": "rm(",
     "library": "var_list.r",
     "varRefreshCmd": "cat(var_dic_list()) "
    }
   },
   "types_to_exclude": [
    "module",
    "function",
    "builtin_function_or_method",
    "instance",
    "_Feature"
   ],
   "window_display": false
  }
 },
 "nbformat": 4,
 "nbformat_minor": 4
}
