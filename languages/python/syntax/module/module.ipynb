{
 "cells": [
  {
   "cell_type": "markdown",
   "metadata": {},
   "source": [
    "## 模块化\n",
    "\n",
    "* 只需要使用 . 代替 /  来表示子目录,调用子目录的模块时\n",
    "* sys.path.append(\"..\") 表示将当前程序所在位置向上提了一级\n",
    "* 在 Python 3 规范中，__init__.py 并不是必须的\n",
    "* 在大型工程中尽可能使用绝对位置是第一要义\n",
    "* 相对的绝对路径:对于一个独立的项目，所有模块的追寻方式，从项目的根目录开始追溯\n",
    "* 整个公司都只有一个代码仓库\n",
    "    - 简化依赖管理\n",
    "    - 版本统一\n",
    "    - 代码追溯方便\n",
    "* Python 解释器在遇到 import 时会在一个特定的列表中寻找模块　`sys.path`\n",
    "    - 第一项为空。Pycharm 做的一件事就是将第一项设置为项目根目录的绝对地址\n",
    "    - 修改 PYTHONHOM: 找到一个文件叫 activate，在这个文件的末尾填上内容 `export PYTHONPATH=\"/home/ubuntu/workspace/your_projects\"`\n",
    "* 对于每一个项目来说，最好要有一个独立的运行环境来保持包和模块的纯净性\n",
    "* 用if __name__ == '__main__' 来避开 import 时执行\n",
    "* from module_name import * 会把 module 中所有的函数和类全拿过来，如果和其他函数名类名有冲突就会出问题\n",
    "* import model_name 也会导入所有函数和类，但是调用时必须使用 model_name.func 的方法，等于增加了一层 layer，有效避免冲突"
   ]
  },
  {
   "cell_type": "code",
   "execution_count": null,
   "metadata": {
    "collapsed": false,
    "pycharm": {
     "name": "#%%\n"
    }
   },
   "outputs": [],
   "source": [
    "from PIL import Image, ImageFilter\n",
    "\n",
    "# 打开一个jpg图像文件，注意是当前路径:\n",
    "im = Image.open('test.jpg')\n",
    "# 获得图像尺寸:\n",
    "w, h = im.size\n",
    "print('Original image size: %sx%s' % (w, h))\n",
    "# 缩放到50%:\n",
    "im.thumbnail((w // 2, h // 2))\n",
    "print('Resize image to: %sx%s' % (w // 2, h // 2))\n",
    "# 把缩放后的图像用jpeg格式保存:\n",
    "im.save('thumbnail.jpg', 'jpeg')\n",
    "\n",
    "# 应用模糊滤镜:\n",
    "im2 = im.filter(ImageFilter.BLUR)\n",
    "im2.save('blur.jpg', 'jpeg')"
   ]
  },
  {
   "cell_type": "code",
   "execution_count": null,
   "metadata": {
    "collapsed": false,
    "pycharm": {
     "name": "#%%\n"
    }
   },
   "outputs": [],
   "source": [
    "from PIL import Image, ImageDraw, ImageFont, ImageFilter\n",
    "\n",
    "import random\n",
    "\n",
    "\n",
    "# 随机字母:\n",
    "def rndChar():\n",
    "    return chr(random.randint(65, 90))\n",
    "\n",
    "\n",
    "# 随机颜色1:\n",
    "def rndColor():\n",
    "    return (random.randint(64, 255), random.randint(64, 255), random.randint(64, 255))\n",
    "\n",
    "\n",
    "# 随机颜色2:\n",
    "def rndColor2():\n",
    "    return (random.randint(32, 127), random.randint(32, 127), random.randint(32, 127))\n",
    "\n",
    "\n",
    "# 240 x 60:\n",
    "width = 60 * 4\n",
    "height = 60\n",
    "image = Image.new('RGB', (width, height), (255, 255, 255))\n",
    "# 创建Font对象:\n",
    "font = ImageFont.truetype('Arial.ttf', 36)\n",
    "# 创建Draw对象:\n",
    "draw = ImageDraw.Draw(image)\n",
    "# 填充每个像素:\n",
    "for x in range(width):\n",
    "    for y in range(height):\n",
    "        draw.point((x, y), fill=rndColor())\n",
    "# 输出文字:\n",
    "for t in range(4):\n",
    "    draw.text((60 * t + 10, 10), rndChar(), font=font, fill=rndColor2())\n",
    "# 模糊:\n",
    "image = image.filter(ImageFilter.BLUR)\n",
    "image.save('code.jpg', 'jpeg')"
   ]
  },
  {
   "cell_type": "code",
   "execution_count": null,
   "metadata": {
    "collapsed": false,
    "pycharm": {
     "name": "#%%\n"
    }
   },
   "outputs": [],
   "source": [
    "import requests\n",
    "\n",
    "r = requests.get('https://www.douban.com/search', params={'q': 'python', 'cat': '1001'})\n",
    "\n",
    "r.json()"
   ]
  },
  {
   "cell_type": "code",
   "execution_count": null,
   "metadata": {
    "collapsed": false,
    "pycharm": {
     "name": "#%%\n"
    }
   },
   "outputs": [],
   "source": [
    "import psutil\n",
    "\n",
    "psutil.cpu_count()\n",
    "psutil.cpu_count(logical=False)\n",
    "psutil.cpu_times()\n",
    "\n",
    "psutil.virtual_memory()\n",
    "psutil.swap_memory()\n",
    "\n",
    "psutil.disk_partitions()\n",
    "psutil.disk_usage('/')\n",
    "psutil.disk_io_counters()  # 磁盘IO\n",
    "\n",
    "psutil.net_io_counters()  # 获取网络读写字节／包的个数\n",
    "psutil.net_if_stats()  # 获取网络接口状态\n",
    "\n",
    "psutil.net_connections()\n",
    "\n",
    "psutil.pids()  # 所有进程ID\n",
    "p = psutil.Process(3776)\n",
    "p.status()\n",
    "p.memory_info()\n",
    "p.open_files()"
   ]
  },
  {
   "cell_type": "markdown",
   "metadata": {
    "collapsed": false
   },
   "source": [
    "## 内建模块\n",
    "### datetime"
   ]
  },
  {
   "cell_type": "code",
   "execution_count": null,
   "metadata": {
    "collapsed": false,
    "pycharm": {
     "name": "#%%\n"
    }
   },
   "outputs": [],
   "source": [
    "from datetime import datetime, timedelta, timezone\n",
    "\n",
    "# 一个python文件就是一个模块，你把文件命名为datetime，于是解释器就去你这文件里找datetime，找不到于是报错\n",
    "now = datetime.now()\n",
    "print(now)\n",
    "\n",
    "dt = datetime(2015, 4, 19, 12, 20)  # 用指定日期时间创建datetime\n",
    "timestamp = dt.timestamp()\n",
    "print(timestamp)\n",
    "print(datetime.fromtimestamp(timestamp))\n",
    "print(datetime.utcfromtimestamp(timestamp))\n",
    "\n",
    "# str转换为datetime\n",
    "cday = datetime.strptime('2015-6-1 18:19:59', '%Y-%m-%d %H:%M:%S')\n",
    "print(cday)\n",
    "\n",
    "# datetime转换为str\n",
    "dtnow = datetime.now()\n",
    "print(now.strftime('%a, %b %d %H:%M'))\n",
    "\n",
    "# datetime加减\n",
    "print(now + timedelta(hours=10))\n",
    "print(now - timedelta(days=1))\n",
    "print(now + timedelta(days=2, hours=12))\n",
    "\n",
    "# 本地时间转换为UTC时间\n",
    "tz_utc_8 = timezone(timedelta(hours=8))  # 创建时区UTC+5:00\n",
    "now = datetime.now()\n",
    "print(now)\n",
    "dt = now.replace(tzinfo=tz_utc_8)\n",
    "print(dt)\n",
    "\n",
    "# 时区转换：通过utcnow()拿到当前的UTC时间，再转换为任意时区的时间\n",
    "# 拿到一个datetime时，要获知其正确的时区，然后强制设置时区，作为基准时间。 通过astimezone()方法，可以转换到任意时区\n",
    "utc_dt = datetime.utcnow().replace(tzinfo=timezone.utc)\n",
    "print(utc_dt)\n",
    "print(utc_dt.astimezone(timezone(timedelta(hours=9))))  # 东京时间\n"
   ]
  },
  {
   "cell_type": "markdown",
   "metadata": {
    "collapsed": false,
    "pycharm": {
     "name": "#%%\n"
    }
   },
   "source": [
    "### collections\n"
   ]
  },
  {
   "cell_type": "code",
   "execution_count": null,
   "metadata": {},
   "outputs": [],
   "source": [
    "from collections import namedtuple, deque, defaultdict, OrderedDict, ChainMap, Counter\n",
    "import os\n",
    "import argparse\n",
    "\n",
    "# namedtuple 一个函数，用来创建一个自定义tuple对象，并且规定tuple元素的个数，并可以用属性而不是索引来引用tuple的某个元素\n",
    "Point = namedtuple('Point', ['x', 'y'])\n",
    "p = Point(1, 2)\n",
    "print(p.x)\n",
    "print(p.y)\n",
    "\n",
    "# deque 为了高效实现插入和删除操作的双向列表，适合用于队列和栈\n",
    "q = deque(['a', 'b', 'c'])\n",
    "q.append('d')\n",
    "q.appendleft('z')\n",
    "print(q)\n",
    "\n",
    "\n",
    "# defaultdict 使用dict时，如果引用的Key不存在，就会抛出KeyError。如果希望key不存在时，返回一个默认值时使用\n",
    "dd = defaultdict(lambda: 'N/A')\n",
    "dd['key1'] = 'abc'\n",
    "print(dd['key1'])\n",
    "print(dd['key2'])\n",
    "\n",
    "\n",
    "# OrderedDict 保持Key顺序, 会按照插入的顺序排列，不是Key本身排序\n",
    "# 可以实现一个FIFO（先进先出）的dict，当容量超出限制时，先删除最早添加的Key\n",
    "print(dict([('c', 3), ('a', 1), ('z', 27)]))\n",
    "print(OrderedDict([('c', 3), ('a', 1), ('z', 27)]))\n",
    "\n",
    "\n",
    "class LastUpdatedOrderedDict(OrderedDict):\n",
    "\n",
    "    def __init__(self, capacity):\n",
    "        super(LastUpdatedOrderedDict, self).__init__()\n",
    "        self._capacity = capacity\n",
    "\n",
    "    def __setitem__(self, key, value):\n",
    "        containsKey = 1 if key in self else 0\n",
    "        if len(self) - containsKey >= self._capacity:\n",
    "            last = self.popitem(last=False)\n",
    "            print('remove:', last)\n",
    "        if containsKey:\n",
    "            del self[key]\n",
    "            print('set:', (key, value))\n",
    "        else:\n",
    "            print('add:', (key, value))\n",
    "        OrderedDict.__setitem__(self, key, value)\n",
    "\n",
    "\n",
    "od = LastUpdatedOrderedDict(3)\n",
    "\n",
    "od['x'] = 1\n",
    "od['y'] = 1\n",
    "od['z'] = 1\n",
    "od['a'] = 1\n",
    "print(od)\n",
    "\n",
    "\n",
    "# ChainMap可以把一组dict串起来并组成一个逻辑上的dict。ChainMap本身也是一个dict，但是查找的时候，会按照顺序在内部的dict依次查找\n",
    "# 构造缺省参数:\n",
    "defaults = {\n",
    "    'color': 'red',\n",
    "    'user': 'guest'\n",
    "}\n",
    "\n",
    "# 构造命令行参数:\n",
    "parser = argparse.ArgumentParser()\n",
    "parser.add_argument('-u', '--user')\n",
    "parser.add_argument('-c', '--color')\n",
    "namespace = parser.parse_args()\n",
    "command_line_args = {k: v for k, v in vars(namespace).items() if v}\n",
    "\n",
    "# 组合成ChainMap:\n",
    "combined = ChainMap(command_line_args, os.environ, defaults)\n",
    "\n",
    "# 打印参数:\n",
    "print('color=%s' % combined['color'])\n",
    "print('user=%s' % combined['user'])\n",
    "\n",
    "\n",
    "# Counter是一个简单的计数器\n",
    "c = Counter()\n",
    "for ch in 'Programming':\n",
    "    c[ch] = c[ch] + 1\n",
    "\n",
    "print(c)\n"
   ]
  },
  {
   "cell_type": "markdown",
   "metadata": {
    "collapsed": false,
    "pycharm": {
     "name": "#%%\n"
    }
   },
   "source": [
    "### base64\n"
   ]
  },
  {
   "cell_type": "code",
   "execution_count": null,
   "metadata": {},
   "outputs": [],
   "source": [
    "import base64\n",
    "\n",
    "base64.b64encode(b'binary\\x00string')\n",
    "\n",
    "\n",
    "# url safe\"的base64编码，其实就是把字符+和/分别变成-和_\n",
    "print(base64.urlsafe_b64decode(b'binary\\x00string'))\n",
    "\n",
    "print(base64.b64decode(b'YmluYXJ5AHN0cmluZw=='))\n"
   ]
  },
  {
   "cell_type": "code",
   "execution_count": null,
   "metadata": {
    "collapsed": false,
    "pycharm": {
     "name": "#%%\n"
    }
   },
   "outputs": [],
   "source": [
    "# struct 模块来解决bytes和其他二进制数据类型的转换\n",
    "import struct\n",
    "\n",
    "# 处理字节的数据类型, b'str'可以表示字节，所以，字节数组＝二进制str\n",
    "n = 10240099\n",
    "b1 = (n & 0xff000000) >> 24\n",
    "b2 = (n & 0xff0000) >> 16\n",
    "b3 = (n & 0xff00) >> 8\n",
    "b4 = n & 0xff\n",
    "bs = bytes([b1, b2, b3, b4])\n",
    "print(bs)\n",
    "\n",
    "# >表示字节顺序是big-endian，也就是网络序，I表示4字节无符号整数 H：2字节无符号整数\n",
    "# unpack把bytes变成相应的数据类型\n",
    "print(struct.pack('>I', n))\n",
    "print(struct.unpack('>IH', b'\\xf0\\xf0\\xf0\\xf0\\x80\\x80'))\n"
   ]
  },
  {
   "cell_type": "markdown",
   "metadata": {
    "collapsed": false,
    "pycharm": {
     "name": "#%%\n"
    }
   },
   "source": [
    "### hashlib 提供常见的摘要算法"
   ]
  },
  {
   "cell_type": "code",
   "execution_count": null,
   "metadata": {},
   "outputs": [],
   "source": [
    "import hashlib\n",
    "\n",
    "# 摘要算法又称哈希算法、散列算法。它通过一个函数，把任意长度的数据转换为一个长度固定的数据串\n",
    "# MD5是最常见的摘要算法，速度很快，生成结果是固定的128 bit字节，通常用一个32位的16进制字符串表示\n",
    "md5 = hashlib.md5()\n",
    "md5.update('how to use md5 in python hashlib?'.encode('utf-8'))\n",
    "print(md5.hexdigest())\n",
    "\n",
    "md5.update('how to use md5 in '.encode('utf-8'))\n",
    "md5.update('python hashlib?'.encode('utf-8'))\n",
    "print(md5.hexdigest())\n",
    "\n",
    "# SHA1的结果是160 bit字节，通常用一个40位的16进制字符串表示\n",
    "sha1 = hashlib.sha1()\n",
    "sha1.update('how to use sha1 in '.encode('utf-8'))\n",
    "sha1.update('python hashlib?'.encode('utf-8'))\n",
    "print(sha1.hexdigest())\n",
    "\n",
    "# 比SHA1更安全的算法是SHA256和SHA512，不过越安全的算法不仅越慢，而且摘要长度更长\n",
    "# 碰撞:两个不同的数据通过某个摘要算法得到了相同的摘要\n",
    "# 不存储用户的明文口令，而是存储用户口令的摘要:可以事先计算出这些常用口令的MD5值，得到一个反推表\n",
    "# 通过把登录名作为Salt的一部分来计算MD5，从而实现相同口令的用户也存储不同的MD5\n",
    "\n",
    "\n",
    "def calc_md5(username, password):\n",
    "    md5 = hashlib.md5()\n",
    "    md5.update((password + username + 'the-Salt').encode('utf-8'))\n",
    "    return md5.hexdigest()\n",
    "\n",
    "\n",
    "print(calc_md5('henry1', '12334444sas*&^&*88'))\n"
   ]
  }
 ],
 "metadata": {
  "kernelspec": {
   "display_name": "Python 3",
   "language": "python",
   "name": "python3"
  },
  "language_info": {
   "codemirror_mode": {
    "name": "ipython",
    "version": 3
   },
   "file_extension": ".py",
   "mimetype": "text/x-python",
   "name": "python",
   "nbconvert_exporter": "python",
   "pygments_lexer": "ipython3",
   "version": "3.7.7"
  },
  "toc": {
   "base_numbering": 1,
   "nav_menu": {},
   "number_sections": true,
   "sideBar": true,
   "skip_h1_title": false,
   "title_cell": "Table of Contents",
   "title_sidebar": "Contents",
   "toc_cell": false,
   "toc_position": {},
   "toc_section_display": true,
   "toc_window_display": false
  },
  "varInspector": {
   "cols": {
    "lenName": 16,
    "lenType": 16,
    "lenVar": 40
   },
   "kernels_config": {
    "python": {
     "delete_cmd_postfix": "",
     "delete_cmd_prefix": "del ",
     "library": "var_list.py",
     "varRefreshCmd": "print(var_dic_list())"
    },
    "r": {
     "delete_cmd_postfix": ") ",
     "delete_cmd_prefix": "rm(",
     "library": "var_list.r",
     "varRefreshCmd": "cat(var_dic_list()) "
    }
   },
   "types_to_exclude": [
    "module",
    "function",
    "builtin_function_or_method",
    "instance",
    "_Feature"
   ],
   "window_display": false
  }
 },
 "nbformat": 4,
 "nbformat_minor": 4
}
