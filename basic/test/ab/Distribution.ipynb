{
 "cells": [
  {
   "cell_type": "markdown",
   "metadata": {},
   "source": [
    "## 正态分布 Normal Distribution\n",
    "\n",
    "- 标准正态分布（Standard Normal Distribution）平均值μ=0、标准差σ=1的正态分布"
   ]
  },
  {
   "cell_type": "code",
   "execution_count": null,
   "metadata": {},
   "outputs": [],
   "source": [
    "from scipy.stats import norm\n",
    "import numpy as np\n",
    "import matplotlib.pyplot as plt\n",
    "\n",
    "## 构建图表\n",
    "fig, ax = plt.subplots()\n",
    "x = np.linspace(-10,10,100)\n",
    "sigma = [1.0, 2.0, 3.0, 4.0]\n",
    "for s in sigma:\n",
    "    ax.plot(x, norm.pdf(x,scale=s), label='σ=%.1f' % s)\n",
    "\n",
    "## 加图例\n",
    "ax.set_xlabel('x')\n",
    "ax.set_ylabel('Density')\n",
    "ax.set_title('Normal Distribution')\n",
    "ax.legend(loc='best', frameon=True)\n",
    "ax.set_ylim(0,0.45)\n",
    "ax.grid(True)"
   ]
  }
 ],
 "metadata": {
  "kernelspec": {
   "display_name": "Python_syntax",
   "language": "python",
   "name": "python_syntax"
  },
  "language_info": {
   "codemirror_mode": {
    "name": "ipython",
    "version": 3
   },
   "file_extension": ".py",
   "mimetype": "text/x-python",
   "name": "python",
   "nbconvert_exporter": "python",
   "pygments_lexer": "ipython3",
   "version": "3.9.20"
  },
  "orig_nbformat": 4
 },
 "nbformat": 4,
 "nbformat_minor": 2
}
