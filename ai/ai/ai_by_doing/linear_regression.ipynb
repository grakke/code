{
 "cells": [
  {
   "cell_type": "markdown",
   "metadata": {},
   "source": [
    "# 线性回归实现与应用"
   ]
  },
  {
   "cell_type": "code",
   "execution_count": null,
   "metadata": {},
   "outputs": [],
   "source": [
    "import warnings\n",
    "\n",
    "# 减少代码执行过程中的不必要提醒\n",
    "warnings.filterwarnings(\"ignore\")"
   ]
  },
  {
   "cell_type": "code",
   "execution_count": null,
   "metadata": {},
   "outputs": [],
   "source": [
    "import numpy as np\n",
    "\n",
    "x = np.array([56, 72, 69, 88, 102, 86, 76, 79, 94, 74])\n",
    "y = np.array([92, 102, 86, 110, 130, 99, 96, 102, 105, 92])"
   ]
  },
  {
   "cell_type": "code",
   "execution_count": null,
   "metadata": {},
   "outputs": [],
   "source": [
    "from matplotlib import pyplot as plt\n",
    "\n",
    "%matplotlib inline\n",
    "\n",
    "plt.scatter(x, y)\n",
    "plt.xlabel(\"Area\")\n",
    "plt.ylabel(\"Price\")"
   ]
  },
  {
   "cell_type": "markdown",
   "metadata": {},
   "source": [
    "## 最小二乘法代数求解"
   ]
  },
  {
   "cell_type": "code",
   "execution_count": null,
   "metadata": {},
   "outputs": [],
   "source": [
    "def f(x: list, w0: float, w1: float):\n",
    "    \"\"\"一元一次函数表达式\"\"\"\n",
    "    y = w0 + w1 * x\n",
    "    return y"
   ]
  },
  {
   "cell_type": "code",
   "execution_count": null,
   "metadata": {},
   "outputs": [],
   "source": [
    "def least_squares_algebraic(x: np.ndarray, y: np.ndarray):\n",
    "    \"\"\"最小二乘法代数求解\"\"\"\n",
    "    n = x.shape[0]\n",
    "    w1 = (n * sum(x * y) - sum(x) * sum(y)) / \\\n",
    "        (n * sum(x * x) - sum(x) * sum(x))\n",
    "    w0 = (sum(x * x) * sum(y) - sum(x) * sum(x * y)) / (\n",
    "        n * sum(x * x) - sum(x) * sum(x)\n",
    "    )\n",
    "    return w0, w1\n",
    "\n",
    "least_squares_algebraic(x, y)"
   ]
  },
  {
   "cell_type": "code",
   "execution_count": null,
   "metadata": {},
   "outputs": [],
   "source": [
    "def square_loss(x: np.ndarray, y: np.ndarray, w0: float, w1: float):\n",
    "    \"\"\"平方损失函数\"\"\"\n",
    "    loss = sum(np.square(y - (w0 + w1 * x)))\n",
    "    return loss\n",
    "\n",
    "w0 = least_squares_algebraic(x, y)[0]\n",
    "w1 = least_squares_algebraic(x, y)[1]\n",
    "\n",
    "square_loss(x, y, w0, w1)"
   ]
  },
  {
   "cell_type": "code",
   "execution_count": null,
   "metadata": {},
   "outputs": [],
   "source": [
    "x_temp = np.linspace(50, 120, 100)  # 绘制直线生成的临时点\n",
    "\n",
    "plt.scatter(x, y)\n",
    "plt.plot(x_temp, x_temp * w1 + w0, \"r\")"
   ]
  },
  {
   "cell_type": "code",
   "execution_count": null,
   "metadata": {},
   "outputs": [],
   "source": [
    "f(150, w0, w1)"
   ]
  },
  {
   "cell_type": "markdown",
   "metadata": {},
   "source": [
    "## 最小二乘法矩阵求解"
   ]
  },
  {
   "cell_type": "code",
   "execution_count": null,
   "metadata": {},
   "outputs": [],
   "source": [
    "def least_squares_matrix(x: np.matrix, y: np.matrix):\n",
    "    \"\"\"最小二乘法矩阵求解\"\"\"\n",
    "    w = (x.T * x).I * x.T * y\n",
    "    return w"
   ]
  },
  {
   "cell_type": "code",
   "execution_count": null,
   "metadata": {},
   "outputs": [],
   "source": [
    "x_matrix = np.matrix(np.hstack((np.ones((x.shape[0], 1)), x.reshape(x.shape[0], 1))))\n",
    "y_matrix = np.matrix(y.reshape(y.shape[0], 1))\n",
    "x_matrix, y_matrix"
   ]
  },
  {
   "cell_type": "code",
   "execution_count": null,
   "metadata": {},
   "outputs": [],
   "source": [
    "least_squares_matrix(x_matrix, y_matrix)"
   ]
  },
  {
   "cell_type": "markdown",
   "metadata": {},
   "source": [
    "## 线性回归 scikit-learn 实现"
   ]
  },
  {
   "cell_type": "code",
   "execution_count": null,
   "metadata": {},
   "outputs": [],
   "source": [
    "from sklearn.linear_model import LinearRegression\n",
    "\n",
    "# 定义线性回归模型\n",
    "model = LinearRegression()\n",
    "model.fit(x.reshape(x.shape[0], 1), y)  # 训练, reshape 操作把数据处理成 fit 能接受的形状\n",
    "\n",
    "# 得到模型拟合参数\n",
    "model.intercept_, model.coef_"
   ]
  },
  {
   "cell_type": "code",
   "execution_count": null,
   "metadata": {},
   "outputs": [],
   "source": [
    "model.predict([[150]])"
   ]
  },
  {
   "cell_type": "markdown",
   "metadata": {},
   "source": [
    "## 线性回归综合案例\n",
    "\n",
    "- [波士顿房价数据集](https://www.cs.toronto.edu/~delve/data/boston/bostonDetail.html) 是机器学习中非常经典的数据集，被用于多篇回归算法研究的学术论文中。该数据集共计 506 条，包含有 13 个与房价相关的特征以及 1 个目标值（房价）\n",
    "- 每列数据的列名解释：\n",
    "  - CRIM: 城镇犯罪率\n",
    "  - ZN: 占地面积超过 2.5 万平方英尺的住宅用地比例\n",
    "  - INDUS: 城镇非零售业务地区的比例\n",
    "  - CHAS: 查尔斯河是否经过 (=1 经过，=0 不经过)\n",
    "  - NOX: 一氧化氮浓度（每 1000 万份）\n",
    "  - RM: 住宅平均房间数\n",
    "  - AGE: 所有者年龄\n",
    "  - DIS: 与就业中心的距离\n",
    "  - RAD: 公路可达性指数\n",
    "  - TAX: 物业税率\n",
    "  - PTRATIO: 城镇师生比例\n",
    "  - BLACK: 城镇的黑人指数\n",
    "  - LSTAT: 人口中地位较低人群的百分数\n",
    "  - MEDV: 城镇住房价格中位数\n",
    "- 训练一个机器学习预测模型时，通常会将数据集划分为 70% 和 30% 两部分。70% 的部分被称之为训练集，用于模型训练。另外的 30% 被称为测试集\n",
    "- 最后通过对比预测的目标值与真实目标值之间的差异，评估模型的预测性能\n",
    "  - 平均绝对误差（MAE）绝对误差的平均值\n",
    "  - 均方误差（MSE）误差的平方的期望值"
   ]
  },
  {
   "cell_type": "code",
   "execution_count": null,
   "metadata": {},
   "outputs": [],
   "source": [
    "import pandas as pd\n",
    "\n",
    "df = pd.read_csv(\n",
    "    # \"https://cdn.aibydoing.com/hands-on-ai/files/course-5-boston.csv\",\n",
    "    \"../../data/course-5-boston.csv\"\n",
    ")\n",
    "df.head()"
   ]
  },
  {
   "cell_type": "code",
   "execution_count": null,
   "metadata": {},
   "outputs": [],
   "source": [
    "# 仅选取 CRIM, RM, LSTAT 三个特征用于线性回归模型训练\n",
    "features = df[[\"crim\", \"rm\", \"lstat\"]]\n",
    "features.describe()"
   ]
  },
  {
   "cell_type": "code",
   "execution_count": null,
   "metadata": {},
   "outputs": [],
   "source": [
    "target = df[\"medv\"]  # 目标值数据\n",
    "\n",
    "split_num = int(len(features) * 0.7)  # 得到 70% 位置\n",
    "\n",
    "X_train = features[:split_num]  # 训练集特征\n",
    "y_train = target[:split_num]  # 训练集目标\n",
    "\n",
    "X_test = features[split_num:]  # 测试集特征\n",
    "y_test = target[split_num:]  # 测试集目标\n",
    "\n",
    "X_train.shape, y_train.shape, X_test.shape, y_test.shape"
   ]
  },
  {
   "cell_type": "code",
   "execution_count": null,
   "metadata": {},
   "outputs": [],
   "source": [
    "model = LinearRegression()  # 建立模型\n",
    "model.fit(X_train, y_train)  # 训练模型\n",
    "model.coef_, model.intercept_  # 输出训练后的模型参数和截距项"
   ]
  },
  {
   "cell_type": "code",
   "execution_count": null,
   "metadata": {},
   "outputs": [],
   "source": [
    "preds = model.predict(X_test)  # 输入测试集特征进行预测\n",
    "preds  # 预测结果"
   ]
  },
  {
   "cell_type": "code",
   "execution_count": null,
   "metadata": {},
   "outputs": [],
   "source": [
    "def mae_solver(y_true: np.ndarray, y_pred: np.ndarray):\n",
    "    \"\"\"MAE 求解\"\"\"\n",
    "    n = len(y_true)\n",
    "    mae = sum(np.abs(y_true - y_pred)) / n\n",
    "    return mae"
   ]
  },
  {
   "cell_type": "code",
   "execution_count": null,
   "metadata": {},
   "outputs": [],
   "source": [
    "def mse_solver(y_true: np.ndarray, y_pred: np.ndarray):\n",
    "    \"\"\"MSE 求解\"\"\"\n",
    "    n = len(y_true)\n",
    "    mse = sum(np.square(y_true - y_pred)) / n\n",
    "    return mse"
   ]
  },
  {
   "cell_type": "code",
   "execution_count": null,
   "metadata": {},
   "outputs": [],
   "source": [
    "mae = mae_solver(y_test.values, preds)\n",
    "mse = mse_solver(y_test.values, preds)\n",
    "\n",
    "print(\"MAE: \", mae)\n",
    "print(\"MSE: \", mse)"
   ]
  },
  {
   "cell_type": "code",
   "execution_count": null,
   "metadata": {},
   "outputs": [],
   "source": [
    "# 用 scikit-learn 中现成的 MAE 和 MSE 求解方法\n",
    "from sklearn.metrics import mean_absolute_error, mean_squared_error\n",
    "\n",
    "mae_ = mean_absolute_error(y_test, preds)\n",
    "mse_ = mean_squared_error(y_test, preds)\n",
    "\n",
    "print(\"scikit-learn MAE: \", mae_)\n",
    "print(\"scikit-learn MSE: \", mse_)"
   ]
  },
  {
   "cell_type": "markdown",
   "metadata": {},
   "source": [
    "- 模型预测结果的平均绝对误差约为 13.02。如果计算一下全部目标值的平均值(结果为 22 左右)，会发现 13.02 的平均绝对误差应该说是很大了\n",
    "  - 数据 没有针对数据进行预处理且随机选择了 3 个特征，并没有合理利用数据集提供的其他特征。此外，也没有针对异常数据进行剔除以及规范化\n",
    "  - 算法本身，线性回归是通过线性关系去反映出数据的规律，但实际上房价并非简单的线性关系能够表征的，所以也是最终预测效果不好的原因之一"
   ]
  },
  {
   "cell_type": "markdown",
   "metadata": {},
   "source": [
    "## 北京市住房价格预测\n",
    "\n",
    "- [北京市住房价格数据集](https://github.com/PENGZhaoqing/scrapy-HousePricing)\n",
    "- 步骤\n",
    "  - 获取数据\n",
    "  - 确定特征\n",
    "  - 水平分割\n",
    "  - 得出模型参数\n",
    "  - 误差评估 预测结果与实际结果\n",
    "- 平均绝对百分比误差 MAPE 一个百分比值，比其他统计量更容易理解。表示预测结果较真实结果平均偏离"
   ]
  },
  {
   "cell_type": "code",
   "execution_count": null,
   "metadata": {},
   "outputs": [],
   "source": [
    "import pandas as pd\n",
    "\n",
    "## 代码开始 ### (≈ 2 行代码)\n",
    "df = None\n",
    "df = pd.read_csv(\n",
    "    # \"https://cdn.aibydoing.com/hands-on-ai/files/challenge-1-beijing.csv\",\n",
    "    \"../../data/challenge-1-beijing.csv\"\n",
    ")\n",
    "df.head(5)"
   ]
  },
  {
   "cell_type": "code",
   "execution_count": null,
   "metadata": {},
   "outputs": [],
   "source": [
    "## 选取特征向量\n",
    "features = df[[\"公交\", \"写字楼\", \"医院\", \"商场\", \"地铁\", \"学校\", \"建造时间\", \"楼层\", \"面积\"]]\n",
    "\n",
    "target = df['每平米价格']\n",
    "\n",
    "pd.concat([features, target], axis=1).head()"
   ]
  },
  {
   "cell_type": "code",
   "execution_count": null,
   "metadata": {},
   "outputs": [],
   "source": [
    "# 水平拆分\n",
    "split_num = int(len(df)*0.7) # 70% 分割数\n",
    "\n",
    "## 代码开始 ### (≈ 4 行代码)\n",
    "X_train = features[:split_num]\n",
    "y_train = target[:split_num]\n",
    "X_test = features[split_num:]\n",
    "y_test = target[split_num:]\n",
    "len(X_train), len(y_train), len(X_test), len(y_test)"
   ]
  },
  {
   "cell_type": "code",
   "execution_count": null,
   "metadata": {},
   "outputs": [],
   "source": [
    "from sklearn.linear_model import LinearRegression\n",
    "\n",
    "model = LinearRegression()\n",
    "model.fit(X_train, y_train)\n",
    "\n",
    "model.coef_[:3], len(model.coef_)"
   ]
  },
  {
   "cell_type": "code",
   "execution_count": null,
   "metadata": {},
   "outputs": [],
   "source": [
    "breds = model.predict(X_test)  # 输入测试集特征进行预测\n",
    "breds  # 预测结果"
   ]
  },
  {
   "cell_type": "code",
   "execution_count": null,
   "metadata": {},
   "outputs": [],
   "source": [
    "def mape_solver(y_true: np.ndarray, y_pred: np.ndarray):\n",
    "    \"\"\"MAPE 求解\"\"\"\n",
    "    n = len(y_true)\n",
    "    mape = sum(np.abs(y_true - y_pred)/y_true) / n\n",
    "    return mape"
   ]
  },
  {
   "cell_type": "code",
   "execution_count": null,
   "metadata": {},
   "outputs": [],
   "source": [
    "y_true = y_test.values\n",
    "y_pred = model.predict(X_test)\n",
    "mape_solver(y_true, y_pred)"
   ]
  }
 ],
 "metadata": {
  "kernelspec": {
   "display_name": "env_ai_3.12",
   "language": "python",
   "name": "python3"
  },
  "language_info": {
   "codemirror_mode": {
    "name": "ipython",
    "version": 3
   },
   "file_extension": ".py",
   "mimetype": "text/x-python",
   "name": "python",
   "nbconvert_exporter": "python",
   "pygments_lexer": "ipython3",
   "version": "3.12.2"
  },
  "orig_nbformat": 4
 },
 "nbformat": 4,
 "nbformat_minor": 2
}
