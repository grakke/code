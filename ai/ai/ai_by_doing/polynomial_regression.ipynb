{
 "cells": [
  {
   "cell_type": "markdown",
   "metadata": {},
   "source": [
    "# 多项式回归实现与应用"
   ]
  },
  {
   "cell_type": "code",
   "execution_count": null,
   "metadata": {},
   "outputs": [],
   "source": [
    "# 加载示例数据\n",
    "x = [4, 8, 12, 25, 32, 43, 58, 63, 69, 79]\n",
    "y = [20, 33, 50, 56, 42, 31, 33, 46, 65, 75]"
   ]
  },
  {
   "cell_type": "code",
   "execution_count": null,
   "metadata": {},
   "outputs": [],
   "source": [
    "from matplotlib import pyplot as plt\n",
    "\n",
    "%matplotlib inline\n",
    "\n",
    "plt.scatter(x, y)"
   ]
  },
  {
   "cell_type": "markdown",
   "metadata": {},
   "source": [
    "## 2 次多项式拟合"
   ]
  },
  {
   "cell_type": "code",
   "execution_count": null,
   "metadata": {},
   "outputs": [],
   "source": [
    "# 通过手动指定多项式阶数 m 的大小，就只需要确定多项式系数 w 的值\n",
    "def func(p, x):\n",
    "    # 根据公式，定义 2 次多项式函数\n",
    "    w0, w1, w2 = p\n",
    "    f = w0 + w1 * x + w2 * x * x\n",
    "    return f\n",
    "\n",
    "\n",
    "def err_func(p, x, y):\n",
    "    # 残差函数（观测值与拟合值之间的差距）\n",
    "    ret = func(p, x) - y\n",
    "    return ret"
   ]
  },
  {
   "cell_type": "code",
   "execution_count": null,
   "metadata": {},
   "outputs": [],
   "source": [
    "# 使用最小二乘法求解最优参数的过程\n",
    "import numpy as np\n",
    "from scipy.optimize import leastsq\n",
    "\n",
    "p_init = np.random.randn(3)  # 生成 3 个随机数\n",
    "# 使用 Scipy 提供的最小二乘法函数得到最佳拟合参数\n",
    "parameters = leastsq(err_func, p_init, args=(np.array(x), np.array(y)))\n",
    "\n",
    "print(\"Fitting Parameters: \", parameters[0])"
   ]
  },
  {
   "cell_type": "code",
   "execution_count": null,
   "metadata": {},
   "outputs": [],
   "source": [
    "# 绘制拟合图像时需要的临时点\n",
    "x_temp = np.linspace(0, 80, 10000)\n",
    "\n",
    "# 绘制拟合函数曲线\n",
    "plt.plot(x_temp, func(parameters[0], x_temp), \"r\")\n",
    "\n",
    "# 绘制原数据点\n",
    "plt.scatter(x, y)"
   ]
  },
  {
   "cell_type": "markdown",
   "metadata": {},
   "source": [
    "## N 次多项式拟合"
   ]
  },
  {
   "cell_type": "code",
   "execution_count": null,
   "metadata": {},
   "outputs": [],
   "source": [
    "def fit_func(p, x):\n",
    "    \"\"\"根据公式，定义 n 次多项式函数\"\"\"\n",
    "    f = np.poly1d(p)\n",
    "    return f(x)\n",
    "\n",
    "\n",
    "def err_func(p, x, y):\n",
    "    \"\"\"残差函数（观测值与拟合值之间的差距）\"\"\"\n",
    "    ret = fit_func(p, x) - y\n",
    "    return ret\n",
    "\n",
    "\n",
    "def n_poly(n):\n",
    "    \"\"\"n 次多项式拟合\"\"\"\n",
    "    p_init = np.random.randn(n)  # 生成 n 个随机数\n",
    "    parameters = leastsq(err_func, p_init, args=(np.array(x), np.array(y)))\n",
    "    return parameters[0]\n",
    "\n",
    "n_poly(3)"
   ]
  },
  {
   "cell_type": "code",
   "execution_count": null,
   "metadata": {},
   "outputs": [],
   "source": [
    "# 绘制拟合图像时需要的临时点\n",
    "x_temp = np.linspace(0, 80, 10000)\n",
    "\n",
    "# 绘制子图\n",
    "fig, axes = plt.subplots(2, 3, figsize=(15, 10))\n",
    "\n",
    "axes[0, 0].plot(x_temp, fit_func(n_poly(4), x_temp), \"r\")\n",
    "axes[0, 0].scatter(x, y)\n",
    "axes[0, 0].set_title(\"m = 3\")\n",
    "\n",
    "axes[0, 1].plot(x_temp, fit_func(n_poly(5), x_temp), \"r\")\n",
    "axes[0, 1].scatter(x, y)\n",
    "axes[0, 1].set_title(\"m = 4\")\n",
    "\n",
    "axes[0, 2].plot(x_temp, fit_func(n_poly(6), x_temp), \"r\")\n",
    "axes[0, 2].scatter(x, y)\n",
    "axes[0, 2].set_title(\"m = 5\")\n",
    "\n",
    "axes[1, 0].plot(x_temp, fit_func(n_poly(7), x_temp), \"r\")\n",
    "axes[1, 0].scatter(x, y)\n",
    "axes[1, 0].set_title(\"m = 6\")\n",
    "\n",
    "axes[1, 1].plot(x_temp, fit_func(n_poly(8), x_temp), \"r\")\n",
    "axes[1, 1].scatter(x, y)\n",
    "axes[1, 1].set_title(\"m = 7\")\n",
    "\n",
    "axes[1, 2].plot(x_temp, fit_func(n_poly(9), x_temp), \"r\")\n",
    "axes[1, 2].scatter(x, y)\n",
    "axes[1, 2].set_title(\"m = 8\")\n",
    "\n",
    "\n",
    "print('过拟和 Overfitting 随着 m 次数的增加曲线呈现出明显的震荡')"
   ]
  },
  {
   "cell_type": "markdown",
   "metadata": {},
   "source": [
    "### 用 scikit-learn 进行多项式拟合\n",
    "\n",
    "- 类 sklearn.preprocessing.PolynomialFeatures(degree=2, interaction_only=False, include_bias=True) 主要作用是产生多项式特征矩阵\n",
    "  - degree: 多项式次数，默认为 2 次多项式\n",
    "  - interaction_only: 默认为 False，为 True 则产生相互影响的特征集\n",
    "  - include_bias: 默认为 True，包含多项式中的截距项\n",
    "- 多项式回归相当于线性回归的特殊形式，相当于一元高次多项式到多元一次多项式之间的转换\n",
    "- 当多项式为一元高次或者多元高次时，特征矩阵的表达和计算过程变得比较复杂"
   ]
  },
  {
   "cell_type": "code",
   "execution_count": null,
   "metadata": {},
   "outputs": [],
   "source": [
    "from sklearn.preprocessing import PolynomialFeatures\n",
    "\n",
    "X = [2, -1, 3]\n",
    "X_reshape = np.array(X).reshape(len(X), 1)  # 转换为列向量\n",
    "# 使用 PolynomialFeatures 自动生成特征矩阵\n",
    "PolynomialFeatures(degree=2, include_bias=False).fit_transform(X_reshape)"
   ]
  },
  {
   "cell_type": "code",
   "execution_count": null,
   "metadata": {},
   "outputs": [],
   "source": [
    "x = np.array(x).reshape(len(x), 1)  # 转换为列向量\n",
    "y = np.array(y).reshape(len(y), 1)\n",
    "\n",
    "# 用 sklearn 得到 2 次多项式回归特征矩阵\n",
    "poly_features = PolynomialFeatures(degree=2, include_bias=False)\n",
    "poly_x = poly_features.fit_transform(x)\n",
    "\n",
    "poly_x"
   ]
  },
  {
   "cell_type": "code",
   "execution_count": null,
   "metadata": {},
   "outputs": [],
   "source": [
    "from sklearn.linear_model import LinearRegression\n",
    "\n",
    "# 定义线性回归模型\n",
    "model = LinearRegression()\n",
    "model.fit(poly_x, y)  # 训练\n",
    "\n",
    "# 得到模型拟合参数\n",
    "model.intercept_, model.coef_"
   ]
  },
  {
   "cell_type": "code",
   "execution_count": null,
   "metadata": {},
   "outputs": [],
   "source": [
    "# 绘制拟合图像\n",
    "x_temp = np.array(x_temp).reshape(len(x_temp), 1)\n",
    "poly_x_temp = poly_features.fit_transform(x_temp)\n",
    "\n",
    "plt.plot(x_temp, model.predict(poly_x_temp), \"r\")\n",
    "plt.scatter(x, y)"
   ]
  },
  {
   "cell_type": "markdown",
   "metadata": {},
   "source": [
    "## 多项式回归预测"
   ]
  },
  {
   "cell_type": "code",
   "execution_count": null,
   "metadata": {},
   "outputs": [],
   "source": [
    "# 导入并预览「世界麻疹疫苗接种率」数据集\n",
    "import pandas as pd\n",
    "\n",
    "# 加载数据集 \n",
    "df = pd.read_csv(\n",
    "    # \"https://cdn.aibydoing.com/hands-on-ai/files/course-6-vaccine.csv\",\n",
    "    \"../../data/course-6-vaccine.csv\",\n",
    "    header=0,\n",
    ")\n",
    "df"
   ]
  },
  {
   "cell_type": "code",
   "execution_count": null,
   "metadata": {},
   "outputs": [],
   "source": [
    "# 定义 x, y 的取值\n",
    "x = df[\"Year\"]\n",
    "y = df[\"Values\"]\n",
    "# 绘图\n",
    "plt.plot(x, y, \"r\")\n",
    "plt.scatter(x, y)"
   ]
  },
  {
   "cell_type": "code",
   "execution_count": null,
   "metadata": {},
   "outputs": [],
   "source": [
    "# 划分 dateframe 为训练集和测试集\n",
    "train_df = df[: int(len(df) * 0.7)]\n",
    "test_df = df[int(len(df) * 0.7) :]\n",
    "\n",
    "# 定义训练和测试使用的自变量和因变量\n",
    "X_train = train_df[\"Year\"].values\n",
    "y_train = train_df[\"Values\"].values\n",
    "\n",
    "X_test = test_df[\"Year\"].values\n",
    "y_test = test_df[\"Values\"].values"
   ]
  },
  {
   "cell_type": "code",
   "execution_count": null,
   "metadata": {},
   "outputs": [],
   "source": [
    "# 建立线性回归模型\n",
    "model = LinearRegression()\n",
    "model.fit(X_train.reshape(len(X_train), 1), y_train.reshape(len(y_train), 1))\n",
    "results = model.predict(X_test.reshape(len(X_test), 1))\n",
    "results  # 线性回归模型在测试集上的预测结果"
   ]
  },
  {
   "cell_type": "code",
   "execution_count": null,
   "metadata": {},
   "outputs": [],
   "source": [
    "from sklearn.metrics import mean_absolute_error\n",
    "from sklearn.metrics import mean_squared_error\n",
    "\n",
    "print(\"线性回归平均绝对误差: \", mean_absolute_error(y_test, results.flatten()))\n",
    "print(\"线性回归均方误差: \", mean_squared_error(y_test, results.flatten()))"
   ]
  },
  {
   "cell_type": "code",
   "execution_count": null,
   "metadata": {},
   "outputs": [],
   "source": [
    "# 2 次多项式回归特征矩阵\n",
    "poly_features_2 = PolynomialFeatures(degree=2, include_bias=False)\n",
    "poly_X_train_2 = poly_features_2.fit_transform(X_train.reshape(len(X_train), 1))\n",
    "poly_X_test_2 = poly_features_2.fit_transform(X_test.reshape(len(X_test), 1))\n",
    "\n",
    "# 2 次多项式回归模型训练与预测\n",
    "model = LinearRegression()\n",
    "model.fit(poly_X_train_2, y_train.reshape(len(X_train), 1))  # 训练模型\n",
    "\n",
    "results_2 = model.predict(poly_X_test_2)  # 预测结果\n",
    "\n",
    "results_2.flatten()  # 打印扁平化后的预测结果"
   ]
  },
  {
   "cell_type": "code",
   "execution_count": null,
   "metadata": {},
   "outputs": [],
   "source": [
    "print(\"2 次多项式回归平均绝对误差: \", mean_absolute_error(y_test, results_2.flatten()))\n",
    "print(\"2 次多项式均方误差: \", mean_squared_error(y_test, results_2.flatten()))"
   ]
  },
  {
   "cell_type": "code",
   "execution_count": null,
   "metadata": {},
   "outputs": [],
   "source": [
    "# 更高次多项式回归预测\n",
    "from sklearn.pipeline import make_pipeline\n",
    "\n",
    "X_train = X_train.reshape(len(X_train), 1)\n",
    "X_test = X_test.reshape(len(X_test), 1)\n",
    "y_train = y_train.reshape(len(y_train), 1)\n",
    "\n",
    "for m in [3, 4, 5]:\n",
    "    model = make_pipeline(PolynomialFeatures(m, include_bias=False), LinearRegression())\n",
    "    model.fit(X_train, y_train)\n",
    "    pre_y = model.predict(X_test)\n",
    "    print(\"{} 次多项式回归平均绝对误差: \".format(m), mean_absolute_error(y_test, pre_y.flatten()))\n",
    "    print(\"{} 次多项式均方误差: \".format(m), mean_squared_error(y_test, pre_y.flatten()))\n",
    "    print(\"---\")"
   ]
  },
  {
   "cell_type": "markdown",
   "metadata": {},
   "source": [
    "### 多项式回归预测次数选择\n",
    "\n",
    "- 选择一个误差指标，例如选择 MSE，计算出该指标随多项式次数增加而变化的图像"
   ]
  },
  {
   "cell_type": "code",
   "execution_count": null,
   "metadata": {},
   "outputs": [],
   "source": [
    "# 计算 m 次多项式回归预测结果的 MSE 评价指标并绘图\n",
    "mse = []  # 用于存储各最高次多项式 MSE 值\n",
    "m = 1  # 初始 m 值\n",
    "m_max = 10  # 设定最高次数\n",
    "while m <= m_max:\n",
    "    model = make_pipeline(PolynomialFeatures(m, include_bias=False), LinearRegression())\n",
    "    model.fit(X_train, y_train)  # 训练模型\n",
    "    pre_y = model.predict(X_test)  # 测试模型\n",
    "    mse.append(mean_squared_error(y_test, pre_y.flatten()))  # 计算 MSE\n",
    "    m = m + 1\n",
    "\n",
    "print(\"MSE 计算结果: \", mse)\n",
    "# 绘图\n",
    "plt.plot([i for i in range(1, m_max + 1)], mse, \"r\")\n",
    "plt.scatter([i for i in range(1, m_max + 1)], mse)\n",
    "\n",
    "# 绘制图名称等\n",
    "plt.title(\"MSE of m degree of polynomial regression\")\n",
    "plt.xlabel(\"m\")\n",
    "plt.ylabel(\"MSE\")"
   ]
  },
  {
   "cell_type": "markdown",
   "metadata": {},
   "source": [
    "考虑到模型的泛化能力，避免出现过拟合，这里就可以选择 3 次多项式为最优回归预测模型"
   ]
  },
  {
   "cell_type": "markdown",
   "metadata": {},
   "source": [
    "## 比特币价格预测及绘图"
   ]
  },
  {
   "cell_type": "code",
   "execution_count": null,
   "metadata": {},
   "outputs": [],
   "source": [
    "import pandas as pd\n",
    "\n",
    "df = None\n",
    "df = pd.read_csv(\n",
    "    # \"https://cdn.aibydoing.com/hands-on-ai/files/challenge-2-bitcoin.csv\",\n",
    "    \"../../data/challenge-2-bitcoin.csv\",\n",
    "    header=0,\n",
    ")\n",
    "df.head()"
   ]
  },
  {
   "cell_type": "code",
   "execution_count": null,
   "metadata": {},
   "outputs": [],
   "source": [
    "data = df [[\"btc_market_price\", \"btc_total_bitcoins\",\"btc_transaction_fees\"]]\n",
    "data.head()"
   ]
  },
  {
   "cell_type": "code",
   "execution_count": null,
   "metadata": {},
   "outputs": [],
   "source": [
    "# 将 3 列数据，分别绘制在横向排列的 3 张子图中\n",
    "## 需设置各图横纵轴名称，横轴统一为 time，纵轴为各自列名称\n",
    "from matplotlib import pyplot as plt\n",
    "%matplotlib inline\n",
    "\n",
    "fig, axes = plt.subplots(1, 3, figsize=(16, 5))\n",
    "axes[0].plot(data['btc_market_price'], 'green')\n",
    "axes[0].set_xlabel('time')\n",
    "axes[0].set_ylabel('btc_market_price')\n",
    "\n",
    "axes[1].plot(data['btc_total_bitcoins'], 'blue')\n",
    "axes[1].set_xlabel('time')\n",
    "axes[1].set_ylabel('btc_total_bitcoins')\n",
    "\n",
    "axes[2].plot(data['btc_transaction_fees'], 'brown')\n",
    "axes[2].set_xlabel('time')\n",
    "axes[2].set_ylabel('btc_transaction_fees')"
   ]
  },
  {
   "cell_type": "code",
   "execution_count": null,
   "metadata": {},
   "outputs": [],
   "source": [
    "# 数据集\n",
    "# 特征（Features）是「比特币总量」和「比特币交易费用」\n",
    "# 目标值为「比特币市场价格」\n",
    "def split_dataset():\n",
    "    \"\"\"\n",
    "    参数:\n",
    "    无\n",
    "\n",
    "    返回:\n",
    "    X_train, y_train, X_test, y_test -- 训练集特征、训练集目标、测试集特征、测试集目标\n",
    "    \"\"\"\n",
    "    train_data = data[: int(len(data) * 0.7)]\n",
    "    test_data = data[int(len(data) * 0.7):]\n",
    "    X_train = train_data[[\"btc_total_bitcoins\", 'btc_transaction_fees']]\n",
    "    X_test = test_data[[\"btc_total_bitcoins\", 'btc_transaction_fees']]\n",
    "    y_train = train_data[[\"btc_market_price\"]]\n",
    "    y_test = test_data[[\"btc_market_price\"]]\n",
    "\n",
    "    return X_train, y_train, X_test, y_test\n",
    "\n",
    "\n",
    "len(split_dataset()[0]), len(split_dataset()[1]), len(split_dataset()[2]), len(split_dataset()[\n",
    "    3]), split_dataset()[0].shape, split_dataset()[1].shape, split_dataset()[2].shape, split_dataset()[3].shape"
   ]
  },
  {
   "cell_type": "markdown",
   "metadata": {},
   "source": [
    "### 3 次多项式回归预测挑战\n",
    "\n",
    "- 使用 scikit-learn 构建 3 次多项式回归预测模型，并计算预测结果的 MAE 评价指标，同时作为 poly3() 函数返回值"
   ]
  },
  {
   "cell_type": "code",
   "execution_count": null,
   "metadata": {},
   "outputs": [],
   "source": [
    "# 加载必要模块\n",
    "from sklearn.preprocessing import PolynomialFeatures\n",
    "from sklearn.linear_model import LinearRegression\n",
    "from sklearn.metrics import mean_absolute_error\n",
    "\n",
    "# 加载数据\n",
    "X_train = split_dataset()[0]\n",
    "y_train = split_dataset()[1]\n",
    "X_test = split_dataset()[2]\n",
    "y_test = split_dataset()[3]\n",
    "\n",
    "\n",
    "def poly3():\n",
    "    \"\"\"\n",
    "    参数:\n",
    "    无\n",
    "\n",
    "    返回:\n",
    "    mae -- 预测结果的 MAE 评价指标\n",
    "    \"\"\"\n",
    "    poly_features = PolynomialFeatures(degree=3, include_bias=False)\n",
    "    poly_X_train = poly_features.fit_transform(X_train)\n",
    "    poly_X_test = poly_features.fit_transform(X_test)\n",
    "\n",
    "    model = LinearRegression()\n",
    "    model.fit(poly_X_train, y_train)\n",
    "    pre_y = model.predict(poly_X_test)\n",
    "\n",
    "    mae = mean_absolute_error(y_test, pre_y.flatten())\n",
    "\n",
    "    return mae\n",
    "\n",
    "\n",
    "poly3()"
   ]
  },
  {
   "cell_type": "code",
   "execution_count": null,
   "metadata": {},
   "outputs": [],
   "source": [
    "# N 次多项式回归预测绘图 计算 1,2,…,10 次多项式回归预测结果的 MSE 评价指标\n",
    "from sklearn.pipeline import make_pipeline\n",
    "from sklearn.metrics import mean_squared_error\n",
    "\n",
    "\n",
    "def poly_plot(N):\n",
    "    \"\"\"\n",
    "    参数:\n",
    "    N -- 标量, 多项式次数\n",
    "\n",
    "    返回:\n",
    "    mse -- N 次多项式预测结果的 MSE 评价指标列表\n",
    "    \"\"\"\n",
    "\n",
    "    m = 1\n",
    "    mse = []\n",
    "    while m <= N:\n",
    "        model = make_pipeline(PolynomialFeatures(\n",
    "            m, include_bias=False), LinearRegression())\n",
    "        model.fit(X_train, y_train)  # 训练模型\n",
    "        pre_y = model.predict(X_test)  # 测试模型\n",
    "        mse.append(mean_squared_error(y_test, pre_y.flatten()))  # 计算 MSE\n",
    "        m = m + 1\n",
    "\n",
    "    return mse\n",
    "\n",
    "\n",
    "poly_plot(10)[:10:3]"
   ]
  },
  {
   "cell_type": "code",
   "execution_count": null,
   "metadata": {},
   "outputs": [],
   "source": [
    "# 将 MSE 评价指标绘制成线型图 规定：将 poly_plot(10) 返回的 MSE 列表绘制成组合图（线形图+散点图）。线型图为红色\n",
    "mse = poly_plot(10)\n",
    "\n",
    "plt.plot([i for i in range(1, 11)], mse, \"r\")\n",
    "plt.scatter([i for i in range(1, 11)], mse)\n",
    "\n",
    "plt.title(\"MSE of m degree of polynomial regression\")\n",
    "plt.xlabel(\"N\")\n",
    "plt.ylabel(\"MSE\")"
   ]
  }
 ],
 "metadata": {
  "kernelspec": {
   "display_name": "env_ai_3.12",
   "language": "python",
   "name": "python3"
  },
  "language_info": {
   "codemirror_mode": {
    "name": "ipython",
    "version": 3
   },
   "file_extension": ".py",
   "mimetype": "text/x-python",
   "name": "python",
   "nbconvert_exporter": "python",
   "pygments_lexer": "ipython3",
   "version": "3.12.2"
  },
  "orig_nbformat": 4
 },
 "nbformat": 4,
 "nbformat_minor": 2
}
