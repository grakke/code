{
 "cells": [
  {
   "cell_type": "markdown",
   "metadata": {},
   "source": [
    "# Pandas的时间序列处理 "
   ]
  },
  {
   "cell_type": "markdown",
   "metadata": {},
   "source": [
    "## 创建"
   ]
  },
  {
   "cell_type": "code",
   "execution_count": 1,
   "metadata": {},
   "outputs": [
    {
     "name": "stdout",
     "output_type": "stream",
     "text": [
      "2018-03-03   -1.479218\n",
      "2018-03-04    0.411919\n",
      "2018-03-10    0.765279\n",
      "2018-03-11    1.157496\n",
      "2018-03-17    0.696901\n",
      "2018-03-18   -0.396603\n",
      "dtype: float64\n",
      "<class 'pandas.core.indexes.datetimes.DatetimeIndex'>\n"
     ]
    }
   ],
   "source": [
    "from datetime import datetime\n",
    "import pandas as pd\n",
    "import numpy as np\n",
    "\n",
    "# 指定index为datetime的list\n",
    "date_list = [datetime(2018, 3, 3), datetime(2018, 3, 4), \n",
    "             datetime(2018, 3, 10), datetime(2018, 3, 11), \n",
    "             datetime(2018, 3, 17), datetime(2018, 3, 18)]\n",
    "time_s = pd.Series(np.random.randn(6), index=date_list)\n",
    "print(time_s)\n",
    "print(type(time_s.index))"
   ]
  },
  {
   "cell_type": "code",
   "execution_count": 2,
   "metadata": {},
   "outputs": [
    {
     "name": "stdout",
     "output_type": "stream",
     "text": [
      "DatetimeIndex(['2018-05-28', '2018-06-04', '2018-06-11', '2018-06-18',\n",
      "               '2018-06-25', '2018-07-02', '2018-07-09'],\n",
      "              dtype='datetime64[ns]', freq='W-MON')\n",
      "2018-05-28   -0.808014\n",
      "2018-06-04   -0.415286\n",
      "2018-06-11    1.286651\n",
      "2018-06-18   -0.696134\n",
      "2018-06-25   -0.670231\n",
      "2018-07-02    1.211439\n",
      "2018-07-09   -0.991688\n",
      "Freq: W-MON, dtype: float64\n"
     ]
    }
   ],
   "source": [
    "# pd.date_range()\n",
    "dates = pd.date_range('2018-05-23', # 起始日期\n",
    "                      periods=7,    # 周期\n",
    "                      freq='W-MON') # 频率\n",
    "print(dates)\n",
    "print(pd.Series(np.random.randn(7), index=dates))"
   ]
  },
  {
   "cell_type": "markdown",
   "metadata": {},
   "source": [
    "## 索引"
   ]
  },
  {
   "cell_type": "code",
   "execution_count": 3,
   "metadata": {},
   "outputs": [
    {
     "name": "stdout",
     "output_type": "stream",
     "text": [
      "-1.4792177021463906\n"
     ]
    }
   ],
   "source": [
    "# 索引位置\n",
    "print(time_s[0])"
   ]
  },
  {
   "cell_type": "code",
   "execution_count": 4,
   "metadata": {},
   "outputs": [
    {
     "name": "stdout",
     "output_type": "stream",
     "text": [
      "-1.4792177021463906\n"
     ]
    }
   ],
   "source": [
    "# 索引值\n",
    "print(time_s[datetime(2018, 3, 3)])"
   ]
  },
  {
   "cell_type": "code",
   "execution_count": 5,
   "metadata": {},
   "outputs": [
    {
     "name": "stdout",
     "output_type": "stream",
     "text": [
      "-1.4792177021463906\n"
     ]
    }
   ],
   "source": [
    "# 可以被解析的日期字符串\n",
    "print(time_s['20180303'])"
   ]
  },
  {
   "cell_type": "code",
   "execution_count": 6,
   "metadata": {},
   "outputs": [
    {
     "name": "stdout",
     "output_type": "stream",
     "text": [
      "2018-03-03   -1.479218\n",
      "2018-03-04    0.411919\n",
      "2018-03-10    0.765279\n",
      "2018-03-11    1.157496\n",
      "2018-03-17    0.696901\n",
      "2018-03-18   -0.396603\n",
      "dtype: float64\n"
     ]
    }
   ],
   "source": [
    "# 按“年份”、“月份”索引\n",
    "print(time_s['2018-3'])"
   ]
  },
  {
   "cell_type": "code",
   "execution_count": 7,
   "metadata": {},
   "outputs": [
    {
     "name": "stdout",
     "output_type": "stream",
     "text": [
      "2018-03-10    0.765279\n",
      "2018-03-11    1.157496\n",
      "2018-03-17    0.696901\n",
      "2018-03-18   -0.396603\n",
      "dtype: float64\n"
     ]
    }
   ],
   "source": [
    "# 切片操作\n",
    "print(time_s['2018-3-6':])"
   ]
  },
  {
   "cell_type": "markdown",
   "metadata": {},
   "source": [
    "## 过滤\n"
   ]
  },
  {
   "cell_type": "code",
   "execution_count": 8,
   "metadata": {},
   "outputs": [
    {
     "name": "stdout",
     "output_type": "stream",
     "text": [
      "2018-03-03   -1.479218\n",
      "2018-03-04    0.411919\n",
      "2018-03-10    0.765279\n",
      "2018-03-11    1.157496\n",
      "2018-03-17    0.696901\n",
      "2018-03-18   -0.396603\n",
      "dtype: float64\n"
     ]
    }
   ],
   "source": [
    "print(time_s)"
   ]
  },
  {
   "cell_type": "code",
   "execution_count": 9,
   "metadata": {},
   "outputs": [
    {
     "data": {
      "text/plain": [
       "2018-03-17    0.696901\n",
       "2018-03-18   -0.396603\n",
       "dtype: float64"
      ]
     },
     "execution_count": 9,
     "metadata": {},
     "output_type": "execute_result"
    }
   ],
   "source": [
    "tims_s2 = time_s.truncate(before='2018-3-15')\n",
    "tims_s2"
   ]
  },
  {
   "cell_type": "code",
   "execution_count": 10,
   "metadata": {},
   "outputs": [
    {
     "data": {
      "text/plain": [
       "2018-03-03   -1.479218\n",
       "2018-03-04    0.411919\n",
       "2018-03-10    0.765279\n",
       "2018-03-11    1.157496\n",
       "dtype: float64"
      ]
     },
     "execution_count": 10,
     "metadata": {},
     "output_type": "execute_result"
    }
   ],
   "source": [
    "time_s.truncate(after='2018-3-15')"
   ]
  },
  {
   "cell_type": "markdown",
   "metadata": {},
   "source": [
    "## 生成日期范围"
   ]
  },
  {
   "cell_type": "code",
   "execution_count": 11,
   "metadata": {},
   "outputs": [
    {
     "name": "stdout",
     "output_type": "stream",
     "text": [
      "DatetimeIndex(['2018-03-03', '2018-03-04', '2018-03-05', '2018-03-06',\n",
      "               '2018-03-07', '2018-03-08', '2018-03-09', '2018-03-10',\n",
      "               '2018-03-11', '2018-03-12', '2018-03-13', '2018-03-14',\n",
      "               '2018-03-15', '2018-03-16', '2018-03-17', '2018-03-18',\n",
      "               '2018-03-19', '2018-03-20', '2018-03-21', '2018-03-22',\n",
      "               '2018-03-23', '2018-03-24', '2018-03-25', '2018-03-26',\n",
      "               '2018-03-27', '2018-03-28', '2018-03-29', '2018-03-30',\n",
      "               '2018-03-31'],\n",
      "              dtype='datetime64[ns]', freq='D')\n"
     ]
    }
   ],
   "source": [
    "# 传入开始、结束日期，默认生成的该时间段的时间点是按天计算的\n",
    "date_index = pd.date_range('2018/03/03', '2018/03/31')\n",
    "print(date_index)"
   ]
  },
  {
   "cell_type": "code",
   "execution_count": 12,
   "metadata": {},
   "outputs": [
    {
     "name": "stdout",
     "output_type": "stream",
     "text": [
      "DatetimeIndex(['2018-03-03', '2018-03-07', '2018-03-11', '2018-03-15',\n",
      "               '2018-03-19', '2018-03-23', '2018-03-27', '2018-03-31',\n",
      "               '2018-04-04', '2018-04-08'],\n",
      "              dtype='datetime64[ns]', freq='4D')\n"
     ]
    }
   ],
   "source": [
    "# 只传入开始或结束日期，还需要传入时间段\n",
    "print(pd.date_range(start='2018/03/03', periods=10, freq='4D'))"
   ]
  },
  {
   "cell_type": "code",
   "execution_count": 13,
   "metadata": {},
   "outputs": [
    {
     "name": "stdout",
     "output_type": "stream",
     "text": [
      "DatetimeIndex(['2018-03-22', '2018-03-23', '2018-03-24', '2018-03-25',\n",
      "               '2018-03-26', '2018-03-27', '2018-03-28', '2018-03-29',\n",
      "               '2018-03-30', '2018-03-31'],\n",
      "              dtype='datetime64[ns]', freq='D')\n"
     ]
    }
   ],
   "source": [
    "print(pd.date_range(end='2018/03/31', periods=10))"
   ]
  },
  {
   "cell_type": "code",
   "execution_count": 14,
   "metadata": {},
   "outputs": [
    {
     "name": "stdout",
     "output_type": "stream",
     "text": [
      "DatetimeIndex(['2018-08-03 12:13:14', '2018-08-04 12:13:14',\n",
      "               '2018-08-05 12:13:14', '2018-08-06 12:13:14',\n",
      "               '2018-08-07 12:13:14', '2018-08-08 12:13:14',\n",
      "               '2018-08-09 12:13:14', '2018-08-10 12:13:14',\n",
      "               '2018-08-11 12:13:14', '2018-08-12 12:13:14'],\n",
      "              dtype='datetime64[ns]', freq='D')\n",
      "DatetimeIndex(['2018-08-03', '2018-08-04', '2018-08-05', '2018-08-06',\n",
      "               '2018-08-07', '2018-08-08', '2018-08-09', '2018-08-10',\n",
      "               '2018-08-11', '2018-08-12'],\n",
      "              dtype='datetime64[ns]', freq='D')\n"
     ]
    }
   ],
   "source": [
    "# 规范化时间戳 \n",
    "print(pd.date_range(start='2018/08/03 12:13:14', periods=10))\n",
    "print(pd.date_range(start='2018/08/03 12:13:14', periods=10, normalize=True))"
   ]
  },
  {
   "cell_type": "markdown",
   "metadata": {},
   "source": [
    "## 频率与偏移量"
   ]
  },
  {
   "cell_type": "code",
   "execution_count": 15,
   "metadata": {},
   "outputs": [
    {
     "name": "stdout",
     "output_type": "stream",
     "text": [
      "DatetimeIndex(['2018-03-03', '2018-03-05', '2018-03-07', '2018-03-09',\n",
      "               '2018-03-11', '2018-03-13', '2018-03-15', '2018-03-17',\n",
      "               '2018-03-19', '2018-03-21', '2018-03-23', '2018-03-25',\n",
      "               '2018-03-27', '2018-03-29', '2018-03-31'],\n",
      "              dtype='datetime64[ns]', freq='2D')\n"
     ]
    }
   ],
   "source": [
    "print(pd.date_range('2018/03/03', '2018/03/31', freq='2D'))"
   ]
  },
  {
   "cell_type": "code",
   "execution_count": 16,
   "metadata": {},
   "outputs": [
    {
     "name": "stdout",
     "output_type": "stream",
     "text": [
      "14 days 12:00:00\n",
      "DatetimeIndex(['2018-03-03 00:00:00', '2018-03-17 12:00:00',\n",
      "               '2018-04-01 00:00:00', '2018-04-15 12:00:00',\n",
      "               '2018-04-30 00:00:00'],\n",
      "              dtype='datetime64[ns]', freq='348H')\n"
     ]
    }
   ],
   "source": [
    "# 偏移量通过加法连接\n",
    "sum_offset = pd.tseries.offsets.Week(2) + pd.tseries.offsets.Hour(12)\n",
    "print(sum_offset)\n",
    "\n",
    "print(pd.date_range('2018/03/03', '2018/04/30', freq=sum_offset))"
   ]
  },
  {
   "cell_type": "markdown",
   "metadata": {},
   "source": [
    "## 移动数据"
   ]
  },
  {
   "cell_type": "code",
   "execution_count": 17,
   "metadata": {},
   "outputs": [
    {
     "name": "stdout",
     "output_type": "stream",
     "text": [
      "2018-03-03   -0.395482\n",
      "2018-03-10   -1.465365\n",
      "2018-03-17    2.498886\n",
      "2018-03-24   -0.726293\n",
      "2018-03-31    0.574964\n",
      "Freq: W-SAT, dtype: float64\n"
     ]
    }
   ],
   "source": [
    "ts = pd.Series(np.random.randn(5), index=pd.date_range('20180303', periods=5, freq='W-SAT'))\n",
    "print(ts)"
   ]
  },
  {
   "cell_type": "code",
   "execution_count": 18,
   "metadata": {},
   "outputs": [
    {
     "name": "stdout",
     "output_type": "stream",
     "text": [
      "2018-03-03   -1.465365\n",
      "2018-03-10    2.498886\n",
      "2018-03-17   -0.726293\n",
      "2018-03-24    0.574964\n",
      "2018-03-31         NaN\n",
      "Freq: W-SAT, dtype: float64\n"
     ]
    }
   ],
   "source": [
    "# print(ts.shift(1))\n",
    "print(ts.shift(-1))"
   ]
  },
  {
   "cell_type": "markdown",
   "metadata": {
    "collapsed": true
   },
   "source": [
    "# 时间数据重采样"
   ]
  },
  {
   "cell_type": "markdown",
   "metadata": {},
   "source": [
    "## resample"
   ]
  },
  {
   "cell_type": "code",
   "execution_count": 19,
   "metadata": {},
   "outputs": [
    {
     "name": "stdout",
     "output_type": "stream",
     "text": [
      "2018-03-03    0\n",
      "2018-03-04    1\n",
      "2018-03-05    2\n",
      "2018-03-06    3\n",
      "2018-03-07    4\n",
      "2018-03-08    5\n",
      "2018-03-09    6\n",
      "2018-03-10    7\n",
      "2018-03-11    8\n",
      "2018-03-12    9\n",
      "Freq: D, dtype: int64\n"
     ]
    }
   ],
   "source": [
    "import pandas as pd\n",
    "import numpy as np\n",
    "\n",
    "date_rng = pd.date_range('20180303', periods=100, freq='D')\n",
    "ser_obj = pd.Series(range(len(date_rng)), index=date_rng)\n",
    "print(ser_obj.head(10))"
   ]
  },
  {
   "cell_type": "code",
   "execution_count": 20,
   "metadata": {},
   "outputs": [
    {
     "name": "stdout",
     "output_type": "stream",
     "text": [
      "按月求和：\n",
      "2018-03-31     406\n",
      "2018-04-30    1305\n",
      "2018-05-31    2294\n",
      "2018-06-30     945\n",
      "Freq: M, dtype: int64\n",
      "按月求均值：\n",
      "2018-03-31    14.0\n",
      "2018-04-30    43.5\n",
      "2018-05-31    74.0\n",
      "2018-06-30    94.5\n",
      "Freq: M, dtype: float64\n"
     ]
    }
   ],
   "source": [
    "# 统计每个月的数据总和\n",
    "resample_month_sum = ser_obj.resample('M').sum()\n",
    "# 统计每个月的数据平均\n",
    "resample_month_mean = ser_obj.resample('M').mean()\n",
    "\n",
    "print('按月求和：')\n",
    "print(resample_month_sum)\n",
    "\n",
    "print('按月求均值：') \n",
    "print(resample_month_mean)"
   ]
  },
  {
   "cell_type": "markdown",
   "metadata": {},
   "source": [
    "## 降采样"
   ]
  },
  {
   "cell_type": "code",
   "execution_count": 21,
   "metadata": {},
   "outputs": [
    {
     "name": "stdout",
     "output_type": "stream",
     "text": [
      "降采样，sum\n",
      "2018-03-03     10\n",
      "2018-03-08     35\n",
      "2018-03-13     60\n",
      "2018-03-18     85\n",
      "2018-03-23    110\n",
      "2018-03-28    135\n",
      "2018-04-02    160\n",
      "2018-04-07    185\n",
      "2018-04-12    210\n",
      "2018-04-17    235\n",
      "2018-04-22    260\n",
      "2018-04-27    285\n",
      "2018-05-02    310\n",
      "2018-05-07    335\n",
      "2018-05-12    360\n",
      "2018-05-17    385\n",
      "2018-05-22    410\n",
      "2018-05-27    435\n",
      "2018-06-01    460\n",
      "2018-06-06    485\n",
      "dtype: int64\n"
     ]
    }
   ],
   "source": [
    "# 将数据聚合到5天的频率\n",
    "five_day_sum_sample = ser_obj.resample('5D').sum()\n",
    "five_day_mean_sample = ser_obj.resample('5D').mean()\n",
    "five_day_ohlc_sample = ser_obj.resample('5D').ohlc()\n",
    "\n",
    "print('降采样，sum')\n",
    "print(five_day_sum_sample)"
   ]
  },
  {
   "cell_type": "code",
   "execution_count": 22,
   "metadata": {},
   "outputs": [
    {
     "name": "stdout",
     "output_type": "stream",
     "text": [
      "降采样，mean\n",
      "2018-03-03     2\n",
      "2018-03-08     7\n",
      "2018-03-13    12\n",
      "2018-03-18    17\n",
      "2018-03-23    22\n",
      "2018-03-28    27\n",
      "2018-04-02    32\n",
      "2018-04-07    37\n",
      "2018-04-12    42\n",
      "2018-04-17    47\n",
      "2018-04-22    52\n",
      "2018-04-27    57\n",
      "2018-05-02    62\n",
      "2018-05-07    67\n",
      "2018-05-12    72\n",
      "2018-05-17    77\n",
      "2018-05-22    82\n",
      "2018-05-27    87\n",
      "2018-06-01    92\n",
      "2018-06-06    97\n",
      "dtype: int64\n"
     ]
    }
   ],
   "source": [
    "print('降采样，mean')\n",
    "print(five_day_mean_sample)"
   ]
  },
  {
   "cell_type": "code",
   "execution_count": 23,
   "metadata": {},
   "outputs": [
    {
     "name": "stdout",
     "output_type": "stream",
     "text": [
      "降采样，ohlc\n",
      "            open  high  low  close\n",
      "2018-03-03     0     4    0      4\n",
      "2018-03-08     5     9    5      9\n",
      "2018-03-13    10    14   10     14\n",
      "2018-03-18    15    19   15     19\n",
      "2018-03-23    20    24   20     24\n",
      "2018-03-28    25    29   25     29\n",
      "2018-04-02    30    34   30     34\n",
      "2018-04-07    35    39   35     39\n",
      "2018-04-12    40    44   40     44\n",
      "2018-04-17    45    49   45     49\n",
      "2018-04-22    50    54   50     54\n",
      "2018-04-27    55    59   55     59\n",
      "2018-05-02    60    64   60     64\n",
      "2018-05-07    65    69   65     69\n",
      "2018-05-12    70    74   70     74\n",
      "2018-05-17    75    79   75     79\n",
      "2018-05-22    80    84   80     84\n",
      "2018-05-27    85    89   85     89\n",
      "2018-06-01    90    94   90     94\n",
      "2018-06-06    95    99   95     99\n"
     ]
    }
   ],
   "source": [
    "print('降采样，ohlc')\n",
    "print(five_day_ohlc_sample)"
   ]
  },
  {
   "cell_type": "code",
   "execution_count": 24,
   "metadata": {},
   "outputs": [
    {
     "name": "stdout",
     "output_type": "stream",
     "text": [
      "3     406\n",
      "4    1305\n",
      "5    2294\n",
      "6     945\n",
      "dtype: int64\n"
     ]
    }
   ],
   "source": [
    "# 使用groupby降采样\n",
    "print(ser_obj.groupby(lambda x: x.month).sum())"
   ]
  },
  {
   "cell_type": "code",
   "execution_count": 25,
   "metadata": {},
   "outputs": [
    {
     "name": "stdout",
     "output_type": "stream",
     "text": [
      "0    665\n",
      "1    679\n",
      "2    693\n",
      "3    707\n",
      "4    721\n",
      "5    735\n",
      "6    750\n",
      "dtype: int64\n"
     ]
    }
   ],
   "source": [
    "print(ser_obj.groupby(lambda x: x.weekday).sum())"
   ]
  },
  {
   "cell_type": "markdown",
   "metadata": {},
   "source": [
    "## 升采样"
   ]
  },
  {
   "cell_type": "code",
   "execution_count": 26,
   "metadata": {},
   "outputs": [
    {
     "name": "stdout",
     "output_type": "stream",
     "text": [
      "                  S1        S2        S3\n",
      "2018-01-01  0.422765  0.113958 -0.067549\n",
      "2018-01-08  0.203622 -0.017415  0.594671\n",
      "2018-01-15  1.251393 -0.108620 -0.465289\n",
      "2018-01-22 -0.190729 -1.364710  1.700750\n",
      "2018-01-29  0.254331  0.255666  0.210320\n"
     ]
    }
   ],
   "source": [
    "df = pd.DataFrame(np.random.randn(5, 3),\n",
    "                 index=pd.date_range('20180101', periods=5, freq='W-MON'),\n",
    "                 columns=['S1', 'S2', 'S3'])\n",
    "print(df)"
   ]
  },
  {
   "cell_type": "code",
   "execution_count": 27,
   "metadata": {},
   "outputs": [
    {
     "name": "stdout",
     "output_type": "stream",
     "text": [
      "                  S1        S2        S3\n",
      "2018-01-01  0.422765  0.113958 -0.067549\n",
      "2018-01-02       NaN       NaN       NaN\n",
      "2018-01-03       NaN       NaN       NaN\n",
      "2018-01-04       NaN       NaN       NaN\n",
      "2018-01-05       NaN       NaN       NaN\n",
      "2018-01-06       NaN       NaN       NaN\n",
      "2018-01-07       NaN       NaN       NaN\n",
      "2018-01-08  0.203622 -0.017415  0.594671\n",
      "2018-01-09       NaN       NaN       NaN\n",
      "2018-01-10       NaN       NaN       NaN\n",
      "2018-01-11       NaN       NaN       NaN\n",
      "2018-01-12       NaN       NaN       NaN\n",
      "2018-01-13       NaN       NaN       NaN\n",
      "2018-01-14       NaN       NaN       NaN\n",
      "2018-01-15  1.251393 -0.108620 -0.465289\n",
      "2018-01-16       NaN       NaN       NaN\n",
      "2018-01-17       NaN       NaN       NaN\n",
      "2018-01-18       NaN       NaN       NaN\n",
      "2018-01-19       NaN       NaN       NaN\n",
      "2018-01-20       NaN       NaN       NaN\n",
      "2018-01-21       NaN       NaN       NaN\n",
      "2018-01-22 -0.190729 -1.364710  1.700750\n",
      "2018-01-23       NaN       NaN       NaN\n",
      "2018-01-24       NaN       NaN       NaN\n",
      "2018-01-25       NaN       NaN       NaN\n",
      "2018-01-26       NaN       NaN       NaN\n",
      "2018-01-27       NaN       NaN       NaN\n",
      "2018-01-28       NaN       NaN       NaN\n",
      "2018-01-29  0.254331  0.255666  0.210320\n"
     ]
    }
   ],
   "source": [
    "# 直接重采样会产生空值\n",
    "print(df.resample('D').asfreq())"
   ]
  },
  {
   "cell_type": "code",
   "execution_count": 28,
   "metadata": {},
   "outputs": [
    {
     "name": "stdout",
     "output_type": "stream",
     "text": [
      "                  S1        S2        S3\n",
      "2018-01-01  0.422765  0.113958 -0.067549\n",
      "2018-01-02  0.422765  0.113958 -0.067549\n",
      "2018-01-03  0.422765  0.113958 -0.067549\n",
      "2018-01-04       NaN       NaN       NaN\n",
      "2018-01-05       NaN       NaN       NaN\n",
      "2018-01-06       NaN       NaN       NaN\n",
      "2018-01-07       NaN       NaN       NaN\n",
      "2018-01-08  0.203622 -0.017415  0.594671\n",
      "2018-01-09  0.203622 -0.017415  0.594671\n",
      "2018-01-10  0.203622 -0.017415  0.594671\n",
      "2018-01-11       NaN       NaN       NaN\n",
      "2018-01-12       NaN       NaN       NaN\n",
      "2018-01-13       NaN       NaN       NaN\n",
      "2018-01-14       NaN       NaN       NaN\n",
      "2018-01-15  1.251393 -0.108620 -0.465289\n",
      "2018-01-16  1.251393 -0.108620 -0.465289\n",
      "2018-01-17  1.251393 -0.108620 -0.465289\n",
      "2018-01-18       NaN       NaN       NaN\n",
      "2018-01-19       NaN       NaN       NaN\n",
      "2018-01-20       NaN       NaN       NaN\n",
      "2018-01-21       NaN       NaN       NaN\n",
      "2018-01-22 -0.190729 -1.364710  1.700750\n",
      "2018-01-23 -0.190729 -1.364710  1.700750\n",
      "2018-01-24 -0.190729 -1.364710  1.700750\n",
      "2018-01-25       NaN       NaN       NaN\n",
      "2018-01-26       NaN       NaN       NaN\n",
      "2018-01-27       NaN       NaN       NaN\n",
      "2018-01-28       NaN       NaN       NaN\n",
      "2018-01-29  0.254331  0.255666  0.210320\n"
     ]
    }
   ],
   "source": [
    "#ffill\n",
    "print(df.resample('D').ffill(2))"
   ]
  },
  {
   "cell_type": "code",
   "execution_count": 29,
   "metadata": {},
   "outputs": [
    {
     "name": "stdout",
     "output_type": "stream",
     "text": [
      "                  S1        S2        S3\n",
      "2018-01-01  0.422765  0.113958 -0.067549\n",
      "2018-01-02  0.203622 -0.017415  0.594671\n",
      "2018-01-03  0.203622 -0.017415  0.594671\n",
      "2018-01-04  0.203622 -0.017415  0.594671\n",
      "2018-01-05  0.203622 -0.017415  0.594671\n",
      "2018-01-06  0.203622 -0.017415  0.594671\n",
      "2018-01-07  0.203622 -0.017415  0.594671\n",
      "2018-01-08  0.203622 -0.017415  0.594671\n",
      "2018-01-09  1.251393 -0.108620 -0.465289\n",
      "2018-01-10  1.251393 -0.108620 -0.465289\n",
      "2018-01-11  1.251393 -0.108620 -0.465289\n",
      "2018-01-12  1.251393 -0.108620 -0.465289\n",
      "2018-01-13  1.251393 -0.108620 -0.465289\n",
      "2018-01-14  1.251393 -0.108620 -0.465289\n",
      "2018-01-15  1.251393 -0.108620 -0.465289\n",
      "2018-01-16 -0.190729 -1.364710  1.700750\n",
      "2018-01-17 -0.190729 -1.364710  1.700750\n",
      "2018-01-18 -0.190729 -1.364710  1.700750\n",
      "2018-01-19 -0.190729 -1.364710  1.700750\n",
      "2018-01-20 -0.190729 -1.364710  1.700750\n",
      "2018-01-21 -0.190729 -1.364710  1.700750\n",
      "2018-01-22 -0.190729 -1.364710  1.700750\n",
      "2018-01-23  0.254331  0.255666  0.210320\n",
      "2018-01-24  0.254331  0.255666  0.210320\n",
      "2018-01-25  0.254331  0.255666  0.210320\n",
      "2018-01-26  0.254331  0.255666  0.210320\n",
      "2018-01-27  0.254331  0.255666  0.210320\n",
      "2018-01-28  0.254331  0.255666  0.210320\n",
      "2018-01-29  0.254331  0.255666  0.210320\n"
     ]
    }
   ],
   "source": [
    "print(df.resample('D').bfill())"
   ]
  },
  {
   "cell_type": "code",
   "execution_count": 30,
   "metadata": {},
   "outputs": [
    {
     "name": "stdout",
     "output_type": "stream",
     "text": [
      "                  S1        S2        S3\n",
      "2018-01-01  0.422765  0.113958 -0.067549\n",
      "2018-01-02  0.422765  0.113958 -0.067549\n",
      "2018-01-03  0.422765  0.113958 -0.067549\n",
      "2018-01-04  0.422765  0.113958 -0.067549\n",
      "2018-01-05  0.422765  0.113958 -0.067549\n",
      "2018-01-06  0.422765  0.113958 -0.067549\n",
      "2018-01-07  0.422765  0.113958 -0.067549\n",
      "2018-01-08  0.203622 -0.017415  0.594671\n",
      "2018-01-09  0.203622 -0.017415  0.594671\n",
      "2018-01-10  0.203622 -0.017415  0.594671\n",
      "2018-01-11  0.203622 -0.017415  0.594671\n",
      "2018-01-12  0.203622 -0.017415  0.594671\n",
      "2018-01-13  0.203622 -0.017415  0.594671\n",
      "2018-01-14  0.203622 -0.017415  0.594671\n",
      "2018-01-15  1.251393 -0.108620 -0.465289\n",
      "2018-01-16  1.251393 -0.108620 -0.465289\n",
      "2018-01-17  1.251393 -0.108620 -0.465289\n",
      "2018-01-18  1.251393 -0.108620 -0.465289\n",
      "2018-01-19  1.251393 -0.108620 -0.465289\n",
      "2018-01-20  1.251393 -0.108620 -0.465289\n",
      "2018-01-21  1.251393 -0.108620 -0.465289\n",
      "2018-01-22 -0.190729 -1.364710  1.700750\n",
      "2018-01-23 -0.190729 -1.364710  1.700750\n",
      "2018-01-24 -0.190729 -1.364710  1.700750\n",
      "2018-01-25 -0.190729 -1.364710  1.700750\n",
      "2018-01-26 -0.190729 -1.364710  1.700750\n",
      "2018-01-27 -0.190729 -1.364710  1.700750\n",
      "2018-01-28 -0.190729 -1.364710  1.700750\n",
      "2018-01-29  0.254331  0.255666  0.210320\n"
     ]
    }
   ],
   "source": [
    "print(df.resample('D').fillna('ffill'))"
   ]
  },
  {
   "cell_type": "code",
   "execution_count": 31,
   "metadata": {},
   "outputs": [
    {
     "name": "stdout",
     "output_type": "stream",
     "text": [
      "                  S1        S2        S3\n",
      "2018-01-01  0.422765  0.113958 -0.067549\n",
      "2018-01-02  0.391459  0.095191  0.027054\n",
      "2018-01-03  0.360153  0.076423  0.121656\n",
      "2018-01-04  0.328846  0.057656  0.216259\n",
      "2018-01-05  0.297540  0.038888  0.310862\n",
      "2018-01-06  0.266234  0.020120  0.405465\n",
      "2018-01-07  0.234928  0.001353  0.500068\n",
      "2018-01-08  0.203622 -0.017415  0.594671\n",
      "2018-01-09  0.353303 -0.030444  0.443248\n",
      "2018-01-10  0.502985 -0.043474  0.291825\n",
      "2018-01-11  0.652666 -0.056503  0.140402\n",
      "2018-01-12  0.802348 -0.069532 -0.011021\n",
      "2018-01-13  0.952029 -0.082562 -0.162443\n",
      "2018-01-14  1.101711 -0.095591 -0.313866\n",
      "2018-01-15  1.251393 -0.108620 -0.465289\n",
      "2018-01-16  1.045375 -0.288062 -0.155855\n",
      "2018-01-17  0.839358 -0.467503  0.153580\n",
      "2018-01-18  0.633341 -0.646945  0.463014\n",
      "2018-01-19  0.427323 -0.826386  0.772448\n",
      "2018-01-20  0.221306 -1.005827  1.081882\n",
      "2018-01-21  0.015288 -1.185269  1.391316\n",
      "2018-01-22 -0.190729 -1.364710  1.700750\n",
      "2018-01-23 -0.127149 -1.133228  1.487832\n",
      "2018-01-24 -0.063569 -0.901746  1.274913\n",
      "2018-01-25  0.000011 -0.670263  1.061994\n",
      "2018-01-26  0.063591 -0.438781  0.849076\n",
      "2018-01-27  0.127171 -0.207299  0.636157\n",
      "2018-01-28  0.190751  0.024184  0.423238\n",
      "2018-01-29  0.254331  0.255666  0.210320\n"
     ]
    }
   ],
   "source": [
    "print(df.resample('D').interpolate('linear'))"
   ]
  },
  {
   "cell_type": "markdown",
   "metadata": {},
   "source": [
    "# 时间序列数据统计—滑动窗口"
   ]
  },
  {
   "cell_type": "markdown",
   "metadata": {},
   "source": [
    "## 窗口函数"
   ]
  },
  {
   "cell_type": "code",
   "execution_count": 32,
   "metadata": {},
   "outputs": [
    {
     "name": "stdout",
     "output_type": "stream",
     "text": [
      "2018-01-01    0.532277\n",
      "2018-01-02    0.893501\n",
      "2018-01-03    0.349684\n",
      "2018-01-04   -1.566799\n",
      "2018-01-05   -1.581796\n",
      "Freq: D, dtype: float64\n"
     ]
    }
   ],
   "source": [
    "import pandas as pd\n",
    "import numpy as np\n",
    "\n",
    "ser_obj = pd.Series(np.random.randn(1000), \n",
    "                    index=pd.date_range('20180101', periods=1000))\n",
    "ser_obj = ser_obj.cumsum()\n",
    "print(ser_obj.head())"
   ]
  },
  {
   "cell_type": "code",
   "execution_count": 33,
   "metadata": {},
   "outputs": [
    {
     "name": "stdout",
     "output_type": "stream",
     "text": [
      "Rolling [window=5,center=False,axis=0]\n"
     ]
    }
   ],
   "source": [
    "r_obj = ser_obj.rolling(window=5)\n",
    "r_obj2 = ser_obj.rolling(window=5, center=True)\n",
    "print(r_obj)"
   ]
  },
  {
   "cell_type": "code",
   "execution_count": 34,
   "metadata": {},
   "outputs": [
    {
     "name": "stdout",
     "output_type": "stream",
     "text": [
      "2018-01-01         NaN\n",
      "2018-01-02         NaN\n",
      "2018-01-03   -0.274626\n",
      "2018-01-04   -0.248965\n",
      "2018-01-05   -0.150529\n",
      "2018-01-06    0.321156\n",
      "2018-01-07    1.289737\n",
      "2018-01-08    2.144434\n",
      "2018-01-09    2.406577\n",
      "2018-01-10    2.524915\n",
      "2018-01-11    2.485209\n",
      "2018-01-12    2.274912\n",
      "2018-01-13    2.437988\n",
      "2018-01-14    2.608472\n",
      "2018-01-15    2.870392\n",
      "2018-01-16    3.310893\n",
      "2018-01-17    4.055482\n",
      "2018-01-18    4.770525\n",
      "2018-01-19    5.567159\n",
      "2018-01-20    6.646310\n",
      "2018-01-21    7.224212\n",
      "2018-01-22    7.458268\n",
      "2018-01-23    7.844896\n",
      "2018-01-24    8.117104\n",
      "2018-01-25    8.320999\n",
      "2018-01-26    8.628552\n",
      "2018-01-27    9.000261\n",
      "2018-01-28    9.036452\n",
      "2018-01-29    9.376567\n",
      "2018-01-30    9.330237\n",
      "                ...   \n",
      "2020-08-28    0.353437\n",
      "2020-08-29   -0.391940\n",
      "2020-08-30   -0.765786\n",
      "2020-08-31   -1.573315\n",
      "2020-09-01   -2.412482\n",
      "2020-09-02   -2.921279\n",
      "2020-09-03   -3.101724\n",
      "2020-09-04   -3.631070\n",
      "2020-09-05   -3.757219\n",
      "2020-09-06   -3.829795\n",
      "2020-09-07   -3.915091\n",
      "2020-09-08   -3.653047\n",
      "2020-09-09   -3.272721\n",
      "2020-09-10   -2.734959\n",
      "2020-09-11   -1.963047\n",
      "2020-09-12   -1.692946\n",
      "2020-09-13   -1.694486\n",
      "2020-09-14   -1.568654\n",
      "2020-09-15   -1.866748\n",
      "2020-09-16   -2.361686\n",
      "2020-09-17   -2.424635\n",
      "2020-09-18   -2.476431\n",
      "2020-09-19   -2.677977\n",
      "2020-09-20   -2.483595\n",
      "2020-09-21   -2.279684\n",
      "2020-09-22   -2.197750\n",
      "2020-09-23   -2.083796\n",
      "2020-09-24   -1.944372\n",
      "2020-09-25         NaN\n",
      "2020-09-26         NaN\n",
      "Freq: D, Length: 1000, dtype: float64\n"
     ]
    }
   ],
   "source": [
    "print(r_obj2.mean())\n",
    "\n",
    "# 验证：\n",
    "# 前5个数据的均值\n",
    "# print(ser_obj[0:5].mean())\n",
    "\n",
    "# 1-6个数据的均值\n",
    "# print(ser_obj[1:6].mean())"
   ]
  },
  {
   "cell_type": "code",
   "execution_count": 35,
   "metadata": {},
   "outputs": [
    {
     "name": "stdout",
     "output_type": "stream",
     "text": [
      "2018-01-01         NaN\n",
      "2018-01-02         NaN\n",
      "2018-01-03   -0.274626\n",
      "2018-01-04   -0.248965\n",
      "2018-01-05   -0.150529\n",
      "2018-01-06    0.321156\n",
      "2018-01-07    1.289737\n",
      "2018-01-08    2.144434\n",
      "2018-01-09    2.406577\n",
      "2018-01-10    2.524915\n",
      "2018-01-11    2.485209\n",
      "2018-01-12    2.274912\n",
      "2018-01-13    2.437988\n",
      "2018-01-14    2.608472\n",
      "2018-01-15    2.870392\n",
      "2018-01-16    3.310893\n",
      "2018-01-17    4.055482\n",
      "2018-01-18    4.770525\n",
      "2018-01-19    5.567159\n",
      "2018-01-20    6.646310\n",
      "2018-01-21    7.224212\n",
      "2018-01-22    7.458268\n",
      "2018-01-23    7.844896\n",
      "2018-01-24    8.117104\n",
      "2018-01-25    8.320999\n",
      "2018-01-26    8.628552\n",
      "2018-01-27    9.000261\n",
      "2018-01-28    9.036452\n",
      "2018-01-29    9.376567\n",
      "2018-01-30    9.330237\n",
      "                ...   \n",
      "2020-08-28    0.353437\n",
      "2020-08-29   -0.391940\n",
      "2020-08-30   -0.765786\n",
      "2020-08-31   -1.573315\n",
      "2020-09-01   -2.412482\n",
      "2020-09-02   -2.921279\n",
      "2020-09-03   -3.101724\n",
      "2020-09-04   -3.631070\n",
      "2020-09-05   -3.757219\n",
      "2020-09-06   -3.829795\n",
      "2020-09-07   -3.915091\n",
      "2020-09-08   -3.653047\n",
      "2020-09-09   -3.272721\n",
      "2020-09-10   -2.734959\n",
      "2020-09-11   -1.963047\n",
      "2020-09-12   -1.692946\n",
      "2020-09-13   -1.694486\n",
      "2020-09-14   -1.568654\n",
      "2020-09-15   -1.866748\n",
      "2020-09-16   -2.361686\n",
      "2020-09-17   -2.424635\n",
      "2020-09-18   -2.476431\n",
      "2020-09-19   -2.677977\n",
      "2020-09-20   -2.483595\n",
      "2020-09-21   -2.279684\n",
      "2020-09-22   -2.197750\n",
      "2020-09-23   -2.083796\n",
      "2020-09-24   -1.944372\n",
      "2020-09-25         NaN\n",
      "2020-09-26         NaN\n",
      "Freq: D, Length: 1000, dtype: float64\n"
     ]
    }
   ],
   "source": [
    "print(r_obj2.mean())"
   ]
  },
  {
   "cell_type": "code",
   "execution_count": 36,
   "metadata": {},
   "outputs": [
    {
     "data": {
      "text/plain": [
       "<matplotlib.axes._subplots.AxesSubplot at 0x2a859f04898>"
      ]
     },
     "execution_count": 36,
     "metadata": {},
     "output_type": "execute_result"
    },
    {
     "data": {
      "image/png": "[encoded data removed]",
      "text/plain": [
       "<Figure size 1080x360 with 1 Axes>"
      ]
     },
     "metadata": {},
     "output_type": "display_data"
    }
   ],
   "source": [
    "# 画图查看\n",
    "import matplotlib.pyplot as plt\n",
    "%matplotlib inline\n",
    "\n",
    "plt.figure(figsize=(15, 5))\n",
    "\n",
    "ser_obj.plot(style='r--')\n",
    "ser_obj.rolling(window=10, center=False).mean().plot(style='g')\n",
    "ser_obj.rolling(window=10, center=True).mean().plot(style='b')"
   ]
  },
  {
   "cell_type": "code",
   "execution_count": null,
   "metadata": {},
   "outputs": [],
   "source": []
  }
 ],
 "metadata": {
  "anaconda-cloud": {},
  "kernelspec": {
   "display_name": "Python 3",
   "language": "python",
   "name": "python3"
  },
  "language_info": {
   "codemirror_mode": {
    "name": "ipython",
    "version": 3
   },
   "file_extension": ".py",
   "mimetype": "text/x-python",
   "name": "python",
   "nbconvert_exporter": "python",
   "pygments_lexer": "ipython3",
   "version": "3.6.5"
  }
 },
 "nbformat": 4,
 "nbformat_minor": 1
}
