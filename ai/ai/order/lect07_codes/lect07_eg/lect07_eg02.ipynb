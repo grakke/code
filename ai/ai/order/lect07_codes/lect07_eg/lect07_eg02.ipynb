{
 "cells": [
  {
   "cell_type": "markdown",
   "metadata": {},
   "source": [
    "# 文本预处理"
   ]
  },
  {
   "cell_type": "markdown",
   "metadata": {},
   "source": [
    "## 1. NLTK基本操作"
   ]
  },
  {
   "cell_type": "code",
   "execution_count": null,
   "metadata": {},
   "outputs": [],
   "source": [
    "import nltk\n",
    "\n",
    "nltk.download()"
   ]
  },
  {
   "cell_type": "code",
   "execution_count": null,
   "metadata": {},
   "outputs": [],
   "source": [
    "import nltk\n",
    "from nltk.corpus import brown # 需要下载brown语料库\n",
    "# 引用布朗大学的语料库"
   ]
  },
  {
   "cell_type": "code",
   "execution_count": null,
   "metadata": {},
   "outputs": [],
   "source": [
    "# 查看语料库包含的类别\n",
    "print(brown.categories())"
   ]
  },
  {
   "cell_type": "code",
   "execution_count": 4,
   "metadata": {},
   "outputs": [
    {
     "name": "stdout",
     "output_type": "stream",
     "text": [
      "共有1161192个单词\n"
     ]
    }
   ],
   "source": [
    "# 查看brown语料库\n",
    "print('共有{}个句子'.format(len(brown.sents())))\n",
    "print('共有{}个单词'.format(len(brown.words())))"
   ]
  },
  {
   "cell_type": "code",
   "execution_count": 5,
   "metadata": {},
   "outputs": [
    {
     "data": {
      "text/plain": [
       "['The',\n",
       " 'Fulton',\n",
       " 'County',\n",
       " 'Grand',\n",
       " 'Jury',\n",
       " 'said',\n",
       " 'Friday',\n",
       " 'an',\n",
       " 'investigation',\n",
       " 'of']"
      ]
     },
     "execution_count": 5,
     "metadata": {},
     "output_type": "execute_result"
    }
   ],
   "source": [
    "brown.words()[:10]"
   ]
  },
  {
   "cell_type": "code",
   "execution_count": 6,
   "metadata": {},
   "outputs": [],
   "source": [
    "# 词频统计\n",
    "from nltk import FreqDist\n",
    "dist = FreqDist(brown.words())"
   ]
  },
  {
   "cell_type": "code",
   "execution_count": 7,
   "metadata": {},
   "outputs": [
    {
     "data": {
      "text/plain": [
       "FreqDist({'the': 62713, ',': 58334, '.': 49346, 'of': 36080, 'and': 27915, 'to': 25732, 'a': 21881, 'in': 19536, 'that': 10237, 'is': 10011, ...})"
      ]
     },
     "execution_count": 7,
     "metadata": {},
     "output_type": "execute_result"
    }
   ],
   "source": [
    "dist"
   ]
  },
  {
   "cell_type": "code",
   "execution_count": 8,
   "metadata": {},
   "outputs": [
    {
     "name": "stdout",
     "output_type": "stream",
     "text": [
      "非重复单词个数： 56057\n",
      "前10个单词： ['The', 'Fulton', 'County', 'Grand', 'Jury', 'said', 'Friday', 'an', 'investigation', 'of']\n",
      "the出现的个数： 62713\n"
     ]
    }
   ],
   "source": [
    "print('非重复单词个数：', len(dist))\n",
    "print('前10个单词：', list(dist.keys())[:10])\n",
    "print('the出现的个数：', dist['the'])"
   ]
  },
  {
   "cell_type": "code",
   "execution_count": 9,
   "metadata": {},
   "outputs": [],
   "source": [
    "# 找出长度大于5，且出现次数大于500的单词\n",
    "freq_words = [w for w in dist.keys() if len(w) > 5 and dist[w] > 500]"
   ]
  },
  {
   "cell_type": "code",
   "execution_count": 10,
   "metadata": {},
   "outputs": [
    {
     "data": {
      "text/plain": [
       "['should',\n",
       " 'through',\n",
       " 'before',\n",
       " 'against',\n",
       " 'himself',\n",
       " 'little',\n",
       " 'because',\n",
       " 'between',\n",
       " 'people',\n",
       " 'American',\n",
       " 'another',\n",
       " 'without',\n",
       " 'around',\n",
       " 'thought']"
      ]
     },
     "execution_count": 10,
     "metadata": {},
     "output_type": "execute_result"
    }
   ],
   "source": [
    "freq_words"
   ]
  },
  {
   "cell_type": "markdown",
   "metadata": {},
   "source": [
    "## 2. 分词"
   ]
  },
  {
   "cell_type": "markdown",
   "metadata": {},
   "source": [
    "### 2.1 NLTK英文分词"
   ]
  },
  {
   "cell_type": "code",
   "execution_count": 11,
   "metadata": {},
   "outputs": [
    {
     "name": "stdout",
     "output_type": "stream",
     "text": [
      "['Python', 'is', 'a', 'widely', 'used', 'high-level', 'programming', 'language', 'for', 'general-purpose', 'programming', '.']\n"
     ]
    }
   ],
   "source": [
    "sentence = \"Python is a widely used high-level programming language for general-purpose programming.\"\n",
    "tokens = nltk.word_tokenize(sentence) # 需要下载punkt分词模型\n",
    "print(tokens)"
   ]
  },
  {
   "cell_type": "markdown",
   "metadata": {},
   "source": [
    "### 2.2 分句"
   ]
  },
  {
   "cell_type": "code",
   "execution_count": 12,
   "metadata": {},
   "outputs": [],
   "source": [
    "texts = 'Python is a widely used high-level programming language for general-purpose programming, created by Guido van Rossum and first released in 1991. An interpreted language, Python has a design philosophy that emphasizes code readability (notably using whitespace indentation to delimit code blocks rather than curly brackets or keywords), and a syntax that allows programmers to express concepts in fewer lines of code than might be used in languages such as C++ or Java.[23][24] The language provides constructs intended to enable writing clear programs on both a small and large scale.'\n",
    "sentences = nltk.sent_tokenize(texts)"
   ]
  },
  {
   "cell_type": "code",
   "execution_count": 13,
   "metadata": {},
   "outputs": [
    {
     "data": {
      "text/plain": [
       "3"
      ]
     },
     "execution_count": 13,
     "metadata": {},
     "output_type": "execute_result"
    }
   ],
   "source": [
    "len(sentences)"
   ]
  },
  {
   "cell_type": "code",
   "execution_count": 14,
   "metadata": {},
   "outputs": [
    {
     "data": {
      "text/plain": [
       "['Python is a widely used high-level programming language for general-purpose programming, created by Guido van Rossum and first released in 1991.',\n",
       " 'An interpreted language, Python has a design philosophy that emphasizes code readability (notably using whitespace indentation to delimit code blocks rather than curly brackets or keywords), and a syntax that allows programmers to express concepts in fewer lines of code than might be used in languages such as C++ or Java.',\n",
       " '[23][24] The language provides constructs intended to enable writing clear programs on both a small and large scale.']"
      ]
     },
     "execution_count": 14,
     "metadata": {},
     "output_type": "execute_result"
    }
   ],
   "source": [
    "sentences"
   ]
  },
  {
   "cell_type": "markdown",
   "metadata": {},
   "source": [
    "## 3. 词形归一化"
   ]
  },
  {
   "cell_type": "markdown",
   "metadata": {},
   "source": [
    "### 3.1 词干提取(stemming)"
   ]
  },
  {
   "cell_type": "code",
   "execution_count": 16,
   "metadata": {},
   "outputs": [
    {
     "name": "stdout",
     "output_type": "stream",
     "text": [
      "look\n",
      "went\n"
     ]
    }
   ],
   "source": [
    "# PorterStemmer\n",
    "from nltk.stem.porter import PorterStemmer\n",
    "\n",
    "porter_stemmer = PorterStemmer()\n",
    "print(porter_stemmer.stem('looked'))\n",
    "print(porter_stemmer.stem('went'))"
   ]
  },
  {
   "cell_type": "code",
   "execution_count": 17,
   "metadata": {},
   "outputs": [
    {
     "data": {
      "text/plain": [
       "['list', 'list', 'list', 'list', 'list']"
      ]
     },
     "execution_count": 17,
     "metadata": {},
     "output_type": "execute_result"
    }
   ],
   "source": [
    "input1 = 'List listed lists listing listings'\n",
    "words1 = input1.lower().split(' ')\n",
    "[porter_stemmer.stem(w) for w in words1]"
   ]
  },
  {
   "cell_type": "code",
   "execution_count": 18,
   "metadata": {},
   "outputs": [
    {
     "name": "stdout",
     "output_type": "stream",
     "text": [
      "look\n",
      "look\n"
     ]
    }
   ],
   "source": [
    "# SnowballStemmer\n",
    "from nltk.stem import SnowballStemmer\n",
    "\n",
    "snowball_stemmer = SnowballStemmer('english')\n",
    "print(snowball_stemmer.stem('looked'))\n",
    "print(snowball_stemmer.stem('looking'))"
   ]
  },
  {
   "cell_type": "code",
   "execution_count": 19,
   "metadata": {},
   "outputs": [
    {
     "name": "stdout",
     "output_type": "stream",
     "text": [
      "look\n",
      "look\n"
     ]
    }
   ],
   "source": [
    "# LancasterStemmer\n",
    "from nltk.stem.lancaster import LancasterStemmer\n",
    "\n",
    "lancaster_stemmer = LancasterStemmer()\n",
    "print(lancaster_stemmer.stem('looked'))\n",
    "print(lancaster_stemmer.stem('looking'))"
   ]
  },
  {
   "cell_type": "markdown",
   "metadata": {},
   "source": [
    "### 3.2 词形归并(lemmatization)"
   ]
  },
  {
   "cell_type": "code",
   "execution_count": 20,
   "metadata": {},
   "outputs": [
    {
     "name": "stdout",
     "output_type": "stream",
     "text": [
      "cat\n",
      "box\n",
      "are\n",
      "went\n"
     ]
    }
   ],
   "source": [
    "from nltk.stem import WordNetLemmatizer # 需要下载wordnet语料库\n",
    "\n",
    "wordnet_lematizer = WordNetLemmatizer()\n",
    "print(wordnet_lematizer.lemmatize('cats'))\n",
    "print(wordnet_lematizer.lemmatize('boxes'))\n",
    "print(wordnet_lematizer.lemmatize('are'))\n",
    "print(wordnet_lematizer.lemmatize('went'))"
   ]
  },
  {
   "cell_type": "code",
   "execution_count": 21,
   "metadata": {},
   "outputs": [
    {
     "name": "stdout",
     "output_type": "stream",
     "text": [
      "be\n",
      "go\n"
     ]
    }
   ],
   "source": [
    "# 指明词性可以更准确地进行lemma\n",
    "# lemmatize 默认为名词\n",
    "print(wordnet_lematizer.lemmatize('are', pos='v'))\n",
    "print(wordnet_lematizer.lemmatize('went', pos='v'))"
   ]
  },
  {
   "cell_type": "markdown",
   "metadata": {},
   "source": [
    "## 4. 词性标注 (Part-Of-Speech)"
   ]
  },
  {
   "cell_type": "code",
   "execution_count": 22,
   "metadata": {},
   "outputs": [
    {
     "name": "stdout",
     "output_type": "stream",
     "text": [
      "[('Python', 'NNP'), ('is', 'VBZ'), ('a', 'DT'), ('widely', 'RB'), ('used', 'VBN'), ('programming', 'NN'), ('language', 'NN'), ('.', '.')]\n"
     ]
    }
   ],
   "source": [
    "import nltk\n",
    "\n",
    "words = nltk.word_tokenize('Python is a widely used programming language.')\n",
    "#print(words)\n",
    "print(nltk.pos_tag(words)) # 需要下载 averaged_perceptron_tagger"
   ]
  },
  {
   "cell_type": "markdown",
   "metadata": {},
   "source": [
    "## 5. 去除停用词"
   ]
  },
  {
   "cell_type": "code",
   "execution_count": 23,
   "metadata": {},
   "outputs": [
    {
     "name": "stdout",
     "output_type": "stream",
     "text": [
      "原始词： ['Python', 'is', 'a', 'widely', 'used', 'programming', 'language', '.']\n",
      "去除停用词后： ['Python', 'widely', 'used', 'programming', 'language', '.']\n"
     ]
    }
   ],
   "source": [
    "from nltk.corpus import stopwords # 需要下载stopwords\n",
    "\n",
    "filtered_words = [word for word in words if word not in stopwords.words('english')]\n",
    "print('原始词：', words)\n",
    "print('去除停用词后：', filtered_words)"
   ]
  },
  {
   "cell_type": "markdown",
   "metadata": {},
   "source": [
    "## 6. 典型的文本预处理流程"
   ]
  },
  {
   "cell_type": "code",
   "execution_count": 24,
   "metadata": {},
   "outputs": [
    {
     "name": "stdout",
     "output_type": "stream",
     "text": [
      "原始文本： Life is like a box of chocolates. You never know what you're gonna get.\n",
      "预处理结果： ['Life', 'like', 'box', 'chocolate', '.', 'You', 'never', 'know', \"'re\", 'gon', 'na', 'get', '.']\n"
     ]
    }
   ],
   "source": [
    "import nltk\n",
    "from nltk.stem import WordNetLemmatizer\n",
    "from nltk.corpus import stopwords\n",
    "\n",
    "# 原始文本\n",
    "raw_text = 'Life is like a box of chocolates. You never know what you\\'re gonna get.'\n",
    "\n",
    "# 分词\n",
    "raw_words = nltk.word_tokenize(raw_text)\n",
    "\n",
    "# 词形归一化\n",
    "wordnet_lematizer = WordNetLemmatizer()\n",
    "words = [wordnet_lematizer.lemmatize(raw_word) for raw_word in raw_words]\n",
    "\n",
    "# 去除停用词\n",
    "filtered_words = [word for word in words if word not in stopwords.words('english')]\n",
    "\n",
    "print('原始文本：', raw_text)\n",
    "print('预处理结果：', filtered_words)"
   ]
  },
  {
   "cell_type": "code",
   "execution_count": null,
   "metadata": {},
   "outputs": [],
   "source": []
  }
 ],
 "metadata": {
  "anaconda-cloud": {},
  "kernelspec": {
   "display_name": "Python 3",
   "language": "python",
   "name": "python3"
  },
  "language_info": {
   "codemirror_mode": {
    "name": "ipython",
    "version": 3
   },
   "file_extension": ".py",
   "mimetype": "text/x-python",
   "name": "python",
   "nbconvert_exporter": "python",
   "pygments_lexer": "ipython3",
   "version": "3.6.5"
  }
 },
 "nbformat": 4,
 "nbformat_minor": 1
}
