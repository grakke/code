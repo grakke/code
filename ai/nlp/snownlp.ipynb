{
 "cells": [
  {
   "cell_type": "code",
   "execution_count": 9,
   "metadata": {},
   "outputs": [
    {
     "data": {
      "text/plain": [
       "['zhe', 'ge', 'dong', 'xi', 'zhen', 'xin', 'hen', 'zan']"
      ]
     },
     "execution_count": 9,
     "metadata": {},
     "output_type": "execute_result"
    }
   ],
   "source": [
    "from snownlp import SnowNLP\n",
    "\n",
    "s = SnowNLP(u'这个东西真心很赞')\n",
    "s.words         # [u'这个', u'东西', u'真心',\n",
    "                #  u'很', u'赞']\n",
    "\n",
    "\n",
    "\n"
   ]
  },
  {
   "cell_type": "code",
   "execution_count": null,
   "metadata": {
    "collapsed": true
   },
   "outputs": [],
   "source": []
  },
  {
   "cell_type": "code",
   "execution_count": 10,
   "metadata": {},
   "outputs": [
    {
     "data": {
      "text/plain": [
       "<zip at 0x10e5b96c8>"
      ]
     },
     "execution_count": 10,
     "metadata": {},
     "output_type": "execute_result"
    }
   ],
   "source": [
    "s.tags          # [(u'这个', u'r'), (u'东西', u'n'),\n",
    "                #  (u'真心', u'd'), (u'很', u'd'),\n",
    "                #  (u'赞', u'Vg')]\n"
   ]
  },
  {
   "cell_type": "code",
   "execution_count": 11,
   "metadata": {},
   "outputs": [
    {
     "data": {
      "text/plain": [
       "0.9769551298267365"
      ]
     },
     "execution_count": 11,
     "metadata": {},
     "output_type": "execute_result"
    }
   ],
   "source": [
    "s.sentiments    # 0.9769663402895832 positive的概率\n"
   ]
  },
  {
   "cell_type": "code",
   "execution_count": 12,
   "metadata": {},
   "outputs": [
    {
     "data": {
      "text/plain": [
       "['zhe', 'ge', 'dong', 'xi', 'zhen', 'xin', 'hen', 'zan']"
      ]
     },
     "execution_count": 12,
     "metadata": {},
     "output_type": "execute_result"
    }
   ],
   "source": [
    "\n",
    "s.pinyin        # [u'zhe', u'ge', u'dong', u'xi',\n",
    "                #  u'zhen', u'xin', u'hen', u'zan']"
   ]
  },
  {
   "cell_type": "code",
   "execution_count": 13,
   "metadata": {},
   "outputs": [
    {
     "data": {
      "text/plain": [
       "'「繁体字」「繁体中文」的叫法在台湾亦很常见。'"
      ]
     },
     "execution_count": 13,
     "metadata": {},
     "output_type": "execute_result"
    }
   ],
   "source": [
    "s = SnowNLP(u'「繁體字」「繁體中文」的叫法在臺灣亦很常見。')\n",
    "\n",
    "s.han           # u'「繁体字」「繁体中文」的叫法\n",
    "                # 在台湾亦很常见。'\n"
   ]
  },
  {
   "cell_type": "code",
   "execution_count": 5,
   "metadata": {},
   "outputs": [
    {
     "data": {
      "text/plain": [
       "['自然语言处理是计算机科学领域与人工智能领域中的一个重要方向',\n",
       " '它研究能实现人与计算机之间用自然语言进行有效通信的各种理论和方法',\n",
       " '自然语言处理是一门融语言学、计算机科学、数学于一体的科学',\n",
       " '因此',\n",
       " '这一领域的研究将涉及自然语言',\n",
       " '即人们日常使用的语言',\n",
       " '所以它与语言学的研究有着密切的联系',\n",
       " '但又有重要的区别',\n",
       " '自然语言处理并不是一般地研究自然语言',\n",
       " '而在于研制能有效地实现自然语言通信的计算机系统',\n",
       " '特别是其中的软件系统',\n",
       " '因而它是计算机科学的一部分']"
      ]
     },
     "execution_count": 5,
     "metadata": {},
     "output_type": "execute_result"
    }
   ],
   "source": [
    "\n",
    "text = u'''\n",
    "自然语言处理是计算机科学领域与人工智能领域中的一个重要方向。\n",
    "它研究能实现人与计算机之间用自然语言进行有效通信的各种理论和方法。\n",
    "自然语言处理是一门融语言学、计算机科学、数学于一体的科学。\n",
    "因此，这一领域的研究将涉及自然语言，即人们日常使用的语言，\n",
    "所以它与语言学的研究有着密切的联系，但又有重要的区别。\n",
    "自然语言处理并不是一般地研究自然语言，\n",
    "而在于研制能有效地实现自然语言通信的计算机系统，\n",
    "特别是其中的软件系统。因而它是计算机科学的一部分。\n",
    "'''\n",
    "\n",
    "s = SnowNLP(text)\n",
    "\n",
    "s.keywords(3)\t# [u'语言', u'自然', u'计算机']\n",
    "\n",
    "s.summary(3)\t# [u'因而它是计算机科学的一部分',\n",
    "                #  u'自然语言处理是一门融语言学、计算机科学、\n",
    "\t\t\t\t#\t 数学于一体的科学',\n",
    "\t\t\t\t#  u'自然语言处理是计算机科学领域与人工智能\n",
    "\t\t\t\t#\t 领域中的一个重要方向']\n",
    "s.sentences"
   ]
  },
  {
   "cell_type": "code",
   "execution_count": 7,
   "metadata": {},
   "outputs": [
    {
     "data": {
      "text/plain": [
       "{'文章': 0.5108256237659907,\n",
       " '论文': 0.5108256237659907,\n",
       " '这个': 0.5108256237659907,\n",
       " '这篇': 0.5108256237659907,\n",
       " '那篇': 0.5108256237659907}"
      ]
     },
     "execution_count": 7,
     "metadata": {},
     "output_type": "execute_result"
    }
   ],
   "source": [
    "s = SnowNLP([[u'这篇', u'文章'],\n",
    "             [u'那篇', u'论文'],\n",
    "             [u'这个']])\n",
    "s.tf\n",
    "s.idf\n"
   ]
  },
  {
   "cell_type": "code",
   "execution_count": 8,
   "metadata": {},
   "outputs": [
    {
     "data": {
      "text/plain": [
       "[0.4686473612532025, 0, 0]"
      ]
     },
     "execution_count": 8,
     "metadata": {},
     "output_type": "execute_result"
    }
   ],
   "source": [
    "s.sim([u'文章'])# [0.3756070762985226, 0, 0]"
   ]
  },
  {
   "cell_type": "code",
   "execution_count": null,
   "metadata": {
    "collapsed": true
   },
   "outputs": [],
   "source": []
  }
 ],
 "metadata": {
  "kernelspec": {
   "display_name": "Python 3",
   "language": "python",
   "name": "python3"
  },
  "language_info": {
   "codemirror_mode": {
    "name": "ipython",
    "version": 3
   },
   "file_extension": ".py",
   "mimetype": "text/x-python",
   "name": "python",
   "nbconvert_exporter": "python",
   "pygments_lexer": "ipython3",
   "version": "3.6.8"
  }
 },
 "nbformat": 4,
 "nbformat_minor": 2
}
