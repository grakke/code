{
 "cells": [
  {
   "cell_type": "markdown",
   "metadata": {},
   "source": [
    "# Pandas\n"
   ]
  },
  {
   "cell_type": "code",
   "execution_count": null,
   "metadata": {
    "collapsed": false,
    "pycharm": {
     "name": "#%%\n"
    }
   },
   "outputs": [],
   "source": [
    "import pandas as pd\n",
    "import matplotlib.pyplot as plt\n",
    "import numpy as np\n"
   ]
  },
  {
   "cell_type": "markdown",
   "metadata": {
    "collapsed": false
   },
   "source": [
    "## Series\n",
    "\n",
    "- a one-dimensional array of data\n",
    "- the index an associated sequence of labels called\n",
    "    - The index can contain numeric, string, or date/time values.\n",
    "    - When the index is a time value, the series is a time series.\n",
    "    - The index must be the same length as the data.\n",
    "- If no index is supplied it is automatically generated as range(len(data)).\n"
   ]
  },
  {
   "cell_type": "code",
   "execution_count": null,
   "metadata": {},
   "outputs": [],
   "source": [
    "# 初始化\n",
    "print(pd.Series([1, 2, 3, 4]))\n",
    "\n",
    "d = {'a': 0., 'b': 1., 'c': 2.,}\n",
    "print(pd.Series(d))\n",
    "\n",
    "data = [0.03245675,  0.41263151, -0.27993028, -0.95398035, -0.01473876]\n",
    "my_series = pd.Series(data, index=['a', 'b', 'c', 'd', 'e'])\n",
    "my_series"
   ]
  },
  {
   "cell_type": "code",
   "execution_count": null,
   "metadata": {},
   "outputs": [],
   "source": [
    "my_series.plot()\n",
    "plt.show()\n"
   ]
  },
  {
   "cell_type": "markdown",
   "metadata": {},
   "source": [
    "### 运算"
   ]
  },
  {
   "cell_type": "code",
   "execution_count": null,
   "metadata": {},
   "outputs": [],
   "source": [
    "pd.Series(d) ** 2\n"
   ]
  },
  {
   "cell_type": "code",
   "execution_count": null,
   "metadata": {},
   "outputs": [],
   "source": [
    "x = pd.Series({'a': 0., 'b': 1., 'c': 2.})\n",
    "y = pd.Series({'a': 3., 'b': 4., 'c': 5.})\n",
    "x + y\n"
   ]
  },
  {
   "cell_type": "code",
   "execution_count": null,
   "metadata": {},
   "outputs": [],
   "source": [
    "# time series\n",
    "\n",
    "dates = pd.date_range('1/1/2000', periods=5)\n",
    "print(dates)\n",
    "time_series = pd.Series(data, index=dates)\n",
    "time_series\n"
   ]
  },
  {
   "cell_type": "code",
   "execution_count": null,
   "metadata": {},
   "outputs": [],
   "source": [
    "ax = time_series.plot()\n"
   ]
  },
  {
   "cell_type": "code",
   "execution_count": null,
   "metadata": {
    "pycharm": {
     "name": "#%%\n"
    }
   },
   "outputs": [],
   "source": [
    "weekly_rets = np.diff(np.log(weekly_prices))\n",
    "plt.plot(weekly_rets)\n",
    "plt.xlabel('t')\n",
    "plt.ylabel('$r_t$')\n",
    "plt.title('Weekly log-returns for GOOGL')\n",
    "plt.show()\n"
   ]
  },
  {
   "cell_type": "code",
   "execution_count": null,
   "metadata": {
    "collapsed": false,
    "pycharm": {
     "name": "#%%\n"
    }
   },
   "outputs": [],
   "source": [
    "from pylab import plt, mpl\n",
    "import numpy as np\n",
    "\n",
    "np.random.seed(100)\n",
    "a = np.random.standard_normal((9, 4))\n",
    "df = pd.DataFrame(a)\n",
    "df.columns = ['No1', 'No2', 'No3', 'No4']\n",
    "df.index = pd.date_range('2019-1-1', periods=9, freq='M')\n",
    "\n",
    "\n",
    "plt.style.use('seaborn')\n",
    "mpl.rcParams['font.family'] = 'serif'\n",
    "\n",
    "%matplotlib inline\n",
    "df.cumsum().plot(lw=2.0, figsize=(10, 6))\n",
    "\n",
    "df.plot.bar(figsize=(10, 6), rot=15)\n"
   ]
  },
  {
   "cell_type": "code",
   "execution_count": null,
   "metadata": {
    "collapsed": false,
    "pycharm": {
     "name": "#%%\n"
    }
   },
   "outputs": [],
   "source": [
    "S = pd.Series(np.linspace(0, 15, 7), name='series')\n",
    "\n",
    "df['No1'].plot(lw=2.0, figsize=(10, 6))\n"
   ]
  },
  {
   "cell_type": "code",
   "execution_count": null,
   "metadata": {
    "collapsed": false,
    "pycharm": {
     "name": "#%%\n"
    }
   },
   "outputs": [],
   "source": [
    "df['Quarter'] = ['Q1', 'Q1', 'Q1', 'Q2', 'Q2',\n",
    "                 'Q2', 'Q3', 'Q3', 'Q3']\n",
    "groups = df.groupby('Quarter')\n",
    "groups.aggregate([min, max]).round(2)\n"
   ]
  },
  {
   "cell_type": "code",
   "execution_count": null,
   "metadata": {
    "collapsed": false,
    "pycharm": {
     "name": "#%%\n"
    }
   },
   "outputs": [],
   "source": [
    "df['Odd_Even'] = ['Odd', 'Even', 'Odd', 'Even', 'Odd', 'Even',\n",
    "                  'Odd', 'Even', 'Odd']\n",
    "groups = df.groupby(['Quarter', 'Odd_Even'])\n",
    "groups[['No1', 'No4']].aggregate([sum, np.mean])\n"
   ]
  },
  {
   "cell_type": "code",
   "execution_count": null,
   "metadata": {
    "collapsed": false,
    "pycharm": {
     "name": "#%%\n"
    }
   },
   "outputs": [],
   "source": [
    "ata = np.random.standard_normal((10, 2))\n",
    "df = pd.DataFrame(data, columns=['x', 'y'])\n",
    "(df['x'] > 0) & (df['y'] < 0)\n"
   ]
  },
  {
   "cell_type": "markdown",
   "metadata": {
    "collapsed": false
   },
   "source": [
    "## DataFrame\n",
    "\n",
    "-   A data frame has multiple columns, each of which can hold a different type of value.\n",
    "-   Like a series, it has an index which provides a label for each and every row.\n",
    "-   Data frames can be constructed from:\n",
    "    -   dict of arrays\n",
    "    -   dict of lists\n",
    "    -   dict of dict\n",
    "    -   dict of Series\n",
    "    -   2-dimensional array\n",
    "    -   a single Series\n",
    "    -   another DataFrame\n"
   ]
  },
  {
   "cell_type": "code",
   "execution_count": null,
   "metadata": {},
   "outputs": [],
   "source": [
    "mydict = [{'a': 1, 'b': 2, 'c': 3, 'd': 4},\n",
    "\n",
    "          {'a': 100, 'b': 200, 'c': 300, 'd': 400},\n",
    "\n",
    "          {'a': 1000, 'b': 2000, 'c': 3000, 'd': 4000 }]\n",
    "\n",
    "df = pd.DataFrame(mydict)\n",
    "df"
   ]
  },
  {
   "cell_type": "code",
   "execution_count": null,
   "metadata": {},
   "outputs": [],
   "source": [
    "type(df.iloc[0])\n"
   ]
  },
  {
   "cell_type": "code",
   "execution_count": null,
   "metadata": {},
   "outputs": [],
   "source": [
    "df.iloc[0]"
   ]
  },
  {
   "cell_type": "code",
   "execution_count": null,
   "metadata": {},
   "outputs": [],
   "source": [
    "df.loc[0]"
   ]
  },
  {
   "cell_type": "code",
   "execution_count": null,
   "metadata": {},
   "outputs": [],
   "source": [
    "df.iloc[1:3, 0:3]"
   ]
  },
  {
   "cell_type": "code",
   "execution_count": null,
   "metadata": {},
   "outputs": [],
   "source": [
    "import pandas as pd\n",
    "from pandas import Series, DataFrame\n",
    "data = {'Chinese': [66, 95, 93, 90, 80], 'English': [\n",
    "    65, 85, 92, 88, 90], 'Math': [30, 98, 96, 77, 90]}\n",
    "df1 = DataFrame(data)\n",
    "df2 = DataFrame(data, index=['ZhangFei', 'GuanYu', 'ZhaoYun',\n",
    "                'HuangZhong', 'DianWei'], columns=['English', 'Math', 'Chinese'])\n",
    "print(df1)\n",
    "print(df2)\n"
   ]
  },
  {
   "cell_type": "code",
   "execution_count": null,
   "metadata": {
    "collapsed": false,
    "pycharm": {
     "name": "#%%\n"
    }
   },
   "outputs": [],
   "source": [
    "series_dict = {\n",
    "    'x': pd.Series([1., 2., 3.], index=['a', 'b', 'c']),\n",
    "    'y': pd.Series([4., 5., 6., 7.], index=['a', 'b', 'c', 'd']),\n",
    "    'z': pd.Series([0.1, 0.2, 0.3, 0.4], index=['a', 'b', 'c', 'd'])\n",
    "}\n",
    "print(series_dict)\n",
    "df = pd.DataFrame(series_dict)\n",
    "print(df)\n",
    "print(df.index)\n",
    "print(df.columns)\n",
    "df.plot()\n"
   ]
  },
  {
   "cell_type": "code",
   "execution_count": null,
   "metadata": {
    "collapsed": false,
    "pycharm": {
     "name": "#%%\n"
    }
   },
   "outputs": [],
   "source": [
    "print(df.x.b)\n",
    "print(df['x']['a'])\n",
    "print(df['y'][['b', 'd']])\n",
    "df[['x', 'z']]\n"
   ]
  },
  {
   "cell_type": "code",
   "execution_count": null,
   "metadata": {
    "collapsed": false,
    "pycharm": {
     "name": "#%%\n"
    }
   },
   "outputs": [],
   "source": [
    "df.x + df.y\n"
   ]
  },
  {
   "cell_type": "code",
   "execution_count": null,
   "metadata": {
    "collapsed": false,
    "pycharm": {
     "name": "#%%\n"
    }
   },
   "outputs": [],
   "source": [
    "df['x'] >= 2\n"
   ]
  },
  {
   "cell_type": "code",
   "execution_count": null,
   "metadata": {
    "collapsed": false,
    "pycharm": {
     "name": "#%%\n"
    }
   },
   "outputs": [],
   "source": [
    "df[df['x'] >= 2]\n"
   ]
  },
  {
   "cell_type": "code",
   "execution_count": null,
   "metadata": {
    "collapsed": false,
    "pycharm": {
     "name": "#%%\n"
    }
   },
   "outputs": [],
   "source": [
    "df.describe()\n"
   ]
  },
  {
   "cell_type": "code",
   "execution_count": null,
   "metadata": {
    "collapsed": false,
    "pycharm": {
     "name": "#%%\n"
    }
   },
   "outputs": [],
   "source": [
    "df.describe()['x']['mean']\n"
   ]
  },
  {
   "cell_type": "code",
   "execution_count": null,
   "metadata": {
    "collapsed": false,
    "pycharm": {
     "name": "#%%\n"
    }
   },
   "outputs": [],
   "source": [
    "googl = pd.read_csv('../../languages/python/data/GOOGLE.csv')\n",
    "googl.head()\n",
    "googl.tail()\n",
    "pd.to_datetime(googl['Date'])\n"
   ]
  },
  {
   "cell_type": "code",
   "execution_count": null,
   "metadata": {},
   "outputs": [],
   "source": [
    "# 导入导出\n",
    "import pandas as pd\n",
    "from pandas import Series, DataFrame\n",
    "score = DataFrame(pd.read_excel('data.xlsx'))\n",
    "score.to_excel('data1.xlsx')\n",
    "print(score)\n"
   ]
  },
  {
   "cell_type": "code",
   "execution_count": null,
   "metadata": {
    "collapsed": false,
    "pycharm": {
     "name": "#%%\n"
    }
   },
   "outputs": [],
   "source": [
    "googl.set_index(pd.to_datetime(googl['Date']), inplace=True)\n",
    "googl.index[0]\n"
   ]
  },
  {
   "cell_type": "code",
   "execution_count": null,
   "metadata": {
    "collapsed": false,
    "pycharm": {
     "name": "#%%\n"
    }
   },
   "outputs": [],
   "source": [
    "ax1 = googl['Volume'].plot()\n",
    "plt.show()\n"
   ]
  },
  {
   "cell_type": "code",
   "execution_count": null,
   "metadata": {
    "collapsed": false,
    "pycharm": {
     "name": "#%%\n"
    }
   },
   "outputs": [],
   "source": [
    "googl['Adj Close']['6-6-2019':'11-11-2019'].plot()\n",
    "plt.show()\n"
   ]
  },
  {
   "cell_type": "code",
   "execution_count": null,
   "metadata": {
    "collapsed": false,
    "pycharm": {
     "name": "#%%\n"
    }
   },
   "outputs": [],
   "source": [
    "weekly_prices.plot()\n",
    "plt.title('Prices for GOOGL sampled at weekly frequency')\n",
    "plt.show()\n"
   ]
  },
  {
   "cell_type": "code",
   "execution_count": null,
   "metadata": {
    "collapsed": false,
    "pycharm": {
     "name": "#%%\n"
    }
   },
   "outputs": [],
   "source": [
    "df = pd.DataFrame({\n",
    "    'Letter': ['a', 'a', 'a', 'b', 'b', 'b', 'c', 'c', 'c'],\n",
    "    'X': [4, 3, 5, 2, 1, 7, 7, 5, 9],\n",
    "    'Y': [0, 4, 3, 6, 7, 10, 11, 9, 13],\n",
    "    'Z': [1, 2, 3, 1, 2, 3, 1, 2, 3]\n",
    "})\n",
    "\n",
    "% % R - i df ggplot(data=df) + geom_point(aes(x=X, y=Y, color=Letter, size=Z))\n"
   ]
  },
  {
   "cell_type": "code",
   "execution_count": null,
   "metadata": {
    "collapsed": false,
    "pycharm": {
     "name": "#%%\n"
    }
   },
   "outputs": [],
   "source": [
    "df1 = pd.DataFrame([10, 20, 30, 40],  columns=[\n",
    "                   'numbers'], index=['a', 'b', 'c', 'd'])\n",
    "df1\n"
   ]
  },
  {
   "cell_type": "markdown",
   "metadata": {},
   "source": [
    "### 数据清洗\n"
   ]
  },
  {
   "cell_type": "code",
   "execution_count": null,
   "metadata": {},
   "outputs": [],
   "source": [
    "data = {\n",
    "    'Chinese': [66, 95, 93, 90, 80],\n",
    "    'English': [65, 85, 92, 88, 90],\n",
    "    'Math': [30, 98, 96, 77, 90],\n",
    "    'Str': ['aaaa', 'bbbb', 'ccccc', 'ddddd', 'eeeee']\n",
    "}\n",
    "df2 = DataFrame(data, index=['ZhangFei', 'GuanYu', 'ZhaoYun', 'HuangZhong', 'DianWei'],\n",
    "                columns=['English', 'Math', 'Chinese', 'Str'])\n"
   ]
  },
  {
   "cell_type": "code",
   "execution_count": null,
   "metadata": {},
   "outputs": [],
   "source": [
    "df2.rename(columns={'Chinese': 'YuWen', 'English': 'Yingyu'}, inplace=True)\n",
    "print(df2)\n"
   ]
  },
  {
   "cell_type": "code",
   "execution_count": null,
   "metadata": {},
   "outputs": [],
   "source": [
    "print(df2)\n",
    "df2 = df2.drop(columns=['YuWen'])\n",
    "print(df2)\n",
    "\n",
    "df2 = df2.drop(index=['ZhangFei'])\n",
    "print(df2)\n"
   ]
  },
  {
   "cell_type": "code",
   "execution_count": null,
   "metadata": {},
   "outputs": [],
   "source": [
    "df2['Str'] = df2['Str'].apply(str.upper)\n",
    "print(df2)"
   ]
  },
  {
   "cell_type": "code",
   "execution_count": null,
   "metadata": {},
   "outputs": [],
   "source": [
    "def double_df(x):\n",
    "    return 2*x\n",
    "\n",
    "\n",
    "# df1[u'语文'] = df1[u'语文'].apply(double_df)\n",
    "df2['Yingyu'] = df2['Yingyu'].apply(double_df)\n",
    "print(df2)"
   ]
  },
  {
   "cell_type": "markdown",
   "metadata": {},
   "source": [
    "### 格式问题\n"
   ]
  },
  {
   "cell_type": "code",
   "execution_count": null,
   "metadata": {},
   "outputs": [],
   "source": [
    "df2['YuWen'].astype('str')\n",
    "print(df2)\n"
   ]
  },
  {
   "cell_type": "code",
   "execution_count": null,
   "metadata": {},
   "outputs": [],
   "source": [
    "df2['YuWen']['GuanYu'] = \"$99\"\n",
    "print(df2)\n",
    "df2['YuWen'] = df2['YuWen'].str.strip('$')\n",
    "print(df2)\n"
   ]
  },
  {
   "cell_type": "code",
   "execution_count": null,
   "metadata": {},
   "outputs": [],
   "source": [
    "print(df2.isnull())\n"
   ]
  },
  {
   "cell_type": "code",
   "execution_count": null,
   "metadata": {},
   "outputs": [],
   "source": [
    "# 全部大写\n",
    "df2.columns = df2.columns.str.upper()\n",
    "print(df2)\n",
    "# 全部小写\n",
    "df2.columns = df2.columns.str.lower()\n",
    "print(df2)\n",
    "# 首字母大写\n",
    "df2.columns = df2.columns.str.title()\n",
    "print(df2)\n"
   ]
  },
  {
   "cell_type": "markdown",
   "metadata": {},
   "source": [
    "### 数据统计"
   ]
  },
  {
   "cell_type": "code",
   "execution_count": null,
   "metadata": {},
   "outputs": [],
   "source": [
    "df2.describe()"
   ]
  },
  {
   "cell_type": "code",
   "execution_count": null,
   "metadata": {},
   "outputs": [],
   "source": [
    "print(df2)\n",
    "df2.median()"
   ]
  },
  {
   "cell_type": "code",
   "execution_count": null,
   "metadata": {},
   "outputs": [],
   "source": [
    "print(df2['Yingyu'].argmin())"
   ]
  },
  {
   "cell_type": "markdown",
   "metadata": {},
   "source": [
    "### 数据表合并"
   ]
  },
  {
   "cell_type": "code",
   "execution_count": null,
   "metadata": {},
   "outputs": [],
   "source": [
    "df1 = DataFrame({'name':['ZhangFei', 'GuanYu', 'a', 'b', 'c'], 'data1':range(5)})\n",
    "df2 = DataFrame({'name':['ZhangFei', 'GuanYu', 'A', 'B', 'C'], 'data2':range(5)})\n"
   ]
  },
  {
   "cell_type": "code",
   "execution_count": null,
   "metadata": {},
   "outputs": [],
   "source": [
    "pd.merge(df1, df2, on='name')"
   ]
  },
  {
   "cell_type": "code",
   "execution_count": null,
   "metadata": {},
   "outputs": [],
   "source": [
    "df3 = pd.merge(df1, df2, how='inner')\n",
    "df3"
   ]
  },
  {
   "cell_type": "code",
   "execution_count": null,
   "metadata": {},
   "outputs": [],
   "source": [
    "pd.merge(df1, df2, how='left')"
   ]
  },
  {
   "cell_type": "code",
   "execution_count": null,
   "metadata": {},
   "outputs": [],
   "source": [
    "pd.merge(df1, df2, how='outer')"
   ]
  },
  {
   "cell_type": "code",
   "execution_count": null,
   "metadata": {},
   "outputs": [],
   "source": [
    "import pandas as pd\n",
    "from pandas import DataFrame\n",
    "from pandasql import sqldf, load_meat, load_births\n",
    "\n",
    "df1 = DataFrame({'name':['ZhangFei', 'GuanYu', 'a', 'b', 'c'], 'data1':range(5)})\n",
    "pysqldf = lambda sql: sqldf(sql, globals())\n",
    "sql = \"select * from df1 where name ='ZhangFei'\"\n",
    "print(pysqldf(sql))"
   ]
  },
  {
   "cell_type": "markdown",
   "metadata": {},
   "source": [
    "## 练习"
   ]
  },
  {
   "cell_type": "code",
   "execution_count": null,
   "metadata": {},
   "outputs": [],
   "source": [
    "data = {\n",
    "    \"语文\": [66, 95, 95, 90, 80, 80],\n",
    "    \"英语\": [65, 85, 92, 88, 90, 90],\n",
    "    \"数学\": [None, 98, 96, 77, 90,90]}\n",
    "df = DataFrame(data,\n",
    "                index=[\"张飞\", \"关羽\", \"赵云\", \"黄忠\", \"典韦\", \"典韦\"],\n",
    "                columns=[\"语文\", \"英语\", \"数学\"])\n",
    "df\n"
   ]
  },
  {
   "cell_type": "code",
   "execution_count": null,
   "metadata": {},
   "outputs": [],
   "source": [
    "df = df.drop_duplicates()\n",
    "df"
   ]
  },
  {
   "cell_type": "code",
   "execution_count": null,
   "metadata": {},
   "outputs": [],
   "source": [
    "cols = ['英语', '语文', '数学']\n",
    "\n",
    "df = df.filter(cols, axis=1)\n",
    "df"
   ]
  },
  {
   "cell_type": "code",
   "execution_count": null,
   "metadata": {},
   "outputs": [],
   "source": [
    "def total_score(df):\n",
    "    df['总分'] = df['语文'] + df['英语'] + df['数学']\n",
    "    return df\n",
    "\n",
    "\n",
    "# 用 apply 方法求成绩的和\n",
    "df1 = df.apply(total_score, axis=1)\n",
    "df1\n"
   ]
  },
  {
   "cell_type": "code",
   "execution_count": null,
   "metadata": {},
   "outputs": [],
   "source": [
    "df[\"总分数\"] = df.sum(axis=1)\n",
    "df"
   ]
  },
  {
   "cell_type": "code",
   "execution_count": null,
   "metadata": {},
   "outputs": [],
   "source": [
    "# df['总分'] = df['语文'] + df['英语'] + df['数学']\n",
    "# 按照总分排序，从高到低，此时有缺失值\n",
    "df.sort_values(['总分'], ascending=[False], inplace=True)\n",
    "\n",
    "# 打印显示成绩单信息，张飞有空值\n",
    "print(df.isnull().sum())\n",
    "print(df)\n"
   ]
  },
  {
   "cell_type": "code",
   "execution_count": null,
   "metadata": {},
   "outputs": [],
   "source": [
    "# 使用数学成绩均值填充张飞同学的缺失值\n",
    "df['数学'].fillna(df['数学'].mean(), inplace=True)\n",
    "\n",
    "# 再次求成绩的和并打印显示成绩单情况\n",
    "df = df.apply(total_score, axis=1)\n",
    "print(df.isnull().sum())\n",
    "print(df)\n"
   ]
  }
 ],
 "metadata": {
  "kernelspec": {
   "display_name": "Python 3",
   "language": "python",
   "name": "python3"
  },
  "language_info": {
   "codemirror_mode": {
    "name": "ipython",
    "version": 3
   },
   "file_extension": ".py",
   "mimetype": "text/x-python",
   "name": "python",
   "nbconvert_exporter": "python",
   "pygments_lexer": "ipython3",
   "version": "3.11.3"
  },
  "toc": {
   "base_numbering": 1,
   "nav_menu": {},
   "number_sections": true,
   "sideBar": true,
   "skip_h1_title": false,
   "title_cell": "Table of Contents",
   "title_sidebar": "Contents",
   "toc_cell": false,
   "toc_position": {},
   "toc_section_display": true,
   "toc_window_display": false
  },
  "varInspector": {
   "cols": {
    "lenName": 16,
    "lenType": 16,
    "lenVar": 40
   },
   "kernels_config": {
    "python": {
     "delete_cmd_postfix": "",
     "delete_cmd_prefix": "del ",
     "library": "var_list.py",
     "varRefreshCmd": "print(var_dic_list())"
    },
    "r": {
     "delete_cmd_postfix": ") ",
     "delete_cmd_prefix": "rm(",
     "library": "var_list.r",
     "varRefreshCmd": "cat(var_dic_list()) "
    }
   },
   "types_to_exclude": [
    "module",
    "function",
    "builtin_function_or_method",
    "instance",
    "_Feature"
   ],
   "window_display": false
  }
 },
 "nbformat": 4,
 "nbformat_minor": 4
}
