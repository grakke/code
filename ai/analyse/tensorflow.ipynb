{
 "cells": [
  {
   "cell_type": "code",
   "execution_count": null,
   "metadata": {
    "collapsed": true
   },
   "outputs": [],
   "source": [
    "import tensorflow as tf\n",
    "\n",
    "sess = tf.InteractiveSession()\n",
    "\n",
    "with tf.name_scope('input'):\n",
    "    input1 = tf.constant([1.0,2.0,3.0],name='input1')\n",
    "    input2 = tf.Variable(tf.random_uniform_initializer([3]), name='input2')\n",
    "tf.initializers.run()\n",
    "\n",
    "with tf.name_scope('add'):\n",
    "    output=tf.add(input1,input2,name=\"add\")\n",
    "\n",
    "writer =tf.train.SummeryWriter(\"../data/demo-hello\",sess.graph)\n",
    "print(output.eval())"
   ]
  }
 ],
 "metadata": {
  "kernelspec": {
   "display_name": "Python 3",
   "language": "python",
   "name": "python3"
  },
  "language_info": {
   "codemirror_mode": {
    "name": "ipython",
    "version": 2
   },
   "file_extension": ".py",
   "mimetype": "text/x-python",
   "name": "python",
   "nbconvert_exporter": "python",
   "pygments_lexer": "ipython2",
   "version": "2.7.6"
  }
 },
 "nbformat": 4,
 "nbformat_minor": 0
}
