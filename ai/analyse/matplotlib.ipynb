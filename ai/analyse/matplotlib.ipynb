{
 "cells": [
  {
   "cell_type": "markdown",
   "metadata": {},
   "source": [
    "## Matplotlib\n"
   ]
  },
  {
   "cell_type": "code",
   "execution_count": null,
   "metadata": {},
   "outputs": [],
   "source": [
    "#! /usr/bin/env python\n",
    "# coding=utf-8\n",
    "import matplotlib.pyplot as plt\n",
    "from pylab import *\n",
    "import numpy as np\n",
    "import math\n",
    "%matplotlib inline\n"
   ]
  },
  {
   "cell_type": "markdown",
   "metadata": {},
   "source": [
    "## 曲线"
   ]
  },
  {
   "cell_type": "code",
   "execution_count": null,
   "metadata": {},
   "outputs": [],
   "source": [
    "plt.rcParams[\"font.sans-serif\"] = [\"SimHei\"]  # 设置字体\n",
    "plt.rcParams[\"axes.unicode_minus\"] = False  # 正常显示负号\n",
    "x = np.arange(0, math.pi*2, 0.5)\n",
    "y = np.sin(x)\n",
    "\n",
    "plt.xlabel(\"angle\")\n",
    "plt.ylabel(\"sine\")\n",
    "plt.title('sine wave')\n",
    "plt.plot(x, y)\n",
    "# 调用绘图查看器窗口\n",
    "plt.show()\n"
   ]
  },
  {
   "cell_type": "code",
   "execution_count": null,
   "metadata": {},
   "outputs": [],
   "source": [
    " x = linspace(-3, 3, 30)\n",
    " plot(x, sin(x))\n",
    " plot(x, cos(x), 'r-')\n",
    " plot(x, -sin(x), 'g--')\n",
    " show()"
   ]
  },
  {
   "cell_type": "code",
   "execution_count": null,
   "metadata": {
    "collapsed": false,
    "pycharm": {
     "name": "#%%\n"
    }
   },
   "outputs": [],
   "source": [
    "np.random.seed(1000)\n",
    "y = np.random.standard_normal(20)\n",
    "x = range(len(y))\n",
    "\n",
    "plt.grid(True)\n",
    "plt.axis('tight')\n",
    "plt.plot(x, y)\n",
    "# plt.plot(y.cumsum())\n"
   ]
  },
  {
   "cell_type": "code",
   "execution_count": null,
   "metadata": {
    "collapsed": true
   },
   "outputs": [],
   "source": [
    "x = np.linspace(-3, 3, 50)\n",
    "y1 = 2*x + 1\n",
    "y2 = x**2\n",
    "\n",
    "plt.grid(True)\n",
    "plt.axis('tight')\n",
    "plt.xlabel('index')\n",
    "plt.ylabel('value')\n",
    "plt.title('A SImple Plot')\n",
    "\n",
    "# num=3表示图片上方标题 变为figure3，figsize=(长，宽)设置figure大小\n",
    "plt.figure(num=3, figsize=(8, 5))\n",
    "plt.plot(y2)\n",
    "\n",
    "# 红色虚线直线宽度默认为1.0\n",
    "plt.plot(y1, 'ro', lw=1.0)\n"
   ]
  },
  {
   "cell_type": "code",
   "execution_count": null,
   "metadata": {
    "collapsed": false,
    "pycharm": {
     "name": "#%%\n"
    }
   },
   "outputs": [],
   "source": [
    "np.random.seed(2000)\n",
    "y = np.random.standard_normal((20, 2)).cumsum(axis=0)\n",
    "plt.figure(figsize=(7, 4))\n",
    "\n",
    "plt.plot(y[:, 0], lw=1.5, label='1st')\n",
    "plt.plot(y[:, 1], lw=1.5, label='2nd')\n",
    "plt.plot(y, 'ro')\n",
    "\n",
    "plt.grid(True)\n",
    "plt.legend(loc=0)\n",
    "plt.axis('tight')\n",
    "plt.xlabel('index')\n",
    "plt.ylabel('value')\n",
    "plt.title('A Simple Plot')\n"
   ]
  },
  {
   "cell_type": "code",
   "execution_count": null,
   "metadata": {},
   "outputs": [],
   "source": [
    "y[:, 0] = y[:, 0] * 100\n",
    "fig, ax1 = plt.subplots()\n",
    "plt.plot(y[:, 0], lw=1.5, label='1st')\n",
    "plt.plot(y[:, 0], 'ro')\n",
    "plt.grid(True)\n",
    "plt.legend(loc=8)\n",
    "plt.axis('tight')\n",
    "plt.xlabel('index')\n",
    "plt.ylabel('value 1st')\n",
    "plt.title('A Simple Plot')\n",
    "\n",
    "ax2 = ax1.twinx()\n",
    "plt.plot(y[:, 1], lw=1.5, label='2nd')\n",
    "plt.plot(y[:, 1], 'ro')\n",
    "plt.legend(loc=0)\n",
    "plt.ylabel('value 2nd')\n"
   ]
  },
  {
   "cell_type": "markdown",
   "metadata": {},
   "source": [
    "## Figure"
   ]
  },
  {
   "cell_type": "code",
   "execution_count": null,
   "metadata": {},
   "outputs": [],
   "source": [
    "# 显示中文设置...\n",
    "# plt.rcParams['font.sans-serif'] = ['SimHei'] # 步骤一(替换sans-serif字体)\n",
    "# plt.rcParams['axes.unicode_minus'] = False # 步骤二(解决坐标轴负数的负号显示问题)\n",
    "%matplotlib inline\n",
    "x = np.arange(0, math.pi*2, 0.05)\n",
    "y = np.sin(x)\n",
    "fig = plt.figure()\n",
    "\n",
    "ax = fig.add_axes([0,0,1,1])\n",
    "ax.plot(x,y)\n",
    "ax.set_title(\"正弦波\")\n",
    "ax.set_xlabel('角度')\n",
    "ax.set_ylabel('正弦')\n",
    "plt.show()"
   ]
  },
  {
   "cell_type": "code",
   "execution_count": null,
   "metadata": {
    "collapsed": false,
    "pycharm": {
     "name": "#%%\n"
    }
   },
   "outputs": [],
   "source": [
    "x = np.linspace(0, 1, 1000)**1.5\n",
    "# Here you get the output of the function\n",
    "plt.hist(x)\n"
   ]
  },
  {
   "cell_type": "code",
   "execution_count": null,
   "metadata": {},
   "outputs": [],
   "source": [
    "# num=3表示图片上方标题 变为figure3，figsize=(长，宽)设置figure大小\n",
    "plt.figure(num=3, figsize=(8, 5))\n",
    "\n",
    "# 设置轴范围\n",
    "plt.xlim((-1, 2))\n",
    "plt.ylim((-2, 3))\n",
    "\n",
    "# 设置坐标含义\n",
    "plt.xlabel(u'价格', fontproperties='SimHei')\n",
    "plt.ylabel(u'利润', fontproperties='SimHei')\n",
    "\n",
    "# 设置x轴刻度 -1到2区间 5个点 4个区间 [-1.,-0.25.,0.5.,2.15.,2.]\n",
    "new_ticks = np.linspace(-1, 2, 5)\n",
    "print(new_ticks)\n",
    "plt.xticks(new_ticks)\n",
    "'''\n",
    "设置对应坐标用汉字或英文表示，后面的属性fontproperties表示中文可见，不乱码，\n",
    "内部英文$$表示将英文括起来，r表示正则匹配，通过这个方式将其变为好看的字体\n",
    "如果要显示特殊字符，比如阿尔法，则用转意符\\alpha,前面的\\ 表示空格转意\n",
    "'''\n",
    "plt.yticks([-2, -1.8, -1, 1.22, 3.], ['非常糟糕', '糟糕', r'$good\\ \\alpha$',\n",
    "           r'$really\\ good$', '超级好'], fontproperties='SimHei')\n",
    "\n",
    "plt.plot(x, y2)\n",
    "# 红色虚线直线宽度默认为1.0\n",
    "plt.plot(x, y1, color='red', linewidth=1.0, linestyle='--')\n",
    "\n",
    "plt.show()\n"
   ]
  },
  {
   "cell_type": "code",
   "execution_count": null,
   "metadata": {},
   "outputs": [],
   "source": [
    "import matplotlib.pyplot as plt\n",
    "import numpy as np\n",
    "\n",
    "x = np.linspace(-3, 3, 20)\n",
    "y = 2*x+1\n",
    "# 绘制直线\n",
    "plt.figure(num=1, figsize=(8, 5),)\n",
    "plt.plot(x, y)\n",
    "# gca='get current axis/获取当前轴线'\n",
    "ax = plt.gca()\n",
    "# spines就是脊梁，即四个边框\n",
    "# 取消右边与上边轴\n",
    "ax.spines['right'].set_color('none')\n",
    "ax.spines['top'].set_color('none')\n",
    "ax.xaxis.set_ticks_position('bottom')\n",
    "# 也可以是('axes',0.1)后面是百分比，相当于定位到10%处\n",
    "ax.spines['bottom'].set_position(('data', -0))\n",
    "ax.yaxis.set_ticks_position('left')\n",
    "ax.spines['left'].set_position(('data', 0))\n",
    "\n",
    "# 绘制特定散点\n",
    "x0 = 1\n",
    "y0 = 2*x0+1\n",
    "# plot散点图，上述plt.plot(x,y)变为plt.scatter(x,y)绘制出来就是散点图\n",
    "# s代表大小，b代表blue\n",
    "plt.scatter(x0, y0, s=50, color='b')\n",
    "# 把两个点放进去plot一下，画出垂直于x轴的一条线，[x0,x0]表示两个点的x,[0,y0]表示两个点的y\n",
    "\n",
    "# 绘制(x0,y0)垂直于x轴的线\n",
    "# k--表示黑色虚线，k代表黑色，--表示虚线,lw表示线宽\n",
    "plt.plot([x0, x0], [0, y0], 'k--', lw=2.5)\n",
    "\n",
    "# 添加注释 annotate\n",
    "\n",
    "'''\n",
    "其中参数xycoords='data' 是说基于数据的值来选位置, xytext=(+30, -30) 和 textcoords='offset points'\n",
    "对于标注位置的描述 和 xy 偏差值, arrowprops是对图中箭头类型的一些设置.\n",
    "'''\n",
    "plt.annotate(r'$2x+1=%s$' % y0, xy=(x0, y0), xycoords='data', xytext=(+30, -30), textcoords='offset points',\n",
    "             fontsize=16, arrowprops=dict(arrowstyle='->', connectionstyle='arc3,rad=.2'))\n",
    "\n",
    "# 添加注释 text\n",
    "# 其中-3.7, 3,是选取text的位置, 空格需要用到转字符\\ ,fontdict设置文本字体.\n",
    "plt.text(-3.7, 3, r'$This\\ is\\ the\\ some\\ text.\\mu\\ \\sigma_i\\ \\alpha_t$',\n",
    "         fontdict={'size': '16', 'color': 'red'})\n",
    "plt.show()\n"
   ]
  },
  {
   "cell_type": "code",
   "execution_count": null,
   "metadata": {},
   "outputs": [],
   "source": [
    "x = np.linspace(-3, 3, 50)\n",
    "y = 0.1*x\n",
    "\n",
    "plt.figure()\n",
    "# 设置 zorder 给 plot 在 z 轴方向排序\n",
    "plt.plot(x, y, linewidth=10, zorder=1)\n",
    "plt.ylim(-2, 2)\n",
    "ax = plt.gca()\n",
    "ax.spines['right'].set_color('none')\n",
    "ax.spines['top'].set_color('none')\n",
    "ax.spines['top'].set_color('none')\n",
    "ax.xaxis.set_ticks_position('bottom')\n",
    "ax.spines['bottom'].set_position(('data', 0))\n",
    "ax.yaxis.set_ticks_position('left')\n",
    "ax.spines['left'].set_position(('data', 0))\n",
    "\n",
    "# 调整坐标\n",
    "# 对被遮挡的图像调节相关透明度，本例中设置 x轴 和 y轴 的刻度数字进行透明度设置\n",
    "for label in ax.get_xticklabels()+ax.get_yticklabels():\n",
    "    label.set_fontsize(12)\n",
    "    '''\n",
    "    其中label.set_fontsize(12)重新调节字体大小，bbox设置目的内容的透明度相关参，facecolor调节 box 前景色，edgecolor 设置边框， 本处设置边框为无，alpha设置透明度.\n",
    "    '''\n",
    "    # 其中label.set_fontsize(12)重新调节字体大小，bbox设置目的内容的透明度相关参，facecolor调节 box 前景色，edgecolor 设置边框， 本处设置边框为无，alpha设置透明度.\n",
    "    label.set_bbox(dict(facecolor='white', edgecolor='none', alpha=0.7))\n",
    "\n",
    "plt.show()\n"
   ]
  },
  {
   "cell_type": "markdown",
   "metadata": {
    "collapsed": true
   },
   "source": [
    "## 折线\n"
   ]
  },
  {
   "cell_type": "code",
   "execution_count": null,
   "metadata": {},
   "outputs": [],
   "source": [
    "import numpy as np\n",
    "import matplotlib.pyplot as plt\n",
    "from mpl_toolkits.mplot3d import Axes3D\n",
    "\n",
    "\n",
    "def f(x):\n",
    "    return x**2\n",
    "\n",
    "\n",
    "X = np.linspace(-5, 5)\n",
    "Y = f(X)\n",
    "\n",
    "# 一张 figure 下画图，知道下一个figure声明\n",
    "plt.figure()\n",
    "plt.plot(X, Y)\n",
    "plt.plot(X, X * 2)\n",
    "\n",
    "# 打点\n",
    "x0 = 3\n",
    "y0 = f(x0)\n",
    "print(\"x = {}, y = {}\".format(x0, y0))\n",
    "plt.scatter(x0, y0, c='r', s=70)\n",
    "plt.annotate(\"({},{})\".format(x0, y0), (x0, y0))\n",
    "\n",
    "plt.scatter(-2, 1, c='b', s=700)\n",
    "plt.text(-2, 3, 'Figure info:')  # 文本覆盖\n",
    "plt.show()\n"
   ]
  },
  {
   "cell_type": "markdown",
   "metadata": {
    "collapsed": false,
    "pycharm": {
     "name": "#%%\n"
    }
   },
   "source": [
    "## 散点\n"
   ]
  },
  {
   "cell_type": "code",
   "execution_count": null,
   "metadata": {},
   "outputs": [],
   "source": [
    "n = 100\n",
    "\n",
    "X1 = np.random.random(n)\n",
    "Y1 = np.random.random(n)\n",
    "X2 = np.random.random(n)\n",
    "Y2 = np.random.random(n)\n",
    "\n",
    "plt.scatter(X1, Y1)\n",
    "plt.scatter(X2, Y2, color='purple')\n"
   ]
  },
  {
   "cell_type": "markdown",
   "metadata": {
    "collapsed": false,
    "pycharm": {
     "name": "#%%\n"
    }
   },
   "source": [
    "## 柱状\n"
   ]
  },
  {
   "cell_type": "code",
   "execution_count": null,
   "metadata": {},
   "outputs": [],
   "source": [
    "\n",
    "plt.bar(np.arange(12), np.random.random(12))\n"
   ]
  },
  {
   "cell_type": "markdown",
   "metadata": {},
   "source": [
    "## 3D"
   ]
  },
  {
   "cell_type": "code",
   "execution_count": null,
   "metadata": {
    "collapsed": false,
    "pycharm": {
     "name": "#%%\n"
    }
   },
   "outputs": [],
   "source": [
    "from mpl_toolkits.mplot3d import Axes3D\n",
    "\n",
    "\n",
    "fig = plt.figure()\n",
    "ax = Axes3D(fig)\n",
    "\n",
    "X3 = np.arange(-4, 4, 0.25)\n",
    "Y3 = np.arange(-4, 4, 0.25)\n",
    "X3, Y3 = np.meshgrid(X3, Y3)\n",
    "z = -(X3**2 + Y3**2)\n",
    "\n",
    "ax.plot_surface(X3, Y3, z, cmap=plt.cm.rainbow_r)\n"
   ]
  }
 ],
 "metadata": {
  "kernelspec": {
   "display_name": "Python 3 (ipykernel)",
   "language": "python",
   "name": "python3"
  },
  "language_info": {
   "codemirror_mode": {
    "name": "ipython",
    "version": 3
   },
   "file_extension": ".py",
   "mimetype": "text/x-python",
   "name": "python",
   "nbconvert_exporter": "python",
   "pygments_lexer": "ipython3",
   "version": "3.11.0"
  }
 },
 "nbformat": 4,
 "nbformat_minor": 2
}
